{
  "nbformat": 4,
  "nbformat_minor": 0,
  "metadata": {
    "kernelspec": {
      "display_name": "Python 3",
      "language": "python",
      "name": "python3"
    },
    "colab": {
      "name": "Copy of lesson1-pets.ipynb",
      "provenance": []
    },
    "accelerator": "GPU"
  },
  "cells": [
    {
      "cell_type": "markdown",
      "metadata": {
        "id": "sSMCottRh_Oq",
        "colab_type": "text"
      },
      "source": [
        "# Lesson 1 - What's your pet"
      ]
    },
    {
      "cell_type": "code",
      "metadata": {
        "id": "UzS5kuRZj-6T",
        "colab_type": "code",
        "outputId": "5a3fdfe1-a249-4b0a-f092-dbffaa5bee66",
        "colab": {
          "base_uri": "https://localhost:8080/",
          "height": 52
        }
      },
      "source": [
        "  !curl -s https://course.fast.ai/setup/colab | bash\n",
        "  import warnings; warnings.simplefilter('ignore')"
      ],
      "execution_count": 1,
      "outputs": [
        {
          "output_type": "stream",
          "text": [
            "Updating fastai...\n",
            "Done.\n"
          ],
          "name": "stdout"
        }
      ]
    },
    {
      "cell_type": "markdown",
      "metadata": {
        "id": "cGmuMeEuh_Os",
        "colab_type": "text"
      },
      "source": [
        "Welcome to lesson 1! For those of you who are using a Jupyter Notebook for the first time, you can learn about this useful tool in a tutorial we prepared specially for you; click `File`->`Open` now and click `00_notebook_tutorial.ipynb`. \n",
        "\n",
        "In this lesson we will build our first image classifier from scratch, and see if we can achieve world-class results. Let's dive in!\n",
        "\n",
        "Every notebook starts with the following three lines; they ensure that any edits to libraries you make are reloaded here automatically, and also that any charts or images displayed are shown in this notebook."
      ]
    },
    {
      "cell_type": "code",
      "metadata": {
        "id": "wltsa7vFh_Ou",
        "colab_type": "code",
        "colab": {}
      },
      "source": [
        "%reload_ext autoreload\n",
        "%autoreload 2\n",
        "%matplotlib inline"
      ],
      "execution_count": 0,
      "outputs": []
    },
    {
      "cell_type": "markdown",
      "metadata": {
        "id": "l8Ufi9HMh_O8",
        "colab_type": "text"
      },
      "source": [
        "We import all the necessary packages. We are going to work with the [fastai V1 library](http://www.fast.ai/2018/10/02/fastai-ai/) which sits on top of [Pytorch 1.0](https://hackernoon.com/pytorch-1-0-468332ba5163). The fastai library provides many useful functions that enable us to quickly and easily build neural networks and train our models."
      ]
    },
    {
      "cell_type": "code",
      "metadata": {
        "id": "nR_Tmrm_h_O-",
        "colab_type": "code",
        "colab": {}
      },
      "source": [
        "from fastai import *\n",
        "from fastai.vision import *\n",
        "import numpy as np"
      ],
      "execution_count": 0,
      "outputs": []
    },
    {
      "cell_type": "markdown",
      "metadata": {
        "id": "wb11w8xIh_PF",
        "colab_type": "text"
      },
      "source": [
        "If you're using a computer with an unusually small GPU, you may get an out of memory error when running this notebook. If this happens, click Kernel->Restart, uncomment the 2nd line below to use a smaller *batch size* (you'll learn all about what this means during the course), and try again."
      ]
    },
    {
      "cell_type": "code",
      "metadata": {
        "id": "Ft6O-hISh_PH",
        "colab_type": "code",
        "colab": {}
      },
      "source": [
        "bs = 64\n",
        "# bs = 16   # uncomment this line if you run out of memory even after clicking Kernel->Restart"
      ],
      "execution_count": 0,
      "outputs": []
    },
    {
      "cell_type": "markdown",
      "metadata": {
        "id": "5x0VGnHvh_PO",
        "colab_type": "text"
      },
      "source": [
        "## Looking at the data"
      ]
    },
    {
      "cell_type": "markdown",
      "metadata": {
        "id": "rLrcxrgFh_PQ",
        "colab_type": "text"
      },
      "source": [
        "We are going to use the [Oxford-IIIT Pet Dataset](http://www.robots.ox.ac.uk/~vgg/data/pets/) by [O. M. Parkhi et al., 2012](http://www.robots.ox.ac.uk/~vgg/publications/2012/parkhi12a/parkhi12a.pdf) which features 12 cat breeds and 25 dogs breeds. Our model will need to learn to differentiate between these 37 distinct categories. According to their paper, the best accuracy they could get in 2012 was 59.21%, using a complex model that was specific to pet detection, with separate \"Image\", \"Head\", and \"Body\" models for the pet photos. Let's see how accurate we can be using deep learning!\n",
        "\n",
        "We are going to use the `untar_data` function to which we must pass a URL as an argument and which will download and extract the data."
      ]
    },
    {
      "cell_type": "code",
      "metadata": {
        "id": "uNX13V5Hh_PY",
        "colab_type": "code",
        "outputId": "4e0ab00e-90a0-470b-8e7b-4c1779bc9cc4",
        "colab": {
          "base_uri": "https://localhost:8080/",
          "height": 52
        }
      },
      "source": [
        "path = untar_data(URLs.PETS); path"
      ],
      "execution_count": 23,
      "outputs": [
        {
          "output_type": "stream",
          "text": [
            "Downloading https://s3.amazonaws.com/fast-ai-imageclas/oxford-iiit-pet.tgz\n"
          ],
          "name": "stdout"
        },
        {
          "output_type": "display_data",
          "data": {
            "text/html": [
              ""
            ],
            "text/plain": [
              "<IPython.core.display.HTML object>"
            ]
          },
          "metadata": {
            "tags": []
          }
        },
        {
          "output_type": "execute_result",
          "data": {
            "text/plain": [
              "PosixPath('/root/.fastai/data/oxford-iiit-pet')"
            ]
          },
          "metadata": {
            "tags": []
          },
          "execution_count": 23
        }
      ]
    },
    {
      "cell_type": "code",
      "metadata": {
        "id": "5H6QANyBh_Pg",
        "colab_type": "code",
        "outputId": "8fa2d9de-2e8c-4c72-b8db-b9597a85a71d",
        "colab": {
          "base_uri": "https://localhost:8080/",
          "height": 52
        }
      },
      "source": [
        "path.ls()"
      ],
      "execution_count": 24,
      "outputs": [
        {
          "output_type": "execute_result",
          "data": {
            "text/plain": [
              "[PosixPath('/root/.fastai/data/oxford-iiit-pet/annotations'),\n",
              " PosixPath('/root/.fastai/data/oxford-iiit-pet/images')]"
            ]
          },
          "metadata": {
            "tags": []
          },
          "execution_count": 24
        }
      ]
    },
    {
      "cell_type": "code",
      "metadata": {
        "id": "EB0dTQGbh_Pl",
        "colab_type": "code",
        "colab": {}
      },
      "source": [
        "path_anno = path/'annotations'\n",
        "path_img = path/'images'"
      ],
      "execution_count": 0,
      "outputs": []
    },
    {
      "cell_type": "markdown",
      "metadata": {
        "id": "ftHHxr2vh_Pr",
        "colab_type": "text"
      },
      "source": [
        "The first thing we do when we approach a problem is to take a look at the data. We _always_ need to understand very well what the problem is and what the data looks like before we can figure out how to solve it. Taking a look at the data means understanding how the data directories are structured, what the labels are and what some sample images look like.\n",
        "\n",
        "The main difference between the handling of image classification datasets is the way labels are stored. In this particular dataset, labels are stored in the filenames themselves. We will need to extract them to be able to classify the images into the correct categories. Fortunately, the fastai library has a handy function made exactly for this, `ImageDataBunch.from_name_re` gets the labels from the filenames using a [regular expression](https://docs.python.org/3.6/library/re.html)."
      ]
    },
    {
      "cell_type": "code",
      "metadata": {
        "id": "Yw9I5IqVh_Ps",
        "colab_type": "code",
        "outputId": "e9eaeabd-b2a3-4b76-c02e-fcd03f3ff66e",
        "colab": {
          "base_uri": "https://localhost:8080/",
          "height": 1000
        }
      },
      "source": [
        "fnames = get_image_files(path_img)\n",
        "fnames[:5]\n",
        "len(fnames)\n",
        "fnames"
      ],
      "execution_count": 42,
      "outputs": [
        {
          "output_type": "execute_result",
          "data": {
            "text/plain": [
              "[PosixPath('/root/.fastai/data/oxford-iiit-pet/images/scottish_terrier_116.jpg'),\n",
              " PosixPath('/root/.fastai/data/oxford-iiit-pet/images/scottish_terrier_63.jpg'),\n",
              " PosixPath('/root/.fastai/data/oxford-iiit-pet/images/american_bulldog_191.jpg'),\n",
              " PosixPath('/root/.fastai/data/oxford-iiit-pet/images/pomeranian_141.jpg'),\n",
              " PosixPath('/root/.fastai/data/oxford-iiit-pet/images/american_pit_bull_terrier_128.jpg'),\n",
              " PosixPath('/root/.fastai/data/oxford-iiit-pet/images/german_shorthaired_45.jpg'),\n",
              " PosixPath('/root/.fastai/data/oxford-iiit-pet/images/Siamese_188.jpg'),\n",
              " PosixPath('/root/.fastai/data/oxford-iiit-pet/images/basset_hound_133.jpg'),\n",
              " PosixPath('/root/.fastai/data/oxford-iiit-pet/images/chihuahua_188.jpg'),\n",
              " PosixPath('/root/.fastai/data/oxford-iiit-pet/images/Bengal_10.jpg'),\n",
              " PosixPath('/root/.fastai/data/oxford-iiit-pet/images/leonberger_153.jpg'),\n",
              " PosixPath('/root/.fastai/data/oxford-iiit-pet/images/keeshond_198.jpg'),\n",
              " PosixPath('/root/.fastai/data/oxford-iiit-pet/images/yorkshire_terrier_9.jpg'),\n",
              " PosixPath('/root/.fastai/data/oxford-iiit-pet/images/shiba_inu_113.jpg'),\n",
              " PosixPath('/root/.fastai/data/oxford-iiit-pet/images/Bombay_9.jpg'),\n",
              " PosixPath('/root/.fastai/data/oxford-iiit-pet/images/keeshond_150.jpg'),\n",
              " PosixPath('/root/.fastai/data/oxford-iiit-pet/images/english_cocker_spaniel_123.jpg'),\n",
              " PosixPath('/root/.fastai/data/oxford-iiit-pet/images/Ragdoll_43.jpg'),\n",
              " PosixPath('/root/.fastai/data/oxford-iiit-pet/images/pug_121.jpg'),\n",
              " PosixPath('/root/.fastai/data/oxford-iiit-pet/images/British_Shorthair_92.jpg'),\n",
              " PosixPath('/root/.fastai/data/oxford-iiit-pet/images/Siamese_171.jpg'),\n",
              " PosixPath('/root/.fastai/data/oxford-iiit-pet/images/Ragdoll_37.jpg'),\n",
              " PosixPath('/root/.fastai/data/oxford-iiit-pet/images/newfoundland_134.jpg'),\n",
              " PosixPath('/root/.fastai/data/oxford-iiit-pet/images/Siamese_88.jpg'),\n",
              " PosixPath('/root/.fastai/data/oxford-iiit-pet/images/Abyssinian_31.jpg'),\n",
              " PosixPath('/root/.fastai/data/oxford-iiit-pet/images/Sphynx_72.jpg'),\n",
              " PosixPath('/root/.fastai/data/oxford-iiit-pet/images/shiba_inu_204.jpg'),\n",
              " PosixPath('/root/.fastai/data/oxford-iiit-pet/images/japanese_chin_32.jpg'),\n",
              " PosixPath('/root/.fastai/data/oxford-iiit-pet/images/Sphynx_98.jpg'),\n",
              " PosixPath('/root/.fastai/data/oxford-iiit-pet/images/Persian_117.jpg'),\n",
              " PosixPath('/root/.fastai/data/oxford-iiit-pet/images/keeshond_133.jpg'),\n",
              " PosixPath('/root/.fastai/data/oxford-iiit-pet/images/english_cocker_spaniel_125.jpg'),\n",
              " PosixPath('/root/.fastai/data/oxford-iiit-pet/images/english_setter_107.jpg'),\n",
              " PosixPath('/root/.fastai/data/oxford-iiit-pet/images/beagle_130.jpg'),\n",
              " PosixPath('/root/.fastai/data/oxford-iiit-pet/images/Sphynx_44.jpg'),\n",
              " PosixPath('/root/.fastai/data/oxford-iiit-pet/images/samoyed_144.jpg'),\n",
              " PosixPath('/root/.fastai/data/oxford-iiit-pet/images/english_cocker_spaniel_173.jpg'),\n",
              " PosixPath('/root/.fastai/data/oxford-iiit-pet/images/Ragdoll_179.jpg'),\n",
              " PosixPath('/root/.fastai/data/oxford-iiit-pet/images/saint_bernard_73.jpg'),\n",
              " PosixPath('/root/.fastai/data/oxford-iiit-pet/images/wheaten_terrier_87.jpg'),\n",
              " PosixPath('/root/.fastai/data/oxford-iiit-pet/images/havanese_32.jpg'),\n",
              " PosixPath('/root/.fastai/data/oxford-iiit-pet/images/saint_bernard_102.jpg'),\n",
              " PosixPath('/root/.fastai/data/oxford-iiit-pet/images/Russian_Blue_83.jpg'),\n",
              " PosixPath('/root/.fastai/data/oxford-iiit-pet/images/Persian_269.jpg'),\n",
              " PosixPath('/root/.fastai/data/oxford-iiit-pet/images/Maine_Coon_39.jpg'),\n",
              " PosixPath('/root/.fastai/data/oxford-iiit-pet/images/shiba_inu_24.jpg'),\n",
              " PosixPath('/root/.fastai/data/oxford-iiit-pet/images/keeshond_184.jpg'),\n",
              " PosixPath('/root/.fastai/data/oxford-iiit-pet/images/wheaten_terrier_98.jpg'),\n",
              " PosixPath('/root/.fastai/data/oxford-iiit-pet/images/keeshond_8.jpg'),\n",
              " PosixPath('/root/.fastai/data/oxford-iiit-pet/images/Egyptian_Mau_58.jpg'),\n",
              " PosixPath('/root/.fastai/data/oxford-iiit-pet/images/Russian_Blue_207.jpg'),\n",
              " PosixPath('/root/.fastai/data/oxford-iiit-pet/images/chihuahua_16.jpg'),\n",
              " PosixPath('/root/.fastai/data/oxford-iiit-pet/images/Bengal_59.jpg'),\n",
              " PosixPath('/root/.fastai/data/oxford-iiit-pet/images/keeshond_194.jpg'),\n",
              " PosixPath('/root/.fastai/data/oxford-iiit-pet/images/shiba_inu_118.jpg'),\n",
              " PosixPath('/root/.fastai/data/oxford-iiit-pet/images/pug_98.jpg'),\n",
              " PosixPath('/root/.fastai/data/oxford-iiit-pet/images/Ragdoll_190.jpg'),\n",
              " PosixPath('/root/.fastai/data/oxford-iiit-pet/images/Siamese_54.jpg'),\n",
              " PosixPath('/root/.fastai/data/oxford-iiit-pet/images/newfoundland_130.jpg'),\n",
              " PosixPath('/root/.fastai/data/oxford-iiit-pet/images/saint_bernard_137.jpg'),\n",
              " PosixPath('/root/.fastai/data/oxford-iiit-pet/images/beagle_93.jpg'),\n",
              " PosixPath('/root/.fastai/data/oxford-iiit-pet/images/boxer_7.jpg'),\n",
              " PosixPath('/root/.fastai/data/oxford-iiit-pet/images/Abyssinian_174.jpg'),\n",
              " PosixPath('/root/.fastai/data/oxford-iiit-pet/images/Maine_Coon_71.jpg'),\n",
              " PosixPath('/root/.fastai/data/oxford-iiit-pet/images/staffordshire_bull_terrier_132.jpg'),\n",
              " PosixPath('/root/.fastai/data/oxford-iiit-pet/images/yorkshire_terrier_154.jpg'),\n",
              " PosixPath('/root/.fastai/data/oxford-iiit-pet/images/staffordshire_bull_terrier_22.jpg'),\n",
              " PosixPath('/root/.fastai/data/oxford-iiit-pet/images/miniature_pinscher_117.jpg'),\n",
              " PosixPath('/root/.fastai/data/oxford-iiit-pet/images/staffordshire_bull_terrier_156.jpg'),\n",
              " PosixPath('/root/.fastai/data/oxford-iiit-pet/images/Abyssinian_197.jpg'),\n",
              " PosixPath('/root/.fastai/data/oxford-iiit-pet/images/pug_139.jpg'),\n",
              " PosixPath('/root/.fastai/data/oxford-iiit-pet/images/wheaten_terrier_37.jpg'),\n",
              " PosixPath('/root/.fastai/data/oxford-iiit-pet/images/yorkshire_terrier_22.jpg'),\n",
              " PosixPath('/root/.fastai/data/oxford-iiit-pet/images/basset_hound_102.jpg'),\n",
              " PosixPath('/root/.fastai/data/oxford-iiit-pet/images/pug_189.jpg'),\n",
              " PosixPath('/root/.fastai/data/oxford-iiit-pet/images/german_shorthaired_3.jpg'),\n",
              " PosixPath('/root/.fastai/data/oxford-iiit-pet/images/japanese_chin_87.jpg'),\n",
              " PosixPath('/root/.fastai/data/oxford-iiit-pet/images/British_Shorthair_271.jpg'),\n",
              " PosixPath('/root/.fastai/data/oxford-iiit-pet/images/great_pyrenees_29.jpg'),\n",
              " PosixPath('/root/.fastai/data/oxford-iiit-pet/images/Abyssinian_88.jpg'),\n",
              " PosixPath('/root/.fastai/data/oxford-iiit-pet/images/Birman_170.jpg'),\n",
              " PosixPath('/root/.fastai/data/oxford-iiit-pet/images/Russian_Blue_264.jpg'),\n",
              " PosixPath('/root/.fastai/data/oxford-iiit-pet/images/samoyed_184.jpg'),\n",
              " PosixPath('/root/.fastai/data/oxford-iiit-pet/images/yorkshire_terrier_102.jpg'),\n",
              " PosixPath('/root/.fastai/data/oxford-iiit-pet/images/english_setter_81.jpg'),\n",
              " PosixPath('/root/.fastai/data/oxford-iiit-pet/images/saint_bernard_158.jpg'),\n",
              " PosixPath('/root/.fastai/data/oxford-iiit-pet/images/american_pit_bull_terrier_172.jpg'),\n",
              " PosixPath('/root/.fastai/data/oxford-iiit-pet/images/american_bulldog_112.jpg'),\n",
              " PosixPath('/root/.fastai/data/oxford-iiit-pet/images/basset_hound_43.jpg'),\n",
              " PosixPath('/root/.fastai/data/oxford-iiit-pet/images/leonberger_167.jpg'),\n",
              " PosixPath('/root/.fastai/data/oxford-iiit-pet/images/japanese_chin_59.jpg'),\n",
              " PosixPath('/root/.fastai/data/oxford-iiit-pet/images/great_pyrenees_25.jpg'),\n",
              " PosixPath('/root/.fastai/data/oxford-iiit-pet/images/saint_bernard_21.jpg'),\n",
              " PosixPath('/root/.fastai/data/oxford-iiit-pet/images/Egyptian_Mau_196.jpg'),\n",
              " PosixPath('/root/.fastai/data/oxford-iiit-pet/images/Egyptian_Mau_39.jpg'),\n",
              " PosixPath('/root/.fastai/data/oxford-iiit-pet/images/Ragdoll_174.jpg'),\n",
              " PosixPath('/root/.fastai/data/oxford-iiit-pet/images/Siamese_71.jpg'),\n",
              " PosixPath('/root/.fastai/data/oxford-iiit-pet/images/scottish_terrier_167.jpg'),\n",
              " PosixPath('/root/.fastai/data/oxford-iiit-pet/images/havanese_73.jpg'),\n",
              " PosixPath('/root/.fastai/data/oxford-iiit-pet/images/Siamese_104.jpg'),\n",
              " PosixPath('/root/.fastai/data/oxford-iiit-pet/images/pug_193.jpg'),\n",
              " PosixPath('/root/.fastai/data/oxford-iiit-pet/images/pomeranian_174.jpg'),\n",
              " PosixPath('/root/.fastai/data/oxford-iiit-pet/images/Maine_Coon_14.jpg'),\n",
              " PosixPath('/root/.fastai/data/oxford-iiit-pet/images/Maine_Coon_138.jpg'),\n",
              " PosixPath('/root/.fastai/data/oxford-iiit-pet/images/Egyptian_Mau_87.jpg'),\n",
              " PosixPath('/root/.fastai/data/oxford-iiit-pet/images/yorkshire_terrier_200.jpg'),\n",
              " PosixPath('/root/.fastai/data/oxford-iiit-pet/images/Russian_Blue_48.jpg'),\n",
              " PosixPath('/root/.fastai/data/oxford-iiit-pet/images/Birman_91.jpg'),\n",
              " PosixPath('/root/.fastai/data/oxford-iiit-pet/images/Egyptian_Mau_220.jpg'),\n",
              " PosixPath('/root/.fastai/data/oxford-iiit-pet/images/samoyed_194.jpg'),\n",
              " PosixPath('/root/.fastai/data/oxford-iiit-pet/images/pug_143.jpg'),\n",
              " PosixPath('/root/.fastai/data/oxford-iiit-pet/images/Sphynx_237.jpg'),\n",
              " PosixPath('/root/.fastai/data/oxford-iiit-pet/images/Bombay_206.jpg'),\n",
              " PosixPath('/root/.fastai/data/oxford-iiit-pet/images/chihuahua_103.jpg'),\n",
              " PosixPath('/root/.fastai/data/oxford-iiit-pet/images/pomeranian_152.jpg'),\n",
              " PosixPath('/root/.fastai/data/oxford-iiit-pet/images/great_pyrenees_112.jpg'),\n",
              " PosixPath('/root/.fastai/data/oxford-iiit-pet/images/Maine_Coon_105.jpg'),\n",
              " PosixPath('/root/.fastai/data/oxford-iiit-pet/images/Bengal_79.jpg'),\n",
              " PosixPath('/root/.fastai/data/oxford-iiit-pet/images/pug_27.jpg'),\n",
              " PosixPath('/root/.fastai/data/oxford-iiit-pet/images/beagle_14.jpg'),\n",
              " PosixPath('/root/.fastai/data/oxford-iiit-pet/images/newfoundland_151.jpg'),\n",
              " PosixPath('/root/.fastai/data/oxford-iiit-pet/images/Egyptian_Mau_45.jpg'),\n",
              " PosixPath('/root/.fastai/data/oxford-iiit-pet/images/staffordshire_bull_terrier_194.jpg'),\n",
              " PosixPath('/root/.fastai/data/oxford-iiit-pet/images/pomeranian_82.jpg'),\n",
              " PosixPath('/root/.fastai/data/oxford-iiit-pet/images/yorkshire_terrier_64.jpg'),\n",
              " PosixPath('/root/.fastai/data/oxford-iiit-pet/images/chihuahua_197.jpg'),\n",
              " PosixPath('/root/.fastai/data/oxford-iiit-pet/images/basset_hound_92.jpg'),\n",
              " PosixPath('/root/.fastai/data/oxford-iiit-pet/images/american_bulldog_118.jpg'),\n",
              " PosixPath('/root/.fastai/data/oxford-iiit-pet/images/great_pyrenees_173.jpg'),\n",
              " PosixPath('/root/.fastai/data/oxford-iiit-pet/images/samoyed_52.jpg'),\n",
              " PosixPath('/root/.fastai/data/oxford-iiit-pet/images/leonberger_174.jpg'),\n",
              " PosixPath('/root/.fastai/data/oxford-iiit-pet/images/Siamese_36.jpg'),\n",
              " PosixPath('/root/.fastai/data/oxford-iiit-pet/images/german_shorthaired_98.jpg'),\n",
              " PosixPath('/root/.fastai/data/oxford-iiit-pet/images/pomeranian_184.jpg'),\n",
              " PosixPath('/root/.fastai/data/oxford-iiit-pet/images/Birman_32.jpg'),\n",
              " PosixPath('/root/.fastai/data/oxford-iiit-pet/images/Bengal_198.jpg'),\n",
              " PosixPath('/root/.fastai/data/oxford-iiit-pet/images/american_bulldog_29.jpg'),\n",
              " PosixPath('/root/.fastai/data/oxford-iiit-pet/images/leonberger_33.jpg'),\n",
              " PosixPath('/root/.fastai/data/oxford-iiit-pet/images/shiba_inu_192.jpg'),\n",
              " PosixPath('/root/.fastai/data/oxford-iiit-pet/images/boxer_39.jpg'),\n",
              " PosixPath('/root/.fastai/data/oxford-iiit-pet/images/Bengal_115.jpg'),\n",
              " PosixPath('/root/.fastai/data/oxford-iiit-pet/images/Birman_9.jpg'),\n",
              " PosixPath('/root/.fastai/data/oxford-iiit-pet/images/newfoundland_154.jpg'),\n",
              " PosixPath('/root/.fastai/data/oxford-iiit-pet/images/keeshond_140.jpg'),\n",
              " PosixPath('/root/.fastai/data/oxford-iiit-pet/images/miniature_pinscher_34.jpg'),\n",
              " PosixPath('/root/.fastai/data/oxford-iiit-pet/images/keeshond_143.jpg'),\n",
              " PosixPath('/root/.fastai/data/oxford-iiit-pet/images/beagle_94.jpg'),\n",
              " PosixPath('/root/.fastai/data/oxford-iiit-pet/images/Bombay_127.jpg'),\n",
              " PosixPath('/root/.fastai/data/oxford-iiit-pet/images/Abyssinian_4.jpg'),\n",
              " PosixPath('/root/.fastai/data/oxford-iiit-pet/images/Maine_Coon_180.jpg'),\n",
              " PosixPath('/root/.fastai/data/oxford-iiit-pet/images/pug_30.jpg'),\n",
              " PosixPath('/root/.fastai/data/oxford-iiit-pet/images/yorkshire_terrier_181.jpg'),\n",
              " PosixPath('/root/.fastai/data/oxford-iiit-pet/images/Abyssinian_176.jpg'),\n",
              " PosixPath('/root/.fastai/data/oxford-iiit-pet/images/keeshond_119.jpg'),\n",
              " PosixPath('/root/.fastai/data/oxford-iiit-pet/images/german_shorthaired_97.jpg'),\n",
              " PosixPath('/root/.fastai/data/oxford-iiit-pet/images/Maine_Coon_48.jpg'),\n",
              " PosixPath('/root/.fastai/data/oxford-iiit-pet/images/miniature_pinscher_70.jpg'),\n",
              " PosixPath('/root/.fastai/data/oxford-iiit-pet/images/havanese_110.jpg'),\n",
              " PosixPath('/root/.fastai/data/oxford-iiit-pet/images/Egyptian_Mau_92.jpg'),\n",
              " PosixPath('/root/.fastai/data/oxford-iiit-pet/images/Russian_Blue_232.jpg'),\n",
              " PosixPath('/root/.fastai/data/oxford-iiit-pet/images/japanese_chin_159.jpg'),\n",
              " PosixPath('/root/.fastai/data/oxford-iiit-pet/images/basset_hound_167.jpg'),\n",
              " PosixPath('/root/.fastai/data/oxford-iiit-pet/images/newfoundland_25.jpg'),\n",
              " PosixPath('/root/.fastai/data/oxford-iiit-pet/images/wheaten_terrier_83.jpg'),\n",
              " PosixPath('/root/.fastai/data/oxford-iiit-pet/images/pug_164.jpg'),\n",
              " PosixPath('/root/.fastai/data/oxford-iiit-pet/images/Birman_31.jpg'),\n",
              " PosixPath('/root/.fastai/data/oxford-iiit-pet/images/german_shorthaired_22.jpg'),\n",
              " PosixPath('/root/.fastai/data/oxford-iiit-pet/images/newfoundland_55.jpg'),\n",
              " PosixPath('/root/.fastai/data/oxford-iiit-pet/images/havanese_79.jpg'),\n",
              " PosixPath('/root/.fastai/data/oxford-iiit-pet/images/pomeranian_109.jpg'),\n",
              " PosixPath('/root/.fastai/data/oxford-iiit-pet/images/english_cocker_spaniel_70.jpg'),\n",
              " PosixPath('/root/.fastai/data/oxford-iiit-pet/images/miniature_pinscher_176.jpg'),\n",
              " PosixPath('/root/.fastai/data/oxford-iiit-pet/images/Bombay_54.jpg'),\n",
              " PosixPath('/root/.fastai/data/oxford-iiit-pet/images/beagle_69.jpg'),\n",
              " PosixPath('/root/.fastai/data/oxford-iiit-pet/images/pomeranian_199.jpg'),\n",
              " PosixPath('/root/.fastai/data/oxford-iiit-pet/images/staffordshire_bull_terrier_90.jpg'),\n",
              " PosixPath('/root/.fastai/data/oxford-iiit-pet/images/Persian_138.jpg'),\n",
              " PosixPath('/root/.fastai/data/oxford-iiit-pet/images/basset_hound_31.jpg'),\n",
              " PosixPath('/root/.fastai/data/oxford-iiit-pet/images/Russian_Blue_236.jpg'),\n",
              " PosixPath('/root/.fastai/data/oxford-iiit-pet/images/saint_bernard_60.jpg'),\n",
              " PosixPath('/root/.fastai/data/oxford-iiit-pet/images/miniature_pinscher_62.jpg'),\n",
              " PosixPath('/root/.fastai/data/oxford-iiit-pet/images/german_shorthaired_25.jpg'),\n",
              " PosixPath('/root/.fastai/data/oxford-iiit-pet/images/american_bulldog_128.jpg'),\n",
              " PosixPath('/root/.fastai/data/oxford-iiit-pet/images/chihuahua_140.jpg'),\n",
              " PosixPath('/root/.fastai/data/oxford-iiit-pet/images/yorkshire_terrier_16.jpg'),\n",
              " PosixPath('/root/.fastai/data/oxford-iiit-pet/images/wheaten_terrier_193.jpg'),\n",
              " PosixPath('/root/.fastai/data/oxford-iiit-pet/images/shiba_inu_205.jpg'),\n",
              " PosixPath('/root/.fastai/data/oxford-iiit-pet/images/Persian_79.jpg'),\n",
              " PosixPath('/root/.fastai/data/oxford-iiit-pet/images/miniature_pinscher_114.jpg'),\n",
              " PosixPath('/root/.fastai/data/oxford-iiit-pet/images/keeshond_67.jpg'),\n",
              " PosixPath('/root/.fastai/data/oxford-iiit-pet/images/american_bulldog_65.jpg'),\n",
              " PosixPath('/root/.fastai/data/oxford-iiit-pet/images/Egyptian_Mau_215.jpg'),\n",
              " PosixPath('/root/.fastai/data/oxford-iiit-pet/images/Ragdoll_154.jpg'),\n",
              " PosixPath('/root/.fastai/data/oxford-iiit-pet/images/keeshond_91.jpg'),\n",
              " PosixPath('/root/.fastai/data/oxford-iiit-pet/images/boxer_130.jpg'),\n",
              " PosixPath('/root/.fastai/data/oxford-iiit-pet/images/american_pit_bull_terrier_39.jpg'),\n",
              " PosixPath('/root/.fastai/data/oxford-iiit-pet/images/newfoundland_14.jpg'),\n",
              " PosixPath('/root/.fastai/data/oxford-iiit-pet/images/wheaten_terrier_110.jpg'),\n",
              " PosixPath('/root/.fastai/data/oxford-iiit-pet/images/staffordshire_bull_terrier_37.jpg'),\n",
              " PosixPath('/root/.fastai/data/oxford-iiit-pet/images/german_shorthaired_2.jpg'),\n",
              " PosixPath('/root/.fastai/data/oxford-iiit-pet/images/boxer_3.jpg'),\n",
              " PosixPath('/root/.fastai/data/oxford-iiit-pet/images/pug_44.jpg'),\n",
              " PosixPath('/root/.fastai/data/oxford-iiit-pet/images/boxer_112.jpg'),\n",
              " PosixPath('/root/.fastai/data/oxford-iiit-pet/images/scottish_terrier_97.jpg'),\n",
              " PosixPath('/root/.fastai/data/oxford-iiit-pet/images/english_setter_156.jpg'),\n",
              " PosixPath('/root/.fastai/data/oxford-iiit-pet/images/miniature_pinscher_167.jpg'),\n",
              " PosixPath('/root/.fastai/data/oxford-iiit-pet/images/pomeranian_144.jpg'),\n",
              " PosixPath('/root/.fastai/data/oxford-iiit-pet/images/Bombay_119.jpg'),\n",
              " PosixPath('/root/.fastai/data/oxford-iiit-pet/images/miniature_pinscher_102.jpg'),\n",
              " PosixPath('/root/.fastai/data/oxford-iiit-pet/images/leonberger_124.jpg'),\n",
              " PosixPath('/root/.fastai/data/oxford-iiit-pet/images/British_Shorthair_27.jpg'),\n",
              " PosixPath('/root/.fastai/data/oxford-iiit-pet/images/english_setter_26.jpg'),\n",
              " PosixPath('/root/.fastai/data/oxford-iiit-pet/images/wheaten_terrier_44.jpg'),\n",
              " PosixPath('/root/.fastai/data/oxford-iiit-pet/images/Sphynx_251.jpg'),\n",
              " PosixPath('/root/.fastai/data/oxford-iiit-pet/images/wheaten_terrier_7.jpg'),\n",
              " PosixPath('/root/.fastai/data/oxford-iiit-pet/images/beagle_173.jpg'),\n",
              " PosixPath('/root/.fastai/data/oxford-iiit-pet/images/staffordshire_bull_terrier_147.jpg'),\n",
              " PosixPath('/root/.fastai/data/oxford-iiit-pet/images/newfoundland_146.jpg'),\n",
              " PosixPath('/root/.fastai/data/oxford-iiit-pet/images/pug_131.jpg'),\n",
              " PosixPath('/root/.fastai/data/oxford-iiit-pet/images/staffordshire_bull_terrier_181.jpg'),\n",
              " PosixPath('/root/.fastai/data/oxford-iiit-pet/images/Persian_190.jpg'),\n",
              " PosixPath('/root/.fastai/data/oxford-iiit-pet/images/english_setter_168.jpg'),\n",
              " PosixPath('/root/.fastai/data/oxford-iiit-pet/images/Russian_Blue_179.jpg'),\n",
              " PosixPath('/root/.fastai/data/oxford-iiit-pet/images/scottish_terrier_140.jpg'),\n",
              " PosixPath('/root/.fastai/data/oxford-iiit-pet/images/Maine_Coon_33.jpg'),\n",
              " PosixPath('/root/.fastai/data/oxford-iiit-pet/images/Sphynx_193.jpg'),\n",
              " PosixPath('/root/.fastai/data/oxford-iiit-pet/images/japanese_chin_165.jpg'),\n",
              " PosixPath('/root/.fastai/data/oxford-iiit-pet/images/yorkshire_terrier_26.jpg'),\n",
              " PosixPath('/root/.fastai/data/oxford-iiit-pet/images/german_shorthaired_66.jpg'),\n",
              " PosixPath('/root/.fastai/data/oxford-iiit-pet/images/saint_bernard_87.jpg'),\n",
              " PosixPath('/root/.fastai/data/oxford-iiit-pet/images/chihuahua_19.jpg'),\n",
              " PosixPath('/root/.fastai/data/oxford-iiit-pet/images/Ragdoll_125.jpg'),\n",
              " PosixPath('/root/.fastai/data/oxford-iiit-pet/images/keeshond_97.jpg'),\n",
              " PosixPath('/root/.fastai/data/oxford-iiit-pet/images/Siamese_135.jpg'),\n",
              " PosixPath('/root/.fastai/data/oxford-iiit-pet/images/beagle_35.jpg'),\n",
              " PosixPath('/root/.fastai/data/oxford-iiit-pet/images/Persian_89.jpg'),\n",
              " PosixPath('/root/.fastai/data/oxford-iiit-pet/images/shiba_inu_199.jpg'),\n",
              " PosixPath('/root/.fastai/data/oxford-iiit-pet/images/Sphynx_14.jpg'),\n",
              " PosixPath('/root/.fastai/data/oxford-iiit-pet/images/great_pyrenees_37.jpg'),\n",
              " PosixPath('/root/.fastai/data/oxford-iiit-pet/images/Siamese_84.jpg'),\n",
              " PosixPath('/root/.fastai/data/oxford-iiit-pet/images/english_cocker_spaniel_159.jpg'),\n",
              " PosixPath('/root/.fastai/data/oxford-iiit-pet/images/yorkshire_terrier_36.jpg'),\n",
              " PosixPath('/root/.fastai/data/oxford-iiit-pet/images/Russian_Blue_209.jpg'),\n",
              " PosixPath('/root/.fastai/data/oxford-iiit-pet/images/Ragdoll_41.jpg'),\n",
              " PosixPath('/root/.fastai/data/oxford-iiit-pet/images/leonberger_150.jpg'),\n",
              " PosixPath('/root/.fastai/data/oxford-iiit-pet/images/Russian_Blue_196.jpg'),\n",
              " PosixPath('/root/.fastai/data/oxford-iiit-pet/images/Siamese_205.jpg'),\n",
              " PosixPath('/root/.fastai/data/oxford-iiit-pet/images/boxer_158.jpg'),\n",
              " PosixPath('/root/.fastai/data/oxford-iiit-pet/images/Ragdoll_140.jpg'),\n",
              " PosixPath('/root/.fastai/data/oxford-iiit-pet/images/Ragdoll_118.jpg'),\n",
              " PosixPath('/root/.fastai/data/oxford-iiit-pet/images/Russian_Blue_201.jpg'),\n",
              " PosixPath('/root/.fastai/data/oxford-iiit-pet/images/havanese_62.jpg'),\n",
              " PosixPath('/root/.fastai/data/oxford-iiit-pet/images/yorkshire_terrier_70.jpg'),\n",
              " PosixPath('/root/.fastai/data/oxford-iiit-pet/images/scottish_terrier_124.jpg'),\n",
              " PosixPath('/root/.fastai/data/oxford-iiit-pet/images/Russian_Blue_71.jpg'),\n",
              " PosixPath('/root/.fastai/data/oxford-iiit-pet/images/British_Shorthair_199.jpg'),\n",
              " PosixPath('/root/.fastai/data/oxford-iiit-pet/images/Egyptian_Mau_23.jpg'),\n",
              " PosixPath('/root/.fastai/data/oxford-iiit-pet/images/pug_176.jpg'),\n",
              " PosixPath('/root/.fastai/data/oxford-iiit-pet/images/wheaten_terrier_171.jpg'),\n",
              " PosixPath('/root/.fastai/data/oxford-iiit-pet/images/wheaten_terrier_6.jpg'),\n",
              " PosixPath('/root/.fastai/data/oxford-iiit-pet/images/american_pit_bull_terrier_76.jpg'),\n",
              " PosixPath('/root/.fastai/data/oxford-iiit-pet/images/great_pyrenees_177.jpg'),\n",
              " PosixPath('/root/.fastai/data/oxford-iiit-pet/images/Abyssinian_205.jpg'),\n",
              " PosixPath('/root/.fastai/data/oxford-iiit-pet/images/leonberger_26.jpg'),\n",
              " PosixPath('/root/.fastai/data/oxford-iiit-pet/images/miniature_pinscher_154.jpg'),\n",
              " PosixPath('/root/.fastai/data/oxford-iiit-pet/images/Russian_Blue_45.jpg'),\n",
              " PosixPath('/root/.fastai/data/oxford-iiit-pet/images/Siamese_231.jpg'),\n",
              " PosixPath('/root/.fastai/data/oxford-iiit-pet/images/english_cocker_spaniel_170.jpg'),\n",
              " PosixPath('/root/.fastai/data/oxford-iiit-pet/images/japanese_chin_27.jpg'),\n",
              " PosixPath('/root/.fastai/data/oxford-iiit-pet/images/boxer_159.jpg'),\n",
              " PosixPath('/root/.fastai/data/oxford-iiit-pet/images/saint_bernard_70.jpg'),\n",
              " PosixPath('/root/.fastai/data/oxford-iiit-pet/images/miniature_pinscher_33.jpg'),\n",
              " PosixPath('/root/.fastai/data/oxford-iiit-pet/images/Abyssinian_190.jpg'),\n",
              " PosixPath('/root/.fastai/data/oxford-iiit-pet/images/boxer_68.jpg'),\n",
              " PosixPath('/root/.fastai/data/oxford-iiit-pet/images/american_bulldog_30.jpg'),\n",
              " PosixPath('/root/.fastai/data/oxford-iiit-pet/images/english_setter_157.jpg'),\n",
              " PosixPath('/root/.fastai/data/oxford-iiit-pet/images/newfoundland_136.jpg'),\n",
              " PosixPath('/root/.fastai/data/oxford-iiit-pet/images/Bombay_167.jpg'),\n",
              " PosixPath('/root/.fastai/data/oxford-iiit-pet/images/beagle_183.jpg'),\n",
              " PosixPath('/root/.fastai/data/oxford-iiit-pet/images/British_Shorthair_26.jpg'),\n",
              " PosixPath('/root/.fastai/data/oxford-iiit-pet/images/german_shorthaired_152.jpg'),\n",
              " PosixPath('/root/.fastai/data/oxford-iiit-pet/images/beagle_145.jpg'),\n",
              " PosixPath('/root/.fastai/data/oxford-iiit-pet/images/basset_hound_196.jpg'),\n",
              " PosixPath('/root/.fastai/data/oxford-iiit-pet/images/leonberger_111.jpg'),\n",
              " PosixPath('/root/.fastai/data/oxford-iiit-pet/images/Egyptian_Mau_219.jpg'),\n",
              " PosixPath('/root/.fastai/data/oxford-iiit-pet/images/great_pyrenees_57.jpg'),\n",
              " PosixPath('/root/.fastai/data/oxford-iiit-pet/images/shiba_inu_111.jpg'),\n",
              " PosixPath('/root/.fastai/data/oxford-iiit-pet/images/leonberger_173.jpg'),\n",
              " PosixPath('/root/.fastai/data/oxford-iiit-pet/images/boxer_193.jpg'),\n",
              " PosixPath('/root/.fastai/data/oxford-iiit-pet/images/chihuahua_44.jpg'),\n",
              " PosixPath('/root/.fastai/data/oxford-iiit-pet/images/staffordshire_bull_terrier_34.jpg'),\n",
              " PosixPath('/root/.fastai/data/oxford-iiit-pet/images/pug_151.jpg'),\n",
              " PosixPath('/root/.fastai/data/oxford-iiit-pet/images/newfoundland_37.jpg'),\n",
              " PosixPath('/root/.fastai/data/oxford-iiit-pet/images/Abyssinian_210.jpg'),\n",
              " PosixPath('/root/.fastai/data/oxford-iiit-pet/images/havanese_94.jpg'),\n",
              " PosixPath('/root/.fastai/data/oxford-iiit-pet/images/beagle_31.jpg'),\n",
              " PosixPath('/root/.fastai/data/oxford-iiit-pet/images/Russian_Blue_50.jpg'),\n",
              " PosixPath('/root/.fastai/data/oxford-iiit-pet/images/Abyssinian_68.jpg'),\n",
              " PosixPath('/root/.fastai/data/oxford-iiit-pet/images/yorkshire_terrier_46.jpg'),\n",
              " PosixPath('/root/.fastai/data/oxford-iiit-pet/images/Maine_Coon_222.jpg'),\n",
              " PosixPath('/root/.fastai/data/oxford-iiit-pet/images/leonberger_2.jpg'),\n",
              " PosixPath('/root/.fastai/data/oxford-iiit-pet/images/Persian_98.jpg'),\n",
              " PosixPath('/root/.fastai/data/oxford-iiit-pet/images/basset_hound_17.jpg'),\n",
              " PosixPath('/root/.fastai/data/oxford-iiit-pet/images/Ragdoll_89.jpg'),\n",
              " PosixPath('/root/.fastai/data/oxford-iiit-pet/images/great_pyrenees_174.jpg'),\n",
              " PosixPath('/root/.fastai/data/oxford-iiit-pet/images/german_shorthaired_90.jpg'),\n",
              " PosixPath('/root/.fastai/data/oxford-iiit-pet/images/english_setter_37.jpg'),\n",
              " PosixPath('/root/.fastai/data/oxford-iiit-pet/images/havanese_47.jpg'),\n",
              " PosixPath('/root/.fastai/data/oxford-iiit-pet/images/Ragdoll_194.jpg'),\n",
              " PosixPath('/root/.fastai/data/oxford-iiit-pet/images/Bombay_16.jpg'),\n",
              " PosixPath('/root/.fastai/data/oxford-iiit-pet/images/english_setter_101.jpg'),\n",
              " PosixPath('/root/.fastai/data/oxford-iiit-pet/images/basset_hound_32.jpg'),\n",
              " PosixPath('/root/.fastai/data/oxford-iiit-pet/images/japanese_chin_106.jpg'),\n",
              " PosixPath('/root/.fastai/data/oxford-iiit-pet/images/Persian_86.jpg'),\n",
              " PosixPath('/root/.fastai/data/oxford-iiit-pet/images/Egyptian_Mau_214.jpg'),\n",
              " PosixPath('/root/.fastai/data/oxford-iiit-pet/images/staffordshire_bull_terrier_14.jpg'),\n",
              " PosixPath('/root/.fastai/data/oxford-iiit-pet/images/samoyed_102.jpg'),\n",
              " PosixPath('/root/.fastai/data/oxford-iiit-pet/images/chihuahua_46.jpg'),\n",
              " PosixPath('/root/.fastai/data/oxford-iiit-pet/images/german_shorthaired_69.jpg'),\n",
              " PosixPath('/root/.fastai/data/oxford-iiit-pet/images/Ragdoll_7.jpg'),\n",
              " PosixPath('/root/.fastai/data/oxford-iiit-pet/images/Abyssinian_80.jpg'),\n",
              " PosixPath('/root/.fastai/data/oxford-iiit-pet/images/english_cocker_spaniel_126.jpg'),\n",
              " PosixPath('/root/.fastai/data/oxford-iiit-pet/images/Russian_Blue_93.jpg'),\n",
              " PosixPath('/root/.fastai/data/oxford-iiit-pet/images/great_pyrenees_153.jpg'),\n",
              " PosixPath('/root/.fastai/data/oxford-iiit-pet/images/japanese_chin_183.jpg'),\n",
              " PosixPath('/root/.fastai/data/oxford-iiit-pet/images/english_setter_34.jpg'),\n",
              " PosixPath('/root/.fastai/data/oxford-iiit-pet/images/japanese_chin_117.jpg'),\n",
              " PosixPath('/root/.fastai/data/oxford-iiit-pet/images/Birman_133.jpg'),\n",
              " PosixPath('/root/.fastai/data/oxford-iiit-pet/images/english_setter_75.jpg'),\n",
              " PosixPath('/root/.fastai/data/oxford-iiit-pet/images/samoyed_173.jpg'),\n",
              " PosixPath('/root/.fastai/data/oxford-iiit-pet/images/Egyptian_Mau_173.jpg'),\n",
              " PosixPath('/root/.fastai/data/oxford-iiit-pet/images/Bengal_94.jpg'),\n",
              " PosixPath('/root/.fastai/data/oxford-iiit-pet/images/Bengal_67.jpg'),\n",
              " PosixPath('/root/.fastai/data/oxford-iiit-pet/images/Sphynx_155.jpg'),\n",
              " PosixPath('/root/.fastai/data/oxford-iiit-pet/images/german_shorthaired_114.jpg'),\n",
              " PosixPath('/root/.fastai/data/oxford-iiit-pet/images/Bombay_52.jpg'),\n",
              " PosixPath('/root/.fastai/data/oxford-iiit-pet/images/japanese_chin_71.jpg'),\n",
              " PosixPath('/root/.fastai/data/oxford-iiit-pet/images/yorkshire_terrier_56.jpg'),\n",
              " PosixPath('/root/.fastai/data/oxford-iiit-pet/images/keeshond_102.jpg'),\n",
              " PosixPath('/root/.fastai/data/oxford-iiit-pet/images/american_bulldog_81.jpg'),\n",
              " PosixPath('/root/.fastai/data/oxford-iiit-pet/images/pug_119.jpg'),\n",
              " PosixPath('/root/.fastai/data/oxford-iiit-pet/images/shiba_inu_155.jpg'),\n",
              " PosixPath('/root/.fastai/data/oxford-iiit-pet/images/staffordshire_bull_terrier_40.jpg'),\n",
              " PosixPath('/root/.fastai/data/oxford-iiit-pet/images/Birman_88.jpg'),\n",
              " PosixPath('/root/.fastai/data/oxford-iiit-pet/images/Ragdoll_53.jpg'),\n",
              " PosixPath('/root/.fastai/data/oxford-iiit-pet/images/Persian_18.jpg'),\n",
              " PosixPath('/root/.fastai/data/oxford-iiit-pet/images/Maine_Coon_37.jpg'),\n",
              " PosixPath('/root/.fastai/data/oxford-iiit-pet/images/Persian_40.jpg'),\n",
              " PosixPath('/root/.fastai/data/oxford-iiit-pet/images/german_shorthaired_35.jpg'),\n",
              " PosixPath('/root/.fastai/data/oxford-iiit-pet/images/chihuahua_3.jpg'),\n",
              " PosixPath('/root/.fastai/data/oxford-iiit-pet/images/newfoundland_114.jpg'),\n",
              " PosixPath('/root/.fastai/data/oxford-iiit-pet/images/english_setter_76.jpg'),\n",
              " PosixPath('/root/.fastai/data/oxford-iiit-pet/images/miniature_pinscher_180.jpg'),\n",
              " PosixPath('/root/.fastai/data/oxford-iiit-pet/images/keeshond_175.jpg'),\n",
              " PosixPath('/root/.fastai/data/oxford-iiit-pet/images/japanese_chin_37.jpg'),\n",
              " PosixPath('/root/.fastai/data/oxford-iiit-pet/images/Sphynx_115.jpg'),\n",
              " PosixPath('/root/.fastai/data/oxford-iiit-pet/images/pomeranian_160.jpg'),\n",
              " PosixPath('/root/.fastai/data/oxford-iiit-pet/images/Bengal_20.jpg'),\n",
              " PosixPath('/root/.fastai/data/oxford-iiit-pet/images/shiba_inu_83.jpg'),\n",
              " PosixPath('/root/.fastai/data/oxford-iiit-pet/images/american_pit_bull_terrier_101.jpg'),\n",
              " PosixPath('/root/.fastai/data/oxford-iiit-pet/images/havanese_106.jpg'),\n",
              " PosixPath('/root/.fastai/data/oxford-iiit-pet/images/keeshond_146.jpg'),\n",
              " PosixPath('/root/.fastai/data/oxford-iiit-pet/images/Egyptian_Mau_71.jpg'),\n",
              " PosixPath('/root/.fastai/data/oxford-iiit-pet/images/german_shorthaired_44.jpg'),\n",
              " PosixPath('/root/.fastai/data/oxford-iiit-pet/images/japanese_chin_174.jpg'),\n",
              " PosixPath('/root/.fastai/data/oxford-iiit-pet/images/chihuahua_43.jpg'),\n",
              " PosixPath('/root/.fastai/data/oxford-iiit-pet/images/beagle_45.jpg'),\n",
              " PosixPath('/root/.fastai/data/oxford-iiit-pet/images/havanese_141.jpg'),\n",
              " PosixPath('/root/.fastai/data/oxford-iiit-pet/images/Bombay_194.jpg'),\n",
              " PosixPath('/root/.fastai/data/oxford-iiit-pet/images/boxer_125.jpg'),\n",
              " PosixPath('/root/.fastai/data/oxford-iiit-pet/images/Bombay_213.jpg'),\n",
              " PosixPath('/root/.fastai/data/oxford-iiit-pet/images/Siamese_57.jpg'),\n",
              " PosixPath('/root/.fastai/data/oxford-iiit-pet/images/Sphynx_89.jpg'),\n",
              " PosixPath('/root/.fastai/data/oxford-iiit-pet/images/Siamese_203.jpg'),\n",
              " PosixPath('/root/.fastai/data/oxford-iiit-pet/images/american_bulldog_106.jpg'),\n",
              " PosixPath('/root/.fastai/data/oxford-iiit-pet/images/american_bulldog_175.jpg'),\n",
              " PosixPath('/root/.fastai/data/oxford-iiit-pet/images/British_Shorthair_141.jpg'),\n",
              " PosixPath('/root/.fastai/data/oxford-iiit-pet/images/great_pyrenees_87.jpg'),\n",
              " PosixPath('/root/.fastai/data/oxford-iiit-pet/images/havanese_184.jpg'),\n",
              " PosixPath('/root/.fastai/data/oxford-iiit-pet/images/wheaten_terrier_8.jpg'),\n",
              " PosixPath('/root/.fastai/data/oxford-iiit-pet/images/staffordshire_bull_terrier_26.jpg'),\n",
              " PosixPath('/root/.fastai/data/oxford-iiit-pet/images/beagle_17.jpg'),\n",
              " PosixPath('/root/.fastai/data/oxford-iiit-pet/images/great_pyrenees_43.jpg'),\n",
              " PosixPath('/root/.fastai/data/oxford-iiit-pet/images/beagle_192.jpg'),\n",
              " PosixPath('/root/.fastai/data/oxford-iiit-pet/images/Siamese_204.jpg'),\n",
              " PosixPath('/root/.fastai/data/oxford-iiit-pet/images/yorkshire_terrier_106.jpg'),\n",
              " PosixPath('/root/.fastai/data/oxford-iiit-pet/images/Egyptian_Mau_146.jpg'),\n",
              " PosixPath('/root/.fastai/data/oxford-iiit-pet/images/Ragdoll_127.jpg'),\n",
              " PosixPath('/root/.fastai/data/oxford-iiit-pet/images/Persian_259.jpg'),\n",
              " PosixPath('/root/.fastai/data/oxford-iiit-pet/images/beagle_33.jpg'),\n",
              " PosixPath('/root/.fastai/data/oxford-iiit-pet/images/Siamese_136.jpg'),\n",
              " PosixPath('/root/.fastai/data/oxford-iiit-pet/images/english_cocker_spaniel_116.jpg'),\n",
              " PosixPath('/root/.fastai/data/oxford-iiit-pet/images/samoyed_51.jpg'),\n",
              " PosixPath('/root/.fastai/data/oxford-iiit-pet/images/great_pyrenees_53.jpg'),\n",
              " PosixPath('/root/.fastai/data/oxford-iiit-pet/images/pug_118.jpg'),\n",
              " PosixPath('/root/.fastai/data/oxford-iiit-pet/images/staffordshire_bull_terrier_190.jpg'),\n",
              " PosixPath('/root/.fastai/data/oxford-iiit-pet/images/miniature_pinscher_79.jpg'),\n",
              " PosixPath('/root/.fastai/data/oxford-iiit-pet/images/British_Shorthair_177.jpg'),\n",
              " PosixPath('/root/.fastai/data/oxford-iiit-pet/images/yorkshire_terrier_195.jpg'),\n",
              " PosixPath('/root/.fastai/data/oxford-iiit-pet/images/miniature_pinscher_95.jpg'),\n",
              " PosixPath('/root/.fastai/data/oxford-iiit-pet/images/pomeranian_111.jpg'),\n",
              " PosixPath('/root/.fastai/data/oxford-iiit-pet/images/yorkshire_terrier_79.jpg'),\n",
              " PosixPath('/root/.fastai/data/oxford-iiit-pet/images/Abyssinian_48.jpg'),\n",
              " PosixPath('/root/.fastai/data/oxford-iiit-pet/images/american_pit_bull_terrier_91.jpg'),\n",
              " PosixPath('/root/.fastai/data/oxford-iiit-pet/images/pug_165.jpg'),\n",
              " PosixPath('/root/.fastai/data/oxford-iiit-pet/images/saint_bernard_6.jpg'),\n",
              " PosixPath('/root/.fastai/data/oxford-iiit-pet/images/staffordshire_bull_terrier_108.jpg'),\n",
              " PosixPath('/root/.fastai/data/oxford-iiit-pet/images/english_cocker_spaniel_166.jpg'),\n",
              " PosixPath('/root/.fastai/data/oxford-iiit-pet/images/Persian_122.jpg'),\n",
              " PosixPath('/root/.fastai/data/oxford-iiit-pet/images/wheaten_terrier_65.jpg'),\n",
              " PosixPath('/root/.fastai/data/oxford-iiit-pet/images/japanese_chin_198.jpg'),\n",
              " PosixPath('/root/.fastai/data/oxford-iiit-pet/images/newfoundland_180.jpg'),\n",
              " PosixPath('/root/.fastai/data/oxford-iiit-pet/images/great_pyrenees_119.jpg'),\n",
              " PosixPath('/root/.fastai/data/oxford-iiit-pet/images/Persian_27.jpg'),\n",
              " PosixPath('/root/.fastai/data/oxford-iiit-pet/images/Birman_119.jpg'),\n",
              " PosixPath('/root/.fastai/data/oxford-iiit-pet/images/Persian_17.jpg'),\n",
              " PosixPath('/root/.fastai/data/oxford-iiit-pet/images/staffordshire_bull_terrier_94.jpg'),\n",
              " PosixPath('/root/.fastai/data/oxford-iiit-pet/images/boxer_72.jpg'),\n",
              " PosixPath('/root/.fastai/data/oxford-iiit-pet/images/pomeranian_34.jpg'),\n",
              " PosixPath('/root/.fastai/data/oxford-iiit-pet/images/pomeranian_194.jpg'),\n",
              " PosixPath('/root/.fastai/data/oxford-iiit-pet/images/Bengal_176.jpg'),\n",
              " PosixPath('/root/.fastai/data/oxford-iiit-pet/images/Bengal_87.jpg'),\n",
              " PosixPath('/root/.fastai/data/oxford-iiit-pet/images/shiba_inu_126.jpg'),\n",
              " PosixPath('/root/.fastai/data/oxford-iiit-pet/images/boxer_132.jpg'),\n",
              " PosixPath('/root/.fastai/data/oxford-iiit-pet/images/pug_58.jpg'),\n",
              " PosixPath('/root/.fastai/data/oxford-iiit-pet/images/Ragdoll_77.jpg'),\n",
              " PosixPath('/root/.fastai/data/oxford-iiit-pet/images/american_pit_bull_terrier_187.jpg'),\n",
              " PosixPath('/root/.fastai/data/oxford-iiit-pet/images/Siamese_81.jpg'),\n",
              " PosixPath('/root/.fastai/data/oxford-iiit-pet/images/japanese_chin_169.jpg'),\n",
              " PosixPath('/root/.fastai/data/oxford-iiit-pet/images/Egyptian_Mau_152.jpg'),\n",
              " PosixPath('/root/.fastai/data/oxford-iiit-pet/images/Russian_Blue_41.jpg'),\n",
              " PosixPath('/root/.fastai/data/oxford-iiit-pet/images/scottish_terrier_104.jpg'),\n",
              " PosixPath('/root/.fastai/data/oxford-iiit-pet/images/english_cocker_spaniel_176.jpg'),\n",
              " PosixPath('/root/.fastai/data/oxford-iiit-pet/images/basset_hound_126.jpg'),\n",
              " PosixPath('/root/.fastai/data/oxford-iiit-pet/images/english_setter_23.jpg'),\n",
              " PosixPath('/root/.fastai/data/oxford-iiit-pet/images/Siamese_145.jpg'),\n",
              " PosixPath('/root/.fastai/data/oxford-iiit-pet/images/Siamese_153.jpg'),\n",
              " PosixPath('/root/.fastai/data/oxford-iiit-pet/images/Egyptian_Mau_145.jpg'),\n",
              " PosixPath('/root/.fastai/data/oxford-iiit-pet/images/Bengal_64.jpg'),\n",
              " PosixPath('/root/.fastai/data/oxford-iiit-pet/images/wheaten_terrier_2.jpg'),\n",
              " PosixPath('/root/.fastai/data/oxford-iiit-pet/images/Persian_59.jpg'),\n",
              " PosixPath('/root/.fastai/data/oxford-iiit-pet/images/chihuahua_181.jpg'),\n",
              " PosixPath('/root/.fastai/data/oxford-iiit-pet/images/Persian_77.jpg'),\n",
              " PosixPath('/root/.fastai/data/oxford-iiit-pet/images/english_setter_113.jpg'),\n",
              " PosixPath('/root/.fastai/data/oxford-iiit-pet/images/staffordshire_bull_terrier_42.jpg'),\n",
              " PosixPath('/root/.fastai/data/oxford-iiit-pet/images/american_pit_bull_terrier_110.jpg'),\n",
              " PosixPath('/root/.fastai/data/oxford-iiit-pet/images/beagle_62.jpg'),\n",
              " PosixPath('/root/.fastai/data/oxford-iiit-pet/images/Ragdoll_263.jpg'),\n",
              " PosixPath('/root/.fastai/data/oxford-iiit-pet/images/english_cocker_spaniel_99.jpg'),\n",
              " PosixPath('/root/.fastai/data/oxford-iiit-pet/images/american_pit_bull_terrier_168.jpg'),\n",
              " PosixPath('/root/.fastai/data/oxford-iiit-pet/images/wheaten_terrier_123.jpg'),\n",
              " PosixPath('/root/.fastai/data/oxford-iiit-pet/images/newfoundland_18.jpg'),\n",
              " PosixPath('/root/.fastai/data/oxford-iiit-pet/images/havanese_186.jpg'),\n",
              " PosixPath('/root/.fastai/data/oxford-iiit-pet/images/wheaten_terrier_165.jpg'),\n",
              " PosixPath('/root/.fastai/data/oxford-iiit-pet/images/Siamese_129.jpg'),\n",
              " PosixPath('/root/.fastai/data/oxford-iiit-pet/images/shiba_inu_201.jpg'),\n",
              " PosixPath('/root/.fastai/data/oxford-iiit-pet/images/saint_bernard_143.jpg'),\n",
              " PosixPath('/root/.fastai/data/oxford-iiit-pet/images/Sphynx_168.jpg'),\n",
              " PosixPath('/root/.fastai/data/oxford-iiit-pet/images/samoyed_99.jpg'),\n",
              " PosixPath('/root/.fastai/data/oxford-iiit-pet/images/shiba_inu_7.jpg'),\n",
              " PosixPath('/root/.fastai/data/oxford-iiit-pet/images/scottish_terrier_46.jpg'),\n",
              " PosixPath('/root/.fastai/data/oxford-iiit-pet/images/boxer_200.jpg'),\n",
              " PosixPath('/root/.fastai/data/oxford-iiit-pet/images/British_Shorthair_273.jpg'),\n",
              " PosixPath('/root/.fastai/data/oxford-iiit-pet/images/Russian_Blue_115.jpg'),\n",
              " PosixPath('/root/.fastai/data/oxford-iiit-pet/images/newfoundland_9.jpg'),\n",
              " PosixPath('/root/.fastai/data/oxford-iiit-pet/images/shiba_inu_23.jpg'),\n",
              " PosixPath('/root/.fastai/data/oxford-iiit-pet/images/Maine_Coon_264.jpg'),\n",
              " PosixPath('/root/.fastai/data/oxford-iiit-pet/images/basset_hound_55.jpg'),\n",
              " PosixPath('/root/.fastai/data/oxford-iiit-pet/images/great_pyrenees_8.jpg'),\n",
              " PosixPath('/root/.fastai/data/oxford-iiit-pet/images/japanese_chin_55.jpg'),\n",
              " PosixPath('/root/.fastai/data/oxford-iiit-pet/images/english_setter_27.jpg'),\n",
              " PosixPath('/root/.fastai/data/oxford-iiit-pet/images/pomeranian_171.jpg'),\n",
              " PosixPath('/root/.fastai/data/oxford-iiit-pet/images/english_cocker_spaniel_147.jpg'),\n",
              " PosixPath('/root/.fastai/data/oxford-iiit-pet/images/samoyed_197.jpg'),\n",
              " PosixPath('/root/.fastai/data/oxford-iiit-pet/images/miniature_pinscher_187.jpg'),\n",
              " PosixPath('/root/.fastai/data/oxford-iiit-pet/images/samoyed_129.jpg'),\n",
              " PosixPath('/root/.fastai/data/oxford-iiit-pet/images/basset_hound_174.jpg'),\n",
              " PosixPath('/root/.fastai/data/oxford-iiit-pet/images/english_cocker_spaniel_158.jpg'),\n",
              " PosixPath('/root/.fastai/data/oxford-iiit-pet/images/basset_hound_189.jpg'),\n",
              " PosixPath('/root/.fastai/data/oxford-iiit-pet/images/keeshond_135.jpg'),\n",
              " PosixPath('/root/.fastai/data/oxford-iiit-pet/images/pug_104.jpg'),\n",
              " PosixPath('/root/.fastai/data/oxford-iiit-pet/images/British_Shorthair_137.jpg'),\n",
              " PosixPath('/root/.fastai/data/oxford-iiit-pet/images/basset_hound_96.jpg'),\n",
              " PosixPath('/root/.fastai/data/oxford-iiit-pet/images/english_cocker_spaniel_137.jpg'),\n",
              " PosixPath('/root/.fastai/data/oxford-iiit-pet/images/great_pyrenees_24.jpg'),\n",
              " PosixPath('/root/.fastai/data/oxford-iiit-pet/images/german_shorthaired_62.jpg'),\n",
              " PosixPath('/root/.fastai/data/oxford-iiit-pet/images/pug_72.jpg'),\n",
              " PosixPath('/root/.fastai/data/oxford-iiit-pet/images/yorkshire_terrier_84.jpg'),\n",
              " PosixPath('/root/.fastai/data/oxford-iiit-pet/images/chihuahua_175.jpg'),\n",
              " PosixPath('/root/.fastai/data/oxford-iiit-pet/images/american_pit_bull_terrier_122.jpg'),\n",
              " PosixPath('/root/.fastai/data/oxford-iiit-pet/images/Sphynx_129.jpg'),\n",
              " PosixPath('/root/.fastai/data/oxford-iiit-pet/images/samoyed_38.jpg'),\n",
              " PosixPath('/root/.fastai/data/oxford-iiit-pet/images/wheaten_terrier_1.jpg'),\n",
              " PosixPath('/root/.fastai/data/oxford-iiit-pet/images/Ragdoll_49.jpg'),\n",
              " PosixPath('/root/.fastai/data/oxford-iiit-pet/images/Persian_56.jpg'),\n",
              " PosixPath('/root/.fastai/data/oxford-iiit-pet/images/Bengal_124.jpg'),\n",
              " PosixPath('/root/.fastai/data/oxford-iiit-pet/images/Egyptian_Mau_185.jpg'),\n",
              " PosixPath('/root/.fastai/data/oxford-iiit-pet/images/keeshond_164.jpg'),\n",
              " PosixPath('/root/.fastai/data/oxford-iiit-pet/images/english_cocker_spaniel_69.jpg'),\n",
              " PosixPath('/root/.fastai/data/oxford-iiit-pet/images/Russian_Blue_131.jpg'),\n",
              " PosixPath('/root/.fastai/data/oxford-iiit-pet/images/Maine_Coon_119.jpg'),\n",
              " PosixPath('/root/.fastai/data/oxford-iiit-pet/images/newfoundland_72.jpg'),\n",
              " PosixPath('/root/.fastai/data/oxford-iiit-pet/images/scottish_terrier_38.jpg'),\n",
              " PosixPath('/root/.fastai/data/oxford-iiit-pet/images/english_setter_6.jpg'),\n",
              " PosixPath('/root/.fastai/data/oxford-iiit-pet/images/great_pyrenees_170.jpg'),\n",
              " PosixPath('/root/.fastai/data/oxford-iiit-pet/images/Bengal_164.jpg'),\n",
              " PosixPath('/root/.fastai/data/oxford-iiit-pet/images/Persian_32.jpg'),\n",
              " PosixPath('/root/.fastai/data/oxford-iiit-pet/images/german_shorthaired_141.jpg'),\n",
              " PosixPath('/root/.fastai/data/oxford-iiit-pet/images/pug_137.jpg'),\n",
              " PosixPath('/root/.fastai/data/oxford-iiit-pet/images/yorkshire_terrier_43.jpg'),\n",
              " PosixPath('/root/.fastai/data/oxford-iiit-pet/images/miniature_pinscher_96.jpg'),\n",
              " PosixPath('/root/.fastai/data/oxford-iiit-pet/images/Abyssinian_191.jpg'),\n",
              " PosixPath('/root/.fastai/data/oxford-iiit-pet/images/yorkshire_terrier_82.jpg'),\n",
              " PosixPath('/root/.fastai/data/oxford-iiit-pet/images/american_bulldog_40.jpg'),\n",
              " PosixPath('/root/.fastai/data/oxford-iiit-pet/images/Persian_182.jpg'),\n",
              " PosixPath('/root/.fastai/data/oxford-iiit-pet/images/boxer_133.jpg'),\n",
              " PosixPath('/root/.fastai/data/oxford-iiit-pet/images/Birman_62.jpg'),\n",
              " PosixPath('/root/.fastai/data/oxford-iiit-pet/images/Russian_Blue_67.jpg'),\n",
              " PosixPath('/root/.fastai/data/oxford-iiit-pet/images/miniature_pinscher_111.jpg'),\n",
              " PosixPath('/root/.fastai/data/oxford-iiit-pet/images/beagle_110.jpg'),\n",
              " PosixPath('/root/.fastai/data/oxford-iiit-pet/images/Egyptian_Mau_62.jpg'),\n",
              " PosixPath('/root/.fastai/data/oxford-iiit-pet/images/samoyed_67.jpg'),\n",
              " PosixPath('/root/.fastai/data/oxford-iiit-pet/images/chihuahua_118.jpg'),\n",
              " PosixPath('/root/.fastai/data/oxford-iiit-pet/images/Egyptian_Mau_46.jpg'),\n",
              " PosixPath('/root/.fastai/data/oxford-iiit-pet/images/great_pyrenees_164.jpg'),\n",
              " PosixPath('/root/.fastai/data/oxford-iiit-pet/images/newfoundland_92.jpg'),\n",
              " PosixPath('/root/.fastai/data/oxford-iiit-pet/images/english_setter_152.jpg'),\n",
              " PosixPath('/root/.fastai/data/oxford-iiit-pet/images/scottish_terrier_186.jpg'),\n",
              " PosixPath('/root/.fastai/data/oxford-iiit-pet/images/Siamese_207.jpg'),\n",
              " PosixPath('/root/.fastai/data/oxford-iiit-pet/images/german_shorthaired_115.jpg'),\n",
              " PosixPath('/root/.fastai/data/oxford-iiit-pet/images/Persian_36.jpg'),\n",
              " PosixPath('/root/.fastai/data/oxford-iiit-pet/images/Sphynx_125.jpg'),\n",
              " PosixPath('/root/.fastai/data/oxford-iiit-pet/images/Maine_Coon_41.jpg'),\n",
              " PosixPath('/root/.fastai/data/oxford-iiit-pet/images/shiba_inu_210.jpg'),\n",
              " PosixPath('/root/.fastai/data/oxford-iiit-pet/images/havanese_98.jpg'),\n",
              " PosixPath('/root/.fastai/data/oxford-iiit-pet/images/great_pyrenees_76.jpg'),\n",
              " PosixPath('/root/.fastai/data/oxford-iiit-pet/images/Ragdoll_58.jpg'),\n",
              " PosixPath('/root/.fastai/data/oxford-iiit-pet/images/Sphynx_164.jpg'),\n",
              " PosixPath('/root/.fastai/data/oxford-iiit-pet/images/basset_hound_166.jpg'),\n",
              " PosixPath('/root/.fastai/data/oxford-iiit-pet/images/Maine_Coon_187.jpg'),\n",
              " PosixPath('/root/.fastai/data/oxford-iiit-pet/images/keeshond_104.jpg'),\n",
              " PosixPath('/root/.fastai/data/oxford-iiit-pet/images/american_pit_bull_terrier_193.jpg'),\n",
              " PosixPath('/root/.fastai/data/oxford-iiit-pet/images/Maine_Coon_32.jpg'),\n",
              " PosixPath('/root/.fastai/data/oxford-iiit-pet/images/Sphynx_139.jpg'),\n",
              " PosixPath('/root/.fastai/data/oxford-iiit-pet/images/wheaten_terrier_188.jpg'),\n",
              " PosixPath('/root/.fastai/data/oxford-iiit-pet/images/Maine_Coon_83.jpg'),\n",
              " PosixPath('/root/.fastai/data/oxford-iiit-pet/images/yorkshire_terrier_141.jpg'),\n",
              " PosixPath('/root/.fastai/data/oxford-iiit-pet/images/staffordshire_bull_terrier_133.jpg'),\n",
              " PosixPath('/root/.fastai/data/oxford-iiit-pet/images/english_cocker_spaniel_167.jpg'),\n",
              " PosixPath('/root/.fastai/data/oxford-iiit-pet/images/British_Shorthair_270.jpg'),\n",
              " PosixPath('/root/.fastai/data/oxford-iiit-pet/images/Ragdoll_71.jpg'),\n",
              " PosixPath('/root/.fastai/data/oxford-iiit-pet/images/Ragdoll_87.jpg'),\n",
              " PosixPath('/root/.fastai/data/oxford-iiit-pet/images/Egyptian_Mau_36.jpg'),\n",
              " PosixPath('/root/.fastai/data/oxford-iiit-pet/images/pug_9.jpg'),\n",
              " PosixPath('/root/.fastai/data/oxford-iiit-pet/images/pug_63.jpg'),\n",
              " PosixPath('/root/.fastai/data/oxford-iiit-pet/images/pomeranian_137.jpg'),\n",
              " PosixPath('/root/.fastai/data/oxford-iiit-pet/images/samoyed_108.jpg'),\n",
              " PosixPath('/root/.fastai/data/oxford-iiit-pet/images/basset_hound_197.jpg'),\n",
              " PosixPath('/root/.fastai/data/oxford-iiit-pet/images/saint_bernard_186.jpg'),\n",
              " PosixPath('/root/.fastai/data/oxford-iiit-pet/images/american_pit_bull_terrier_51.jpg'),\n",
              " PosixPath('/root/.fastai/data/oxford-iiit-pet/images/Siamese_53.jpg'),\n",
              " PosixPath('/root/.fastai/data/oxford-iiit-pet/images/pomeranian_150.jpg'),\n",
              " PosixPath('/root/.fastai/data/oxford-iiit-pet/images/Maine_Coon_167.jpg'),\n",
              " PosixPath('/root/.fastai/data/oxford-iiit-pet/images/Maine_Coon_97.jpg'),\n",
              " PosixPath('/root/.fastai/data/oxford-iiit-pet/images/pug_108.jpg'),\n",
              " PosixPath('/root/.fastai/data/oxford-iiit-pet/images/pug_82.jpg'),\n",
              " PosixPath('/root/.fastai/data/oxford-iiit-pet/images/newfoundland_157.jpg'),\n",
              " PosixPath('/root/.fastai/data/oxford-iiit-pet/images/Bombay_8.jpg'),\n",
              " PosixPath('/root/.fastai/data/oxford-iiit-pet/images/english_cocker_spaniel_80.jpg'),\n",
              " PosixPath('/root/.fastai/data/oxford-iiit-pet/images/havanese_187.jpg'),\n",
              " PosixPath('/root/.fastai/data/oxford-iiit-pet/images/Sphynx_122.jpg'),\n",
              " PosixPath('/root/.fastai/data/oxford-iiit-pet/images/yorkshire_terrier_100.jpg'),\n",
              " PosixPath('/root/.fastai/data/oxford-iiit-pet/images/Ragdoll_95.jpg'),\n",
              " PosixPath('/root/.fastai/data/oxford-iiit-pet/images/miniature_pinscher_11.jpg'),\n",
              " PosixPath('/root/.fastai/data/oxford-iiit-pet/images/pomeranian_172.jpg'),\n",
              " PosixPath('/root/.fastai/data/oxford-iiit-pet/images/newfoundland_183.jpg'),\n",
              " PosixPath('/root/.fastai/data/oxford-iiit-pet/images/Abyssinian_213.jpg'),\n",
              " PosixPath('/root/.fastai/data/oxford-iiit-pet/images/shiba_inu_95.jpg'),\n",
              " PosixPath('/root/.fastai/data/oxford-iiit-pet/images/Sphynx_34.jpg'),\n",
              " PosixPath('/root/.fastai/data/oxford-iiit-pet/images/american_pit_bull_terrier_10.jpg'),\n",
              " PosixPath('/root/.fastai/data/oxford-iiit-pet/images/Siamese_113.jpg'),\n",
              " PosixPath('/root/.fastai/data/oxford-iiit-pet/images/boxer_115.jpg'),\n",
              " PosixPath('/root/.fastai/data/oxford-iiit-pet/images/yorkshire_terrier_7.jpg'),\n",
              " PosixPath('/root/.fastai/data/oxford-iiit-pet/images/Russian_Blue_8.jpg'),\n",
              " PosixPath('/root/.fastai/data/oxford-iiit-pet/images/beagle_89.jpg'),\n",
              " PosixPath('/root/.fastai/data/oxford-iiit-pet/images/Abyssinian_126.jpg'),\n",
              " PosixPath('/root/.fastai/data/oxford-iiit-pet/images/beagle_138.jpg'),\n",
              " PosixPath('/root/.fastai/data/oxford-iiit-pet/images/miniature_pinscher_60.jpg'),\n",
              " PosixPath('/root/.fastai/data/oxford-iiit-pet/images/Russian_Blue_198.jpg'),\n",
              " PosixPath('/root/.fastai/data/oxford-iiit-pet/images/boxer_192.jpg'),\n",
              " PosixPath('/root/.fastai/data/oxford-iiit-pet/images/american_bulldog_27.jpg'),\n",
              " PosixPath('/root/.fastai/data/oxford-iiit-pet/images/newfoundland_84.jpg'),\n",
              " PosixPath('/root/.fastai/data/oxford-iiit-pet/images/Birman_72.jpg'),\n",
              " PosixPath('/root/.fastai/data/oxford-iiit-pet/images/beagle_127.jpg'),\n",
              " PosixPath('/root/.fastai/data/oxford-iiit-pet/images/basset_hound_16.jpg'),\n",
              " PosixPath('/root/.fastai/data/oxford-iiit-pet/images/shiba_inu_145.jpg'),\n",
              " PosixPath('/root/.fastai/data/oxford-iiit-pet/images/american_pit_bull_terrier_146.jpg'),\n",
              " PosixPath('/root/.fastai/data/oxford-iiit-pet/images/Egyptian_Mau_134.jpg'),\n",
              " PosixPath('/root/.fastai/data/oxford-iiit-pet/images/wheaten_terrier_179.jpg'),\n",
              " PosixPath('/root/.fastai/data/oxford-iiit-pet/images/Russian_Blue_31.jpg'),\n",
              " PosixPath('/root/.fastai/data/oxford-iiit-pet/images/wheaten_terrier_38.jpg'),\n",
              " PosixPath('/root/.fastai/data/oxford-iiit-pet/images/miniature_pinscher_188.jpg'),\n",
              " PosixPath('/root/.fastai/data/oxford-iiit-pet/images/leonberger_135.jpg'),\n",
              " PosixPath('/root/.fastai/data/oxford-iiit-pet/images/basset_hound_146.jpg'),\n",
              " PosixPath('/root/.fastai/data/oxford-iiit-pet/images/Sphynx_230.jpg'),\n",
              " PosixPath('/root/.fastai/data/oxford-iiit-pet/images/german_shorthaired_19.jpg'),\n",
              " PosixPath('/root/.fastai/data/oxford-iiit-pet/images/Birman_146.jpg'),\n",
              " PosixPath('/root/.fastai/data/oxford-iiit-pet/images/basset_hound_7.jpg'),\n",
              " PosixPath('/root/.fastai/data/oxford-iiit-pet/images/Bengal_49.jpg'),\n",
              " PosixPath('/root/.fastai/data/oxford-iiit-pet/images/yorkshire_terrier_136.jpg'),\n",
              " PosixPath('/root/.fastai/data/oxford-iiit-pet/images/Bengal_195.jpg'),\n",
              " PosixPath('/root/.fastai/data/oxford-iiit-pet/images/english_cocker_spaniel_193.jpg'),\n",
              " PosixPath('/root/.fastai/data/oxford-iiit-pet/images/german_shorthaired_23.jpg'),\n",
              " PosixPath('/root/.fastai/data/oxford-iiit-pet/images/boxer_8.jpg'),\n",
              " PosixPath('/root/.fastai/data/oxford-iiit-pet/images/havanese_152.jpg'),\n",
              " PosixPath('/root/.fastai/data/oxford-iiit-pet/images/Maine_Coon_253.jpg'),\n",
              " PosixPath('/root/.fastai/data/oxford-iiit-pet/images/Persian_41.jpg'),\n",
              " PosixPath('/root/.fastai/data/oxford-iiit-pet/images/Abyssinian_32.jpg'),\n",
              " PosixPath('/root/.fastai/data/oxford-iiit-pet/images/Egyptian_Mau_3.jpg'),\n",
              " PosixPath('/root/.fastai/data/oxford-iiit-pet/images/Abyssinian_3.jpg'),\n",
              " PosixPath('/root/.fastai/data/oxford-iiit-pet/images/chihuahua_98.jpg'),\n",
              " PosixPath('/root/.fastai/data/oxford-iiit-pet/images/British_Shorthair_29.jpg'),\n",
              " PosixPath('/root/.fastai/data/oxford-iiit-pet/images/havanese_132.jpg'),\n",
              " PosixPath('/root/.fastai/data/oxford-iiit-pet/images/yorkshire_terrier_28.jpg'),\n",
              " PosixPath('/root/.fastai/data/oxford-iiit-pet/images/saint_bernard_78.jpg'),\n",
              " PosixPath('/root/.fastai/data/oxford-iiit-pet/images/staffordshire_bull_terrier_99.jpg'),\n",
              " PosixPath('/root/.fastai/data/oxford-iiit-pet/images/Birman_118.jpg'),\n",
              " PosixPath('/root/.fastai/data/oxford-iiit-pet/images/Birman_197.jpg'),\n",
              " PosixPath('/root/.fastai/data/oxford-iiit-pet/images/american_bulldog_59.jpg'),\n",
              " PosixPath('/root/.fastai/data/oxford-iiit-pet/images/British_Shorthair_223.jpg'),\n",
              " PosixPath('/root/.fastai/data/oxford-iiit-pet/images/english_cocker_spaniel_7.jpg'),\n",
              " PosixPath('/root/.fastai/data/oxford-iiit-pet/images/Siamese_106.jpg'),\n",
              " PosixPath('/root/.fastai/data/oxford-iiit-pet/images/Russian_Blue_203.jpg'),\n",
              " PosixPath('/root/.fastai/data/oxford-iiit-pet/images/german_shorthaired_20.jpg'),\n",
              " PosixPath('/root/.fastai/data/oxford-iiit-pet/images/english_setter_123.jpg'),\n",
              " PosixPath('/root/.fastai/data/oxford-iiit-pet/images/shiba_inu_10.jpg'),\n",
              " PosixPath('/root/.fastai/data/oxford-iiit-pet/images/Bengal_131.jpg'),\n",
              " PosixPath('/root/.fastai/data/oxford-iiit-pet/images/British_Shorthair_33.jpg'),\n",
              " PosixPath('/root/.fastai/data/oxford-iiit-pet/images/pomeranian_154.jpg'),\n",
              " PosixPath('/root/.fastai/data/oxford-iiit-pet/images/Abyssinian_119.jpg'),\n",
              " PosixPath('/root/.fastai/data/oxford-iiit-pet/images/english_cocker_spaniel_54.jpg'),\n",
              " PosixPath('/root/.fastai/data/oxford-iiit-pet/images/Maine_Coon_150.jpg'),\n",
              " PosixPath('/root/.fastai/data/oxford-iiit-pet/images/saint_bernard_156.jpg'),\n",
              " PosixPath('/root/.fastai/data/oxford-iiit-pet/images/British_Shorthair_89.jpg'),\n",
              " PosixPath('/root/.fastai/data/oxford-iiit-pet/images/miniature_pinscher_118.jpg'),\n",
              " PosixPath('/root/.fastai/data/oxford-iiit-pet/images/english_cocker_spaniel_197.jpg'),\n",
              " PosixPath('/root/.fastai/data/oxford-iiit-pet/images/Persian_22.jpg'),\n",
              " PosixPath('/root/.fastai/data/oxford-iiit-pet/images/pug_31.jpg'),\n",
              " PosixPath('/root/.fastai/data/oxford-iiit-pet/images/american_pit_bull_terrier_200.jpg'),\n",
              " PosixPath('/root/.fastai/data/oxford-iiit-pet/images/shiba_inu_191.jpg'),\n",
              " PosixPath('/root/.fastai/data/oxford-iiit-pet/images/beagle_78.jpg'),\n",
              " PosixPath('/root/.fastai/data/oxford-iiit-pet/images/newfoundland_57.jpg'),\n",
              " PosixPath('/root/.fastai/data/oxford-iiit-pet/images/keeshond_79.jpg'),\n",
              " PosixPath('/root/.fastai/data/oxford-iiit-pet/images/Russian_Blue_62.jpg'),\n",
              " PosixPath('/root/.fastai/data/oxford-iiit-pet/images/Maine_Coon_161.jpg'),\n",
              " PosixPath('/root/.fastai/data/oxford-iiit-pet/images/boxer_167.jpg'),\n",
              " PosixPath('/root/.fastai/data/oxford-iiit-pet/images/german_shorthaired_47.jpg'),\n",
              " PosixPath('/root/.fastai/data/oxford-iiit-pet/images/Sphynx_138.jpg'),\n",
              " PosixPath('/root/.fastai/data/oxford-iiit-pet/images/British_Shorthair_230.jpg'),\n",
              " PosixPath('/root/.fastai/data/oxford-iiit-pet/images/Bombay_132.jpg'),\n",
              " PosixPath('/root/.fastai/data/oxford-iiit-pet/images/Maine_Coon_135.jpg'),\n",
              " PosixPath('/root/.fastai/data/oxford-iiit-pet/images/great_pyrenees_88.jpg'),\n",
              " PosixPath('/root/.fastai/data/oxford-iiit-pet/images/miniature_pinscher_152.jpg'),\n",
              " PosixPath('/root/.fastai/data/oxford-iiit-pet/images/newfoundland_193.jpg'),\n",
              " PosixPath('/root/.fastai/data/oxford-iiit-pet/images/Bombay_145.jpg'),\n",
              " PosixPath('/root/.fastai/data/oxford-iiit-pet/images/beagle_67.jpg'),\n",
              " PosixPath('/root/.fastai/data/oxford-iiit-pet/images/boxer_177.jpg'),\n",
              " PosixPath('/root/.fastai/data/oxford-iiit-pet/images/leonberger_72.jpg'),\n",
              " PosixPath('/root/.fastai/data/oxford-iiit-pet/images/chihuahua_70.jpg'),\n",
              " PosixPath('/root/.fastai/data/oxford-iiit-pet/images/Egyptian_Mau_91.jpg'),\n",
              " PosixPath('/root/.fastai/data/oxford-iiit-pet/images/keeshond_147.jpg'),\n",
              " PosixPath('/root/.fastai/data/oxford-iiit-pet/images/english_setter_138.jpg'),\n",
              " PosixPath('/root/.fastai/data/oxford-iiit-pet/images/yorkshire_terrier_142.jpg'),\n",
              " PosixPath('/root/.fastai/data/oxford-iiit-pet/images/newfoundland_100.jpg'),\n",
              " PosixPath('/root/.fastai/data/oxford-iiit-pet/images/Abyssinian_96.jpg'),\n",
              " PosixPath('/root/.fastai/data/oxford-iiit-pet/images/Bombay_126.jpg'),\n",
              " PosixPath('/root/.fastai/data/oxford-iiit-pet/images/Siamese_174.jpg'),\n",
              " PosixPath('/root/.fastai/data/oxford-iiit-pet/images/Egyptian_Mau_79.jpg'),\n",
              " PosixPath('/root/.fastai/data/oxford-iiit-pet/images/american_bulldog_7.jpg'),\n",
              " PosixPath('/root/.fastai/data/oxford-iiit-pet/images/British_Shorthair_263.jpg'),\n",
              " PosixPath('/root/.fastai/data/oxford-iiit-pet/images/american_pit_bull_terrier_36.jpg'),\n",
              " PosixPath('/root/.fastai/data/oxford-iiit-pet/images/Abyssinian_166.jpg'),\n",
              " PosixPath('/root/.fastai/data/oxford-iiit-pet/images/american_pit_bull_terrier_177.jpg'),\n",
              " PosixPath('/root/.fastai/data/oxford-iiit-pet/images/staffordshire_bull_terrier_166.jpg'),\n",
              " PosixPath('/root/.fastai/data/oxford-iiit-pet/images/chihuahua_66.jpg'),\n",
              " PosixPath('/root/.fastai/data/oxford-iiit-pet/images/Egyptian_Mau_209.jpg'),\n",
              " PosixPath('/root/.fastai/data/oxford-iiit-pet/images/boxer_138.jpg'),\n",
              " PosixPath('/root/.fastai/data/oxford-iiit-pet/images/Bengal_127.jpg'),\n",
              " PosixPath('/root/.fastai/data/oxford-iiit-pet/images/pug_117.jpg'),\n",
              " PosixPath('/root/.fastai/data/oxford-iiit-pet/images/american_bulldog_98.jpg'),\n",
              " PosixPath('/root/.fastai/data/oxford-iiit-pet/images/english_cocker_spaniel_133.jpg'),\n",
              " PosixPath('/root/.fastai/data/oxford-iiit-pet/images/Maine_Coon_76.jpg'),\n",
              " PosixPath('/root/.fastai/data/oxford-iiit-pet/images/Bengal_154.jpg'),\n",
              " PosixPath('/root/.fastai/data/oxford-iiit-pet/images/boxer_35.jpg'),\n",
              " PosixPath('/root/.fastai/data/oxford-iiit-pet/images/Bombay_191.jpg'),\n",
              " PosixPath('/root/.fastai/data/oxford-iiit-pet/images/Persian_174.jpg'),\n",
              " PosixPath('/root/.fastai/data/oxford-iiit-pet/images/pomeranian_87.jpg'),\n",
              " PosixPath('/root/.fastai/data/oxford-iiit-pet/images/Birman_51.jpg'),\n",
              " PosixPath('/root/.fastai/data/oxford-iiit-pet/images/japanese_chin_52.jpg'),\n",
              " PosixPath('/root/.fastai/data/oxford-iiit-pet/images/Persian_19.jpg'),\n",
              " PosixPath('/root/.fastai/data/oxford-iiit-pet/images/great_pyrenees_140.jpg'),\n",
              " PosixPath('/root/.fastai/data/oxford-iiit-pet/images/scottish_terrier_53.jpg'),\n",
              " PosixPath('/root/.fastai/data/oxford-iiit-pet/images/havanese_76.jpg'),\n",
              " PosixPath('/root/.fastai/data/oxford-iiit-pet/images/japanese_chin_21.jpg'),\n",
              " PosixPath('/root/.fastai/data/oxford-iiit-pet/images/Egyptian_Mau_86.jpg'),\n",
              " PosixPath('/root/.fastai/data/oxford-iiit-pet/images/newfoundland_96.jpg'),\n",
              " PosixPath('/root/.fastai/data/oxford-iiit-pet/images/Bombay_109.jpg'),\n",
              " PosixPath('/root/.fastai/data/oxford-iiit-pet/images/havanese_159.jpg'),\n",
              " PosixPath('/root/.fastai/data/oxford-iiit-pet/images/Abyssinian_94.jpg'),\n",
              " PosixPath('/root/.fastai/data/oxford-iiit-pet/images/keeshond_72.jpg'),\n",
              " PosixPath('/root/.fastai/data/oxford-iiit-pet/images/american_bulldog_120.jpg'),\n",
              " PosixPath('/root/.fastai/data/oxford-iiit-pet/images/chihuahua_71.jpg'),\n",
              " PosixPath('/root/.fastai/data/oxford-iiit-pet/images/Sphynx_28.jpg'),\n",
              " PosixPath('/root/.fastai/data/oxford-iiit-pet/images/miniature_pinscher_13.jpg'),\n",
              " PosixPath('/root/.fastai/data/oxford-iiit-pet/images/newfoundland_181.jpg'),\n",
              " PosixPath('/root/.fastai/data/oxford-iiit-pet/images/Russian_Blue_177.jpg'),\n",
              " PosixPath('/root/.fastai/data/oxford-iiit-pet/images/yorkshire_terrier_199.jpg'),\n",
              " PosixPath('/root/.fastai/data/oxford-iiit-pet/images/great_pyrenees_117.jpg'),\n",
              " PosixPath('/root/.fastai/data/oxford-iiit-pet/images/beagle_118.jpg'),\n",
              " PosixPath('/root/.fastai/data/oxford-iiit-pet/images/american_bulldog_23.jpg'),\n",
              " PosixPath('/root/.fastai/data/oxford-iiit-pet/images/Bengal_158.jpg'),\n",
              " PosixPath('/root/.fastai/data/oxford-iiit-pet/images/american_bulldog_104.jpg'),\n",
              " PosixPath('/root/.fastai/data/oxford-iiit-pet/images/Russian_Blue_124.jpg'),\n",
              " PosixPath('/root/.fastai/data/oxford-iiit-pet/images/samoyed_42.jpg'),\n",
              " PosixPath('/root/.fastai/data/oxford-iiit-pet/images/Sphynx_30.jpg'),\n",
              " PosixPath('/root/.fastai/data/oxford-iiit-pet/images/Bengal_88.jpg'),\n",
              " PosixPath('/root/.fastai/data/oxford-iiit-pet/images/scottish_terrier_172.jpg'),\n",
              " PosixPath('/root/.fastai/data/oxford-iiit-pet/images/havanese_31.jpg'),\n",
              " PosixPath('/root/.fastai/data/oxford-iiit-pet/images/Maine_Coon_174.jpg'),\n",
              " PosixPath('/root/.fastai/data/oxford-iiit-pet/images/yorkshire_terrier_50.jpg'),\n",
              " PosixPath('/root/.fastai/data/oxford-iiit-pet/images/shiba_inu_91.jpg'),\n",
              " PosixPath('/root/.fastai/data/oxford-iiit-pet/images/staffordshire_bull_terrier_121.jpg'),\n",
              " PosixPath('/root/.fastai/data/oxford-iiit-pet/images/Siamese_250.jpg'),\n",
              " PosixPath('/root/.fastai/data/oxford-iiit-pet/images/havanese_107.jpg'),\n",
              " PosixPath('/root/.fastai/data/oxford-iiit-pet/images/american_bulldog_62.jpg'),\n",
              " PosixPath('/root/.fastai/data/oxford-iiit-pet/images/Siamese_227.jpg'),\n",
              " PosixPath('/root/.fastai/data/oxford-iiit-pet/images/British_Shorthair_30.jpg'),\n",
              " PosixPath('/root/.fastai/data/oxford-iiit-pet/images/samoyed_48.jpg'),\n",
              " PosixPath('/root/.fastai/data/oxford-iiit-pet/images/great_pyrenees_48.jpg'),\n",
              " PosixPath('/root/.fastai/data/oxford-iiit-pet/images/wheaten_terrier_135.jpg'),\n",
              " PosixPath('/root/.fastai/data/oxford-iiit-pet/images/boxer_95.jpg'),\n",
              " PosixPath('/root/.fastai/data/oxford-iiit-pet/images/British_Shorthair_110.jpg'),\n",
              " PosixPath('/root/.fastai/data/oxford-iiit-pet/images/beagle_131.jpg'),\n",
              " PosixPath('/root/.fastai/data/oxford-iiit-pet/images/staffordshire_bull_terrier_67.jpg'),\n",
              " PosixPath('/root/.fastai/data/oxford-iiit-pet/images/japanese_chin_176.jpg'),\n",
              " PosixPath('/root/.fastai/data/oxford-iiit-pet/images/japanese_chin_150.jpg'),\n",
              " PosixPath('/root/.fastai/data/oxford-iiit-pet/images/miniature_pinscher_144.jpg'),\n",
              " PosixPath('/root/.fastai/data/oxford-iiit-pet/images/yorkshire_terrier_145.jpg'),\n",
              " PosixPath('/root/.fastai/data/oxford-iiit-pet/images/Persian_65.jpg'),\n",
              " PosixPath('/root/.fastai/data/oxford-iiit-pet/images/american_bulldog_5.jpg'),\n",
              " PosixPath('/root/.fastai/data/oxford-iiit-pet/images/Birman_178.jpg'),\n",
              " PosixPath('/root/.fastai/data/oxford-iiit-pet/images/japanese_chin_164.jpg'),\n",
              " PosixPath('/root/.fastai/data/oxford-iiit-pet/images/British_Shorthair_139.jpg'),\n",
              " PosixPath('/root/.fastai/data/oxford-iiit-pet/images/Maine_Coon_247.jpg'),\n",
              " PosixPath('/root/.fastai/data/oxford-iiit-pet/images/British_Shorthair_117.jpg'),\n",
              " PosixPath('/root/.fastai/data/oxford-iiit-pet/images/beagle_204.jpg'),\n",
              " PosixPath('/root/.fastai/data/oxford-iiit-pet/images/american_bulldog_83.jpg'),\n",
              " PosixPath('/root/.fastai/data/oxford-iiit-pet/images/Abyssinian_121.jpg'),\n",
              " PosixPath('/root/.fastai/data/oxford-iiit-pet/images/Bombay_95.jpg'),\n",
              " PosixPath('/root/.fastai/data/oxford-iiit-pet/images/Sphynx_24.jpg'),\n",
              " PosixPath('/root/.fastai/data/oxford-iiit-pet/images/Ragdoll_202.jpg'),\n",
              " PosixPath('/root/.fastai/data/oxford-iiit-pet/images/Bombay_221.jpg'),\n",
              " PosixPath('/root/.fastai/data/oxford-iiit-pet/images/wheaten_terrier_50.jpg'),\n",
              " PosixPath('/root/.fastai/data/oxford-iiit-pet/images/chihuahua_82.jpg'),\n",
              " PosixPath('/root/.fastai/data/oxford-iiit-pet/images/Russian_Blue_61.jpg'),\n",
              " PosixPath('/root/.fastai/data/oxford-iiit-pet/images/havanese_63.jpg'),\n",
              " PosixPath('/root/.fastai/data/oxford-iiit-pet/images/english_setter_197.jpg'),\n",
              " PosixPath('/root/.fastai/data/oxford-iiit-pet/images/boxer_123.jpg'),\n",
              " PosixPath('/root/.fastai/data/oxford-iiit-pet/images/Birman_6.jpg'),\n",
              " PosixPath('/root/.fastai/data/oxford-iiit-pet/images/miniature_pinscher_83.jpg'),\n",
              " PosixPath('/root/.fastai/data/oxford-iiit-pet/images/pomeranian_115.jpg'),\n",
              " PosixPath('/root/.fastai/data/oxford-iiit-pet/images/Maine_Coon_70.jpg'),\n",
              " PosixPath('/root/.fastai/data/oxford-iiit-pet/images/shiba_inu_200.jpg'),\n",
              " PosixPath('/root/.fastai/data/oxford-iiit-pet/images/Russian_Blue_43.jpg'),\n",
              " PosixPath('/root/.fastai/data/oxford-iiit-pet/images/newfoundland_126.jpg'),\n",
              " PosixPath('/root/.fastai/data/oxford-iiit-pet/images/Egyptian_Mau_112.jpg'),\n",
              " PosixPath('/root/.fastai/data/oxford-iiit-pet/images/Abyssinian_77.jpg'),\n",
              " PosixPath('/root/.fastai/data/oxford-iiit-pet/images/miniature_pinscher_57.jpg'),\n",
              " PosixPath('/root/.fastai/data/oxford-iiit-pet/images/boxer_103.jpg'),\n",
              " PosixPath('/root/.fastai/data/oxford-iiit-pet/images/german_shorthaired_119.jpg'),\n",
              " PosixPath('/root/.fastai/data/oxford-iiit-pet/images/american_pit_bull_terrier_140.jpg'),\n",
              " PosixPath('/root/.fastai/data/oxford-iiit-pet/images/keeshond_142.jpg'),\n",
              " PosixPath('/root/.fastai/data/oxford-iiit-pet/images/basset_hound_158.jpg'),\n",
              " PosixPath('/root/.fastai/data/oxford-iiit-pet/images/Sphynx_249.jpg'),\n",
              " PosixPath('/root/.fastai/data/oxford-iiit-pet/images/german_shorthaired_124.jpg'),\n",
              " PosixPath('/root/.fastai/data/oxford-iiit-pet/images/great_pyrenees_176.jpg'),\n",
              " PosixPath('/root/.fastai/data/oxford-iiit-pet/images/leonberger_101.jpg'),\n",
              " PosixPath('/root/.fastai/data/oxford-iiit-pet/images/saint_bernard_176.jpg'),\n",
              " PosixPath('/root/.fastai/data/oxford-iiit-pet/images/Persian_94.jpg'),\n",
              " PosixPath('/root/.fastai/data/oxford-iiit-pet/images/boxer_2.jpg'),\n",
              " PosixPath('/root/.fastai/data/oxford-iiit-pet/images/leonberger_66.jpg'),\n",
              " PosixPath('/root/.fastai/data/oxford-iiit-pet/images/Bengal_43.jpg'),\n",
              " PosixPath('/root/.fastai/data/oxford-iiit-pet/images/american_bulldog_107.jpg'),\n",
              " PosixPath('/root/.fastai/data/oxford-iiit-pet/images/great_pyrenees_61.jpg'),\n",
              " PosixPath('/root/.fastai/data/oxford-iiit-pet/images/Birman_141.jpg'),\n",
              " PosixPath('/root/.fastai/data/oxford-iiit-pet/images/american_pit_bull_terrier_28.jpg'),\n",
              " PosixPath('/root/.fastai/data/oxford-iiit-pet/images/Ragdoll_228.jpg'),\n",
              " PosixPath('/root/.fastai/data/oxford-iiit-pet/images/Russian_Blue_184.jpg'),\n",
              " PosixPath('/root/.fastai/data/oxford-iiit-pet/images/wheaten_terrier_77.jpg'),\n",
              " PosixPath('/root/.fastai/data/oxford-iiit-pet/images/wheaten_terrier_49.jpg'),\n",
              " PosixPath('/root/.fastai/data/oxford-iiit-pet/images/havanese_92.jpg'),\n",
              " PosixPath('/root/.fastai/data/oxford-iiit-pet/images/saint_bernard_125.jpg'),\n",
              " PosixPath('/root/.fastai/data/oxford-iiit-pet/images/Bombay_6.jpg'),\n",
              " PosixPath('/root/.fastai/data/oxford-iiit-pet/images/leonberger_192.jpg'),\n",
              " PosixPath('/root/.fastai/data/oxford-iiit-pet/images/pomeranian_146.jpg'),\n",
              " PosixPath('/root/.fastai/data/oxford-iiit-pet/images/great_pyrenees_107.jpg'),\n",
              " PosixPath('/root/.fastai/data/oxford-iiit-pet/images/leonberger_78.jpg'),\n",
              " PosixPath('/root/.fastai/data/oxford-iiit-pet/images/Persian_66.jpg'),\n",
              " PosixPath('/root/.fastai/data/oxford-iiit-pet/images/havanese_194.jpg'),\n",
              " PosixPath('/root/.fastai/data/oxford-iiit-pet/images/Sphynx_31.jpg'),\n",
              " PosixPath('/root/.fastai/data/oxford-iiit-pet/images/havanese_24.jpg'),\n",
              " PosixPath('/root/.fastai/data/oxford-iiit-pet/images/leonberger_126.jpg'),\n",
              " PosixPath('/root/.fastai/data/oxford-iiit-pet/images/american_pit_bull_terrier_127.jpg'),\n",
              " PosixPath('/root/.fastai/data/oxford-iiit-pet/images/Bengal_171.jpg'),\n",
              " PosixPath('/root/.fastai/data/oxford-iiit-pet/images/Egyptian_Mau_120.jpg'),\n",
              " PosixPath('/root/.fastai/data/oxford-iiit-pet/images/shiba_inu_159.jpg'),\n",
              " PosixPath('/root/.fastai/data/oxford-iiit-pet/images/english_setter_88.jpg'),\n",
              " PosixPath('/root/.fastai/data/oxford-iiit-pet/images/staffordshire_bull_terrier_127.jpg'),\n",
              " PosixPath('/root/.fastai/data/oxford-iiit-pet/images/British_Shorthair_198.jpg'),\n",
              " PosixPath('/root/.fastai/data/oxford-iiit-pet/images/newfoundland_111.jpg'),\n",
              " PosixPath('/root/.fastai/data/oxford-iiit-pet/images/havanese_37.jpg'),\n",
              " PosixPath('/root/.fastai/data/oxford-iiit-pet/images/saint_bernard_48.jpg'),\n",
              " PosixPath('/root/.fastai/data/oxford-iiit-pet/images/scottish_terrier_141.jpg'),\n",
              " PosixPath('/root/.fastai/data/oxford-iiit-pet/images/Sphynx_29.jpg'),\n",
              " PosixPath('/root/.fastai/data/oxford-iiit-pet/images/miniature_pinscher_53.jpg'),\n",
              " PosixPath('/root/.fastai/data/oxford-iiit-pet/images/english_setter_99.jpg'),\n",
              " PosixPath('/root/.fastai/data/oxford-iiit-pet/images/havanese_11.jpg'),\n",
              " PosixPath('/root/.fastai/data/oxford-iiit-pet/images/Egyptian_Mau_6.jpg'),\n",
              " PosixPath('/root/.fastai/data/oxford-iiit-pet/images/beagle_193.jpg'),\n",
              " PosixPath('/root/.fastai/data/oxford-iiit-pet/images/British_Shorthair_201.jpg'),\n",
              " PosixPath('/root/.fastai/data/oxford-iiit-pet/images/British_Shorthair_97.jpg'),\n",
              " PosixPath('/root/.fastai/data/oxford-iiit-pet/images/scottish_terrier_77.jpg'),\n",
              " PosixPath('/root/.fastai/data/oxford-iiit-pet/images/wheaten_terrier_32.jpg'),\n",
              " PosixPath('/root/.fastai/data/oxford-iiit-pet/images/english_setter_10.jpg'),\n",
              " PosixPath('/root/.fastai/data/oxford-iiit-pet/images/Bombay_120.jpg'),\n",
              " PosixPath('/root/.fastai/data/oxford-iiit-pet/images/german_shorthaired_6.jpg'),\n",
              " PosixPath('/root/.fastai/data/oxford-iiit-pet/images/Siamese_30.jpg'),\n",
              " PosixPath('/root/.fastai/data/oxford-iiit-pet/images/basset_hound_97.jpg'),\n",
              " PosixPath('/root/.fastai/data/oxford-iiit-pet/images/miniature_pinscher_110.jpg'),\n",
              " PosixPath('/root/.fastai/data/oxford-iiit-pet/images/japanese_chin_196.jpg'),\n",
              " PosixPath('/root/.fastai/data/oxford-iiit-pet/images/pomeranian_61.jpg'),\n",
              " PosixPath('/root/.fastai/data/oxford-iiit-pet/images/german_shorthaired_160.jpg'),\n",
              " PosixPath('/root/.fastai/data/oxford-iiit-pet/images/British_Shorthair_148.jpg'),\n",
              " PosixPath('/root/.fastai/data/oxford-iiit-pet/images/Egyptian_Mau_53.jpg'),\n",
              " PosixPath('/root/.fastai/data/oxford-iiit-pet/images/staffordshire_bull_terrier_55.jpg'),\n",
              " PosixPath('/root/.fastai/data/oxford-iiit-pet/images/Abyssinian_57.jpg'),\n",
              " PosixPath('/root/.fastai/data/oxford-iiit-pet/images/beagle_150.jpg'),\n",
              " PosixPath('/root/.fastai/data/oxford-iiit-pet/images/havanese_7.jpg'),\n",
              " PosixPath('/root/.fastai/data/oxford-iiit-pet/images/Russian_Blue_82.jpg'),\n",
              " PosixPath('/root/.fastai/data/oxford-iiit-pet/images/pomeranian_24.jpg'),\n",
              " PosixPath('/root/.fastai/data/oxford-iiit-pet/images/saint_bernard_157.jpg'),\n",
              " PosixPath('/root/.fastai/data/oxford-iiit-pet/images/scottish_terrier_66.jpg'),\n",
              " PosixPath('/root/.fastai/data/oxford-iiit-pet/images/havanese_22.jpg'),\n",
              " PosixPath('/root/.fastai/data/oxford-iiit-pet/images/keeshond_93.jpg'),\n",
              " PosixPath('/root/.fastai/data/oxford-iiit-pet/images/chihuahua_172.jpg'),\n",
              " PosixPath('/root/.fastai/data/oxford-iiit-pet/images/Bengal_177.jpg'),\n",
              " PosixPath('/root/.fastai/data/oxford-iiit-pet/images/scottish_terrier_95.jpg'),\n",
              " PosixPath('/root/.fastai/data/oxford-iiit-pet/images/Egyptian_Mau_88.jpg'),\n",
              " PosixPath('/root/.fastai/data/oxford-iiit-pet/images/american_pit_bull_terrier_195.jpg'),\n",
              " PosixPath('/root/.fastai/data/oxford-iiit-pet/images/scottish_terrier_169.jpg'),\n",
              " PosixPath('/root/.fastai/data/oxford-iiit-pet/images/chihuahua_189.jpg'),\n",
              " PosixPath('/root/.fastai/data/oxford-iiit-pet/images/samoyed_182.jpg'),\n",
              " PosixPath('/root/.fastai/data/oxford-iiit-pet/images/newfoundland_149.jpg'),\n",
              " PosixPath('/root/.fastai/data/oxford-iiit-pet/images/american_pit_bull_terrier_175.jpg'),\n",
              " PosixPath('/root/.fastai/data/oxford-iiit-pet/images/american_bulldog_178.jpg'),\n",
              " PosixPath('/root/.fastai/data/oxford-iiit-pet/images/Ragdoll_88.jpg'),\n",
              " PosixPath('/root/.fastai/data/oxford-iiit-pet/images/keeshond_186.jpg'),\n",
              " PosixPath('/root/.fastai/data/oxford-iiit-pet/images/japanese_chin_118.jpg'),\n",
              " PosixPath('/root/.fastai/data/oxford-iiit-pet/images/miniature_pinscher_67.jpg'),\n",
              " PosixPath('/root/.fastai/data/oxford-iiit-pet/images/saint_bernard_146.jpg'),\n",
              " PosixPath('/root/.fastai/data/oxford-iiit-pet/images/Persian_95.jpg'),\n",
              " PosixPath('/root/.fastai/data/oxford-iiit-pet/images/wheaten_terrier_142.jpg'),\n",
              " PosixPath('/root/.fastai/data/oxford-iiit-pet/images/havanese_83.jpg'),\n",
              " PosixPath('/root/.fastai/data/oxford-iiit-pet/images/beagle_158.jpg'),\n",
              " PosixPath('/root/.fastai/data/oxford-iiit-pet/images/British_Shorthair_2.jpg'),\n",
              " PosixPath('/root/.fastai/data/oxford-iiit-pet/images/american_bulldog_138.jpg'),\n",
              " PosixPath('/root/.fastai/data/oxford-iiit-pet/images/boxer_121.jpg'),\n",
              " PosixPath('/root/.fastai/data/oxford-iiit-pet/images/boxer_5.jpg'),\n",
              " PosixPath('/root/.fastai/data/oxford-iiit-pet/images/Sphynx_91.jpg'),\n",
              " PosixPath('/root/.fastai/data/oxford-iiit-pet/images/leonberger_58.jpg'),\n",
              " PosixPath('/root/.fastai/data/oxford-iiit-pet/images/japanese_chin_13.jpg'),\n",
              " PosixPath('/root/.fastai/data/oxford-iiit-pet/images/Siamese_33.jpg'),\n",
              " PosixPath('/root/.fastai/data/oxford-iiit-pet/images/chihuahua_176.jpg'),\n",
              " PosixPath('/root/.fastai/data/oxford-iiit-pet/images/newfoundland_155.jpg'),\n",
              " PosixPath('/root/.fastai/data/oxford-iiit-pet/images/american_bulldog_12.jpg'),\n",
              " PosixPath('/root/.fastai/data/oxford-iiit-pet/images/english_cocker_spaniel_172.jpg'),\n",
              " PosixPath('/root/.fastai/data/oxford-iiit-pet/images/Ragdoll_42.jpg'),\n",
              " PosixPath('/root/.fastai/data/oxford-iiit-pet/images/german_shorthaired_13.jpg'),\n",
              " PosixPath('/root/.fastai/data/oxford-iiit-pet/images/leonberger_116.jpg'),\n",
              " PosixPath('/root/.fastai/data/oxford-iiit-pet/images/Bengal_33.jpg'),\n",
              " PosixPath('/root/.fastai/data/oxford-iiit-pet/images/Russian_Blue_85.jpg'),\n",
              " PosixPath('/root/.fastai/data/oxford-iiit-pet/images/yorkshire_terrier_174.jpg'),\n",
              " PosixPath('/root/.fastai/data/oxford-iiit-pet/images/Egyptian_Mau_93.jpg'),\n",
              " PosixPath('/root/.fastai/data/oxford-iiit-pet/images/yorkshire_terrier_132.jpg'),\n",
              " PosixPath('/root/.fastai/data/oxford-iiit-pet/images/Ragdoll_25.jpg'),\n",
              " PosixPath('/root/.fastai/data/oxford-iiit-pet/images/english_setter_5.jpg'),\n",
              " PosixPath('/root/.fastai/data/oxford-iiit-pet/images/shiba_inu_92.jpg'),\n",
              " PosixPath('/root/.fastai/data/oxford-iiit-pet/images/Russian_Blue_204.jpg'),\n",
              " PosixPath('/root/.fastai/data/oxford-iiit-pet/images/Bengal_122.jpg'),\n",
              " PosixPath('/root/.fastai/data/oxford-iiit-pet/images/american_bulldog_101.jpg'),\n",
              " PosixPath('/root/.fastai/data/oxford-iiit-pet/images/japanese_chin_66.jpg'),\n",
              " PosixPath('/root/.fastai/data/oxford-iiit-pet/images/shiba_inu_90.jpg'),\n",
              " PosixPath('/root/.fastai/data/oxford-iiit-pet/images/British_Shorthair_186.jpg'),\n",
              " PosixPath('/root/.fastai/data/oxford-iiit-pet/images/wheaten_terrier_96.jpg'),\n",
              " PosixPath('/root/.fastai/data/oxford-iiit-pet/images/leonberger_122.jpg'),\n",
              " PosixPath('/root/.fastai/data/oxford-iiit-pet/images/scottish_terrier_81.jpg'),\n",
              " PosixPath('/root/.fastai/data/oxford-iiit-pet/images/wheaten_terrier_180.jpg'),\n",
              " PosixPath('/root/.fastai/data/oxford-iiit-pet/images/english_setter_143.jpg'),\n",
              " PosixPath('/root/.fastai/data/oxford-iiit-pet/images/scottish_terrier_41.jpg'),\n",
              " PosixPath('/root/.fastai/data/oxford-iiit-pet/images/miniature_pinscher_22.jpg'),\n",
              " PosixPath('/root/.fastai/data/oxford-iiit-pet/images/scottish_terrier_134.jpg'),\n",
              " PosixPath('/root/.fastai/data/oxford-iiit-pet/images/newfoundland_172.jpg'),\n",
              " PosixPath('/root/.fastai/data/oxford-iiit-pet/images/boxer_92.jpg'),\n",
              " PosixPath('/root/.fastai/data/oxford-iiit-pet/images/Siamese_108.jpg'),\n",
              " PosixPath('/root/.fastai/data/oxford-iiit-pet/images/staffordshire_bull_terrier_185.jpg'),\n",
              " PosixPath('/root/.fastai/data/oxford-iiit-pet/images/Bengal_91.jpg'),\n",
              " PosixPath('/root/.fastai/data/oxford-iiit-pet/images/miniature_pinscher_77.jpg'),\n",
              " PosixPath('/root/.fastai/data/oxford-iiit-pet/images/japanese_chin_28.jpg'),\n",
              " PosixPath('/root/.fastai/data/oxford-iiit-pet/images/Abyssinian_170.jpg'),\n",
              " PosixPath('/root/.fastai/data/oxford-iiit-pet/images/beagle_68.jpg'),\n",
              " PosixPath('/root/.fastai/data/oxford-iiit-pet/images/Persian_163.jpg'),\n",
              " PosixPath('/root/.fastai/data/oxford-iiit-pet/images/havanese_133.jpg'),\n",
              " PosixPath('/root/.fastai/data/oxford-iiit-pet/images/Russian_Blue_175.jpg'),\n",
              " PosixPath('/root/.fastai/data/oxford-iiit-pet/images/Ragdoll_122.jpg'),\n",
              " PosixPath('/root/.fastai/data/oxford-iiit-pet/images/american_pit_bull_terrier_62.jpg'),\n",
              " PosixPath('/root/.fastai/data/oxford-iiit-pet/images/american_pit_bull_terrier_154.jpg'),\n",
              " PosixPath('/root/.fastai/data/oxford-iiit-pet/images/beagle_92.jpg'),\n",
              " PosixPath('/root/.fastai/data/oxford-iiit-pet/images/Russian_Blue_140.jpg'),\n",
              " PosixPath('/root/.fastai/data/oxford-iiit-pet/images/leonberger_59.jpg'),\n",
              " PosixPath('/root/.fastai/data/oxford-iiit-pet/images/german_shorthaired_80.jpg'),\n",
              " PosixPath('/root/.fastai/data/oxford-iiit-pet/images/beagle_3.jpg'),\n",
              " PosixPath('/root/.fastai/data/oxford-iiit-pet/images/scottish_terrier_57.jpg'),\n",
              " PosixPath('/root/.fastai/data/oxford-iiit-pet/images/scottish_terrier_197.jpg'),\n",
              " PosixPath('/root/.fastai/data/oxford-iiit-pet/images/pug_60.jpg'),\n",
              " PosixPath('/root/.fastai/data/oxford-iiit-pet/images/english_setter_114.jpg'),\n",
              " PosixPath('/root/.fastai/data/oxford-iiit-pet/images/pug_161.jpg'),\n",
              " PosixPath('/root/.fastai/data/oxford-iiit-pet/images/Sphynx_76.jpg'),\n",
              " PosixPath('/root/.fastai/data/oxford-iiit-pet/images/boxer_66.jpg'),\n",
              " PosixPath('/root/.fastai/data/oxford-iiit-pet/images/yorkshire_terrier_31.jpg'),\n",
              " PosixPath('/root/.fastai/data/oxford-iiit-pet/images/yorkshire_terrier_119.jpg'),\n",
              " PosixPath('/root/.fastai/data/oxford-iiit-pet/images/great_pyrenees_102.jpg'),\n",
              " PosixPath('/root/.fastai/data/oxford-iiit-pet/images/Persian_70.jpg'),\n",
              " PosixPath('/root/.fastai/data/oxford-iiit-pet/images/miniature_pinscher_140.jpg'),\n",
              " PosixPath('/root/.fastai/data/oxford-iiit-pet/images/Siamese_181.jpg'),\n",
              " PosixPath('/root/.fastai/data/oxford-iiit-pet/images/staffordshire_bull_terrier_128.jpg'),\n",
              " PosixPath('/root/.fastai/data/oxford-iiit-pet/images/Bombay_111.jpg'),\n",
              " PosixPath('/root/.fastai/data/oxford-iiit-pet/images/beagle_39.jpg'),\n",
              " PosixPath('/root/.fastai/data/oxford-iiit-pet/images/american_pit_bull_terrier_41.jpg'),\n",
              " PosixPath('/root/.fastai/data/oxford-iiit-pet/images/chihuahua_187.jpg'),\n",
              " PosixPath('/root/.fastai/data/oxford-iiit-pet/images/British_Shorthair_130.jpg'),\n",
              " PosixPath('/root/.fastai/data/oxford-iiit-pet/images/american_pit_bull_terrier_69.jpg'),\n",
              " PosixPath('/root/.fastai/data/oxford-iiit-pet/images/boxer_28.jpg'),\n",
              " PosixPath('/root/.fastai/data/oxford-iiit-pet/images/Russian_Blue_44.jpg'),\n",
              " PosixPath('/root/.fastai/data/oxford-iiit-pet/images/Persian_264.jpg'),\n",
              " PosixPath('/root/.fastai/data/oxford-iiit-pet/images/Siamese_50.jpg'),\n",
              " PosixPath('/root/.fastai/data/oxford-iiit-pet/images/japanese_chin_178.jpg'),\n",
              " PosixPath('/root/.fastai/data/oxford-iiit-pet/images/american_bulldog_45.jpg'),\n",
              " PosixPath('/root/.fastai/data/oxford-iiit-pet/images/pug_28.jpg'),\n",
              " PosixPath('/root/.fastai/data/oxford-iiit-pet/images/japanese_chin_88.jpg'),\n",
              " PosixPath('/root/.fastai/data/oxford-iiit-pet/images/Sphynx_95.jpg'),\n",
              " PosixPath('/root/.fastai/data/oxford-iiit-pet/images/leonberger_113.jpg'),\n",
              " PosixPath('/root/.fastai/data/oxford-iiit-pet/images/saint_bernard_55.jpg'),\n",
              " PosixPath('/root/.fastai/data/oxford-iiit-pet/images/Russian_Blue_19.jpg'),\n",
              " PosixPath('/root/.fastai/data/oxford-iiit-pet/images/Egyptian_Mau_140.jpg'),\n",
              " PosixPath('/root/.fastai/data/oxford-iiit-pet/images/Persian_179.jpg'),\n",
              " PosixPath('/root/.fastai/data/oxford-iiit-pet/images/Bombay_201.jpg'),\n",
              " PosixPath('/root/.fastai/data/oxford-iiit-pet/images/pomeranian_73.jpg'),\n",
              " PosixPath('/root/.fastai/data/oxford-iiit-pet/images/staffordshire_bull_terrier_191.jpg'),\n",
              " PosixPath('/root/.fastai/data/oxford-iiit-pet/images/saint_bernard_32.jpg'),\n",
              " PosixPath('/root/.fastai/data/oxford-iiit-pet/images/Maine_Coon_132.jpg'),\n",
              " PosixPath('/root/.fastai/data/oxford-iiit-pet/images/Ragdoll_162.jpg'),\n",
              " PosixPath('/root/.fastai/data/oxford-iiit-pet/images/Sphynx_153.jpg'),\n",
              " PosixPath('/root/.fastai/data/oxford-iiit-pet/images/basset_hound_110.jpg'),\n",
              " PosixPath('/root/.fastai/data/oxford-iiit-pet/images/Birman_134.jpg'),\n",
              " PosixPath('/root/.fastai/data/oxford-iiit-pet/images/Maine_Coon_155.jpg'),\n",
              " PosixPath('/root/.fastai/data/oxford-iiit-pet/images/american_pit_bull_terrier_27.jpg'),\n",
              " PosixPath('/root/.fastai/data/oxford-iiit-pet/images/scottish_terrier_13.jpg'),\n",
              " PosixPath('/root/.fastai/data/oxford-iiit-pet/images/saint_bernard_68.jpg'),\n",
              " PosixPath('/root/.fastai/data/oxford-iiit-pet/images/Ragdoll_208.jpg'),\n",
              " PosixPath('/root/.fastai/data/oxford-iiit-pet/images/pomeranian_124.jpg'),\n",
              " PosixPath('/root/.fastai/data/oxford-iiit-pet/images/Bengal_27.jpg'),\n",
              " PosixPath('/root/.fastai/data/oxford-iiit-pet/images/Birman_44.jpg'),\n",
              " PosixPath('/root/.fastai/data/oxford-iiit-pet/images/american_pit_bull_terrier_142.jpg'),\n",
              " PosixPath('/root/.fastai/data/oxford-iiit-pet/images/staffordshire_bull_terrier_113.jpg'),\n",
              " PosixPath('/root/.fastai/data/oxford-iiit-pet/images/Bombay_106.jpg'),\n",
              " PosixPath('/root/.fastai/data/oxford-iiit-pet/images/american_pit_bull_terrier_63.jpg'),\n",
              " PosixPath('/root/.fastai/data/oxford-iiit-pet/images/pug_25.jpg'),\n",
              " PosixPath('/root/.fastai/data/oxford-iiit-pet/images/Egyptian_Mau_111.jpg'),\n",
              " PosixPath('/root/.fastai/data/oxford-iiit-pet/images/Egyptian_Mau_224.jpg'),\n",
              " PosixPath('/root/.fastai/data/oxford-iiit-pet/images/havanese_180.jpg'),\n",
              " PosixPath('/root/.fastai/data/oxford-iiit-pet/images/english_cocker_spaniel_100.jpg'),\n",
              " PosixPath('/root/.fastai/data/oxford-iiit-pet/images/basset_hound_114.jpg'),\n",
              " PosixPath('/root/.fastai/data/oxford-iiit-pet/images/boxer_51.jpg'),\n",
              " PosixPath('/root/.fastai/data/oxford-iiit-pet/images/english_cocker_spaniel_67.jpg'),\n",
              " PosixPath('/root/.fastai/data/oxford-iiit-pet/images/basset_hound_135.jpg'),\n",
              " PosixPath('/root/.fastai/data/oxford-iiit-pet/images/Bengal_50.jpg'),\n",
              " PosixPath('/root/.fastai/data/oxford-iiit-pet/images/chihuahua_161.jpg'),\n",
              " PosixPath('/root/.fastai/data/oxford-iiit-pet/images/wheaten_terrier_197.jpg'),\n",
              " PosixPath('/root/.fastai/data/oxford-iiit-pet/images/Persian_233.jpg'),\n",
              " PosixPath('/root/.fastai/data/oxford-iiit-pet/images/samoyed_187.jpg'),\n",
              " ...]"
            ]
          },
          "metadata": {
            "tags": []
          },
          "execution_count": 42
        }
      ]
    },
    {
      "cell_type": "code",
      "metadata": {
        "id": "mHjQPyzGh_Pz",
        "colab_type": "code",
        "colab": {}
      },
      "source": [
        "np.random.seed(2)\n",
        "pat = r'/([^/]+)_\\d+.jpg$'"
      ],
      "execution_count": 0,
      "outputs": []
    },
    {
      "cell_type": "code",
      "metadata": {
        "id": "ddH2FPE2h_P4",
        "colab_type": "code",
        "colab": {}
      },
      "source": [
        "data = ImageDataBunch.from_name_re(path_img, fnames, pat, ds_tfms=get_transforms(), size=224, bs=bs\n",
        "                                  ).normalize(imagenet_stats)"
      ],
      "execution_count": 0,
      "outputs": []
    },
    {
      "cell_type": "code",
      "metadata": {
        "id": "59QOLzJch_P-",
        "colab_type": "code",
        "outputId": "b63ef161-3255-4cde-ab4a-f4467dbeb0da",
        "colab": {
          "base_uri": "https://localhost:8080/",
          "height": 414
        }
      },
      "source": [
        "data.show_batch(rows=5, figsize=(7,6))"
      ],
      "execution_count": 34,
      "outputs": [
        {
          "output_type": "display_data",
          "data": {
            "image/png": "[encoded data removed]",
            "text/plain": [
              "<Figure size 504x432 with 25 Axes>"
            ]
          },
          "metadata": {
            "tags": [],
            "needs_background": "light"
          }
        }
      ]
    },
    {
      "cell_type": "code",
      "metadata": {
        "id": "iRbtZ1k_h_QF",
        "colab_type": "code",
        "outputId": "ff8597f7-b458-4cc6-dcf1-4ae01b3e5b5f",
        "colab": {
          "base_uri": "https://localhost:8080/",
          "height": 72
        }
      },
      "source": [
        "print(data.classes)\n",
        "len(data.classes),data.c"
      ],
      "execution_count": 35,
      "outputs": [
        {
          "output_type": "stream",
          "text": [
            "['Abyssinian', 'Bengal', 'Birman', 'Bombay', 'British_Shorthair', 'Egyptian_Mau', 'Maine_Coon', 'Persian', 'Ragdoll', 'Russian_Blue', 'Siamese', 'Sphynx', 'american_bulldog', 'american_pit_bull_terrier', 'basset_hound', 'beagle', 'boxer', 'chihuahua', 'english_cocker_spaniel', 'english_setter', 'german_shorthaired', 'great_pyrenees', 'havanese', 'japanese_chin', 'keeshond', 'leonberger', 'miniature_pinscher', 'newfoundland', 'pomeranian', 'pug', 'saint_bernard', 'samoyed', 'scottish_terrier', 'shiba_inu', 'staffordshire_bull_terrier', 'wheaten_terrier', 'yorkshire_terrier']\n"
          ],
          "name": "stdout"
        },
        {
          "output_type": "execute_result",
          "data": {
            "text/plain": [
              "(37, 37)"
            ]
          },
          "metadata": {
            "tags": []
          },
          "execution_count": 35
        }
      ]
    },
    {
      "cell_type": "markdown",
      "metadata": {
        "id": "qglXuid8h_QL",
        "colab_type": "text"
      },
      "source": [
        "## Training: resnet34"
      ]
    },
    {
      "cell_type": "markdown",
      "metadata": {
        "id": "XovCQLyEh_QM",
        "colab_type": "text"
      },
      "source": [
        "Now we will start training our model. We will use a [convolutional neural network](http://cs231n.github.io/convolutional-networks/) backbone and a fully connected head with a single hidden layer as a classifier. Don't know what these things mean? Not to worry, we will dive deeper in the coming lessons. For the moment you need to know that we are building a model which will take images as input and will output the predicted probability for each of the categories (in this case, it will have 37 outputs).\n",
        "\n",
        "We will train for 4 epochs (4 cycles through all our data)."
      ]
    },
    {
      "cell_type": "code",
      "metadata": {
        "id": "uaOGz8UUh_QN",
        "colab_type": "code",
        "colab": {}
      },
      "source": [
        "learn = cnn_learner(data, models.resnet34, metrics=[accuracy,error_rate])"
      ],
      "execution_count": 0,
      "outputs": []
    },
    {
      "cell_type": "code",
      "metadata": {
        "id": "Ai0KxxVSh_QZ",
        "colab_type": "code",
        "outputId": "0db94a80-e215-4f8d-f635-5b290a23d1f5",
        "colab": {
          "base_uri": "https://localhost:8080/",
          "height": 175
        }
      },
      "source": [
        "learn.fit_one_cycle(4)"
      ],
      "execution_count": 40,
      "outputs": [
        {
          "output_type": "display_data",
          "data": {
            "text/html": [
              "<table border=\"1\" class=\"dataframe\">\n",
              "  <thead>\n",
              "    <tr style=\"text-align: left;\">\n",
              "      <th>epoch</th>\n",
              "      <th>train_loss</th>\n",
              "      <th>valid_loss</th>\n",
              "      <th>accuracy</th>\n",
              "      <th>error_rate</th>\n",
              "      <th>time</th>\n",
              "    </tr>\n",
              "  </thead>\n",
              "  <tbody>\n",
              "    <tr>\n",
              "      <td>0</td>\n",
              "      <td>1.370404</td>\n",
              "      <td>0.377299</td>\n",
              "      <td>0.876184</td>\n",
              "      <td>0.123816</td>\n",
              "      <td>01:33</td>\n",
              "    </tr>\n",
              "    <tr>\n",
              "      <td>1</td>\n",
              "      <td>0.614154</td>\n",
              "      <td>0.293676</td>\n",
              "      <td>0.909337</td>\n",
              "      <td>0.090663</td>\n",
              "      <td>01:31</td>\n",
              "    </tr>\n",
              "    <tr>\n",
              "      <td>2</td>\n",
              "      <td>0.381597</td>\n",
              "      <td>0.256509</td>\n",
              "      <td>0.918133</td>\n",
              "      <td>0.081867</td>\n",
              "      <td>01:31</td>\n",
              "    </tr>\n",
              "    <tr>\n",
              "      <td>3</td>\n",
              "      <td>0.275497</td>\n",
              "      <td>0.248073</td>\n",
              "      <td>0.924899</td>\n",
              "      <td>0.075101</td>\n",
              "      <td>01:30</td>\n",
              "    </tr>\n",
              "  </tbody>\n",
              "</table>"
            ],
            "text/plain": [
              "<IPython.core.display.HTML object>"
            ]
          },
          "metadata": {
            "tags": []
          }
        }
      ]
    },
    {
      "cell_type": "code",
      "metadata": {
        "id": "_XB2v8k5h_Qe",
        "colab_type": "code",
        "colab": {}
      },
      "source": [
        "learn.save('stage-1')"
      ],
      "execution_count": 0,
      "outputs": []
    },
    {
      "cell_type": "markdown",
      "metadata": {
        "id": "Ic11sEJGh_Qi",
        "colab_type": "text"
      },
      "source": [
        "## Results"
      ]
    },
    {
      "cell_type": "markdown",
      "metadata": {
        "id": "K9l3EFnAh_Qi",
        "colab_type": "text"
      },
      "source": [
        "Let's see what results we have got. \n",
        "\n",
        "We will first see which were the categories that the model most confused with one another. We will try to see if what the model predicted was reasonable or not. In this case the mistakes look reasonable (none of the mistakes seems obviously naive). This is an indicator that our classifier is working correctly. \n",
        "\n",
        "Furthermore, when we plot the confusion matrix, we can see that the distribution is heavily skewed: the model makes the same mistakes over and over again but it rarely confuses other categories. This suggests that it just finds it difficult to distinguish some specific categories between each other; this is normal behaviour."
      ]
    },
    {
      "cell_type": "code",
      "metadata": {
        "id": "rsVJxPA4h_Qj",
        "colab_type": "code",
        "outputId": "7a9a0bb9-4a09-44fd-cdae-ce25ab42ce76",
        "colab": {
          "base_uri": "https://localhost:8080/",
          "height": 957
        }
      },
      "source": [
        "interp = ClassificationInterpretation.from_learner(learn)\n",
        "\n",
        "losses,idxs = interp.top_losses()\n",
        "\n",
        "len(data.valid_ds)==len(losses)==len(idxs)\n",
        "help(interp)"
      ],
      "execution_count": 43,
      "outputs": [
        {
          "output_type": "display_data",
          "data": {
            "text/html": [
              ""
            ],
            "text/plain": [
              "<IPython.core.display.HTML object>"
            ]
          },
          "metadata": {
            "tags": []
          }
        },
        {
          "output_type": "stream",
          "text": [
            "Help on ClassificationInterpretation in module fastai.train object:\n",
            "\n",
            "class ClassificationInterpretation(Interpretation)\n",
            " |  Interpretation methods for classification models.\n",
            " |  \n",
            " |  Method resolution order:\n",
            " |      ClassificationInterpretation\n",
            " |      Interpretation\n",
            " |      builtins.object\n",
            " |  \n",
            " |  Methods defined here:\n",
            " |  \n",
            " |  GradCAM = _cl_int_gradcam(self, idx, ds_type:fastai.basic_data.DatasetType=<DatasetType.Valid: 2>, heatmap_thresh:int=16, image:bool=True)\n",
            " |  \n",
            " |  __init__(self, learn:fastai.basic_train.Learner, preds:torch.Tensor, y_true:torch.Tensor, losses:torch.Tensor, ds_type:fastai.basic_data.DatasetType=<DatasetType.Valid: 2>)\n",
            " |      Initialize self.  See help(type(self)) for accurate signature.\n",
            " |  \n",
            " |  confusion_matrix(self, slice_size:int=1)\n",
            " |      Confusion matrix as an `np.ndarray`.\n",
            " |  \n",
            " |  most_confused(self, min_val:int=1, slice_size:int=1) -> Collection[Tuple[str, str, int]]\n",
            " |      Sorted descending list of largest non-diagonal entries of confusion matrix, presented as actual, predicted, number of occurrences.\n",
            " |  \n",
            " |  plot_confusion_matrix(self, normalize:bool=False, title:str='Confusion matrix', cmap:Any='Blues', slice_size:int=1, norm_dec:int=2, plot_txt:bool=True, return_fig:bool=None, **kwargs) -> Union[matplotlib.figure.Figure, NoneType]\n",
            " |      Plot the confusion matrix, with `title` and using `cmap`.\n",
            " |  \n",
            " |  plot_multi_top_losses = _cl_int_plot_multi_top_losses(self, samples:int=3, figsize:Tuple[int, int]=(8, 8), save_misclassified:bool=False)\n",
            " |      Show images in `top_losses` along with their prediction, actual, loss, and probability of predicted class in a multilabeled dataset.\n",
            " |  \n",
            " |  plot_top_losses = _cl_int_plot_top_losses(self, k, largest=True, figsize=(12, 12), heatmap:bool=False, heatmap_thresh:int=16, alpha:float=0.6, cmap:str='magma', show_text:bool=True, return_fig:bool=None) -> Union[matplotlib.figure.Figure, NoneType]\n",
            " |      Show images in `top_losses` along with their prediction, actual, loss, and probability of actual class.\n",
            " |  \n",
            " |  ----------------------------------------------------------------------\n",
            " |  Class methods defined here:\n",
            " |  \n",
            " |  from_learner = _cl_int_from_learner(learn:fastai.basic_train.Learner, ds_type:fastai.basic_data.DatasetType=<DatasetType.Valid: 2>, activ:torch.nn.modules.module.Module=None, tta=False) from builtins.type\n",
            " |      Create an instance of `ClassificationInterpretation`. `tta` indicates if we want to use Test Time Augmentation.\n",
            " |  \n",
            " |  ----------------------------------------------------------------------\n",
            " |  Methods inherited from Interpretation:\n",
            " |  \n",
            " |  top_losses(self, k:int=None, largest=True)\n",
            " |      `k` largest(/smallest) losses and indexes, defaulting to all losses (sorted by `largest`).\n",
            " |  \n",
            " |  ----------------------------------------------------------------------\n",
            " |  Data descriptors inherited from Interpretation:\n",
            " |  \n",
            " |  __dict__\n",
            " |      dictionary for instance variables (if defined)\n",
            " |  \n",
            " |  __weakref__\n",
            " |      list of weak references to the object (if defined)\n",
            "\n"
          ],
          "name": "stdout"
        }
      ]
    },
    {
      "cell_type": "code",
      "metadata": {
        "id": "gy5J-SVDh_Qo",
        "colab_type": "code",
        "colab": {}
      },
      "source": [
        "interp.plot_top_losses(10, figsize=(15,11))"
      ],
      "execution_count": 0,
      "outputs": []
    },
    {
      "cell_type": "code",
      "metadata": {
        "id": "zpYkeUvXh_Qt",
        "colab_type": "code",
        "outputId": "b2496fc5-1a5d-4fc1-cf54-d43b4810aee9",
        "colab": {
          "base_uri": "https://localhost:8080/",
          "height": 192
        }
      },
      "source": [
        "doc(interp.top_losses)"
      ],
      "execution_count": 45,
      "outputs": [
        {
          "output_type": "display_data",
          "data": {
            "text/html": [
              "<h4 id=\"Interpretation.top_losses\" class=\"doc_header\"><code>top_losses</code><a href=\"https://github.com/fastai/fastai/blob/master/fastai/train.py#L163\" class=\"source_link\" style=\"float:right\">[source]</a><a class=\"source_link\" data-toggle=\"collapse\" data-target=\"#Interpretation-top_losses-pytest\" style=\"float:right; padding-right:10px\">[test]</a></h4><blockquote><p><code>top_losses</code>(<strong><code>k</code></strong>:<code>int</code>=<strong><em><code>None</code></em></strong>, <strong><code>largest</code></strong>=<strong><em><code>True</code></em></strong>)</p>\n",
              "</blockquote>\n",
              "<div class=\"collapse\" id=\"Interpretation-top_losses-pytest\"><div class=\"card card-body pytest_card\"><a type=\"button\" data-toggle=\"collapse\" data-target=\"#Interpretation-top_losses-pytest\" class=\"close\" aria-label=\"Close\"><span aria-hidden=\"true\">&times;</span></a><p>No tests found for <code>top_losses</code>. To contribute a test please refer to <a href=\"/dev/test.html\">this guide</a> and <a href=\"https://forums.fast.ai/t/improving-expanding-functional-tests/32929\">this discussion</a>.</p></div></div><p><code>k</code> largest(/smallest) losses and indexes, defaulting to all losses (sorted by <code>largest</code>).</p>\n",
              "<p><a href=\"https://docs.fast.ai/train.html#Interpretation.top_losses\" target=\"_blank\" rel=\"noreferrer noopener\">Show in docs</a></p>\n"
            ],
            "text/plain": [
              "<IPython.core.display.HTML object>"
            ]
          },
          "metadata": {
            "tags": []
          }
        }
      ]
    },
    {
      "cell_type": "code",
      "metadata": {
        "id": "QqgFfUAPh_Qy",
        "colab_type": "code",
        "colab": {}
      },
      "source": [
        "interp.plot_confusion_matrix(figsize=(12,12), dpi=60)"
      ],
      "execution_count": 0,
      "outputs": []
    },
    {
      "cell_type": "code",
      "metadata": {
        "id": "ycyxqqc7h_Q3",
        "colab_type": "code",
        "outputId": "cf018205-6a33-4f14-cf33-fad7c3f00e36",
        "colab": {
          "base_uri": "https://localhost:8080/",
          "height": 86
        }
      },
      "source": [
        "interp.most_confused(min_val=5)"
      ],
      "execution_count": 49,
      "outputs": [
        {
          "output_type": "execute_result",
          "data": {
            "text/plain": [
              "[('Bengal', 'Egyptian_Mau', 6),\n",
              " ('staffordshire_bull_terrier', 'american_pit_bull_terrier', 6),\n",
              " ('Ragdoll', 'Birman', 5),\n",
              " ('american_pit_bull_terrier', 'staffordshire_bull_terrier', 5)]"
            ]
          },
          "metadata": {
            "tags": []
          },
          "execution_count": 49
        }
      ]
    },
    {
      "cell_type": "markdown",
      "metadata": {
        "id": "eP2dlVKzh_Q9",
        "colab_type": "text"
      },
      "source": [
        "## Unfreezing, fine-tuning, and learning rates"
      ]
    },
    {
      "cell_type": "markdown",
      "metadata": {
        "id": "y6_G5vVsh_Q-",
        "colab_type": "text"
      },
      "source": [
        "Since our model is working as we expect it to, we will *unfreeze* our model and train some more."
      ]
    },
    {
      "cell_type": "code",
      "metadata": {
        "id": "JVRSRZEAh_Q_",
        "colab_type": "code",
        "colab": {}
      },
      "source": [
        "learn.unfreeze()"
      ],
      "execution_count": 0,
      "outputs": []
    },
    {
      "cell_type": "code",
      "metadata": {
        "id": "NiPclJ9bh_RE",
        "colab_type": "code",
        "outputId": "4a7b2d35-c587-41eb-b610-b76678fcda18",
        "colab": {
          "base_uri": "https://localhost:8080/",
          "height": 81
        }
      },
      "source": [
        "learn.fit_one_cycle(1)"
      ],
      "execution_count": 51,
      "outputs": [
        {
          "output_type": "display_data",
          "data": {
            "text/html": [
              "<table border=\"1\" class=\"dataframe\">\n",
              "  <thead>\n",
              "    <tr style=\"text-align: left;\">\n",
              "      <th>epoch</th>\n",
              "      <th>train_loss</th>\n",
              "      <th>valid_loss</th>\n",
              "      <th>accuracy</th>\n",
              "      <th>error_rate</th>\n",
              "      <th>time</th>\n",
              "    </tr>\n",
              "  </thead>\n",
              "  <tbody>\n",
              "    <tr>\n",
              "      <td>0</td>\n",
              "      <td>0.686713</td>\n",
              "      <td>0.398552</td>\n",
              "      <td>0.882950</td>\n",
              "      <td>0.117050</td>\n",
              "      <td>01:35</td>\n",
              "    </tr>\n",
              "  </tbody>\n",
              "</table>"
            ],
            "text/plain": [
              "<IPython.core.display.HTML object>"
            ]
          },
          "metadata": {
            "tags": []
          }
        }
      ]
    },
    {
      "cell_type": "code",
      "metadata": {
        "id": "1kI6L7ydh_RH",
        "colab_type": "code",
        "colab": {}
      },
      "source": [
        "learn.load('stage-1');"
      ],
      "execution_count": 0,
      "outputs": []
    },
    {
      "cell_type": "code",
      "metadata": {
        "id": "Kw6e6UbQh_RN",
        "colab_type": "code",
        "colab": {}
      },
      "source": [
        "learn.lr_find()"
      ],
      "execution_count": 0,
      "outputs": []
    },
    {
      "cell_type": "code",
      "metadata": {
        "id": "uXTfHs3jh_RQ",
        "colab_type": "code",
        "outputId": "3834469a-0a84-4755-b296-85eec5d00403",
        "colab": {
          "base_uri": "https://localhost:8080/",
          "height": 167
        }
      },
      "source": [
        "learn.recorder.plot()"
      ],
      "execution_count": 11,
      "outputs": [
        {
          "output_type": "error",
          "ename": "NameError",
          "evalue": "ignored",
          "traceback": [
            "\u001b[0;31m---------------------------------------------------------------------------\u001b[0m",
            "\u001b[0;31mNameError\u001b[0m                                 Traceback (most recent call last)",
            "\u001b[0;32m<ipython-input-11-81a9773e4aba>\u001b[0m in \u001b[0;36m<module>\u001b[0;34m()\u001b[0m\n\u001b[0;32m----> 1\u001b[0;31m \u001b[0mlearn\u001b[0m\u001b[0;34m.\u001b[0m\u001b[0mrecorder\u001b[0m\u001b[0;34m.\u001b[0m\u001b[0mplot\u001b[0m\u001b[0;34m(\u001b[0m\u001b[0;34m)\u001b[0m\u001b[0;34m\u001b[0m\u001b[0;34m\u001b[0m\u001b[0m\n\u001b[0m",
            "\u001b[0;31mNameError\u001b[0m: name 'learn' is not defined"
          ]
        }
      ]
    },
    {
      "cell_type": "code",
      "metadata": {
        "id": "iOQ2T3BYh_RU",
        "colab_type": "code",
        "colab": {}
      },
      "source": [
        "learn.unfreeze()\n",
        "learn.fit_one_cycle(2, max_lr= slice(1e-6,1e-4))"
      ],
      "execution_count": 0,
      "outputs": []
    },
    {
      "cell_type": "markdown",
      "metadata": {
        "id": "VQHdMwNvh_RY",
        "colab_type": "text"
      },
      "source": [
        "That's a pretty accurate model!"
      ]
    },
    {
      "cell_type": "markdown",
      "metadata": {
        "id": "cd_Nah_0h_RZ",
        "colab_type": "text"
      },
      "source": [
        "## Training: resnet50"
      ]
    },
    {
      "cell_type": "markdown",
      "metadata": {
        "id": "jSuEHlDhh_RZ",
        "colab_type": "text"
      },
      "source": [
        "Now we will train in the same way as before but with one caveat: instead of using resnet34 as our backbone we will use resnet50 (resnet34 is a 34 layer residual network while resnet50 has 50 layers. It will be explained later in the course and you can learn the details in the [resnet paper](https://arxiv.org/pdf/1512.03385.pdf)).\n",
        "\n",
        "Basically, resnet50 usually performs better because it is a deeper network with more parameters. Let's see if we can achieve a higher performance here. To help it along, let's us use larger images too, since that way the network can see more detail. We reduce the batch size a bit since otherwise this larger network will require more GPU memory."
      ]
    },
    {
      "cell_type": "code",
      "metadata": {
        "id": "i3OduAO8h_Ra",
        "colab_type": "code",
        "outputId": "59ec13cc-b383-43f4-d072-63b19690c2a3",
        "colab": {
          "base_uri": "https://localhost:8080/",
          "height": 185
        }
      },
      "source": [
        "data = ImageDataBunch.from_name_re(path_img, fnames, pat, ds_tfms=get_transforms(),\n",
        "                                   size=299, bs=bs//2).normalize(imagenet_stats)"
      ],
      "execution_count": 12,
      "outputs": [
        {
          "output_type": "error",
          "ename": "NameError",
          "evalue": "ignored",
          "traceback": [
            "\u001b[0;31m---------------------------------------------------------------------------\u001b[0m",
            "\u001b[0;31mNameError\u001b[0m                                 Traceback (most recent call last)",
            "\u001b[0;32m<ipython-input-12-1b2cbe11e6a6>\u001b[0m in \u001b[0;36m<module>\u001b[0;34m()\u001b[0m\n\u001b[0;32m----> 1\u001b[0;31m data = ImageDataBunch.from_name_re(path_img, fnames, pat, ds_tfms=get_transforms(),\n\u001b[0m\u001b[1;32m      2\u001b[0m                                    size=299, bs=bs//2).normalize(imagenet_stats)\n",
            "\u001b[0;31mNameError\u001b[0m: name 'path_img' is not defined"
          ]
        }
      ]
    },
    {
      "cell_type": "code",
      "metadata": {
        "id": "eRno00m1h_Ri",
        "colab_type": "code",
        "outputId": "299405aa-4acd-4a1a-b94e-9b68f11392ad",
        "colab": {
          "base_uri": "https://localhost:8080/",
          "height": 167
        }
      },
      "source": [
        "learn = cnn_learner(data, models.resnet50, metrics=error_rate)"
      ],
      "execution_count": 13,
      "outputs": [
        {
          "output_type": "error",
          "ename": "NameError",
          "evalue": "ignored",
          "traceback": [
            "\u001b[0;31m---------------------------------------------------------------------------\u001b[0m",
            "\u001b[0;31mNameError\u001b[0m                                 Traceback (most recent call last)",
            "\u001b[0;32m<ipython-input-13-bfb0ba2ca397>\u001b[0m in \u001b[0;36m<module>\u001b[0;34m()\u001b[0m\n\u001b[0;32m----> 1\u001b[0;31m \u001b[0mlearn\u001b[0m \u001b[0;34m=\u001b[0m \u001b[0mcnn_learner\u001b[0m\u001b[0;34m(\u001b[0m\u001b[0mdata\u001b[0m\u001b[0;34m,\u001b[0m \u001b[0mmodels\u001b[0m\u001b[0;34m.\u001b[0m\u001b[0mresnet50\u001b[0m\u001b[0;34m,\u001b[0m \u001b[0mmetrics\u001b[0m\u001b[0;34m=\u001b[0m\u001b[0merror_rate\u001b[0m\u001b[0;34m)\u001b[0m\u001b[0;34m\u001b[0m\u001b[0;34m\u001b[0m\u001b[0m\n\u001b[0m",
            "\u001b[0;31mNameError\u001b[0m: name 'data' is not defined"
          ]
        }
      ]
    },
    {
      "cell_type": "code",
      "metadata": {
        "id": "MiW-BZd6h_Rm",
        "colab_type": "code",
        "colab": {}
      },
      "source": [
        "learn.lr_find()\n",
        "learn.recorder.plot()"
      ],
      "execution_count": 0,
      "outputs": []
    },
    {
      "cell_type": "code",
      "metadata": {
        "id": "KxEsUaOXh_Rq",
        "colab_type": "code",
        "outputId": "5ac34f88-0408-47f1-faaf-8f16f95e668f",
        "colab": {
          "base_uri": "https://localhost:8080/",
          "height": 167
        }
      },
      "source": [
        "learn.fit_one_cycle(8)"
      ],
      "execution_count": 14,
      "outputs": [
        {
          "output_type": "error",
          "ename": "NameError",
          "evalue": "ignored",
          "traceback": [
            "\u001b[0;31m---------------------------------------------------------------------------\u001b[0m",
            "\u001b[0;31mNameError\u001b[0m                                 Traceback (most recent call last)",
            "\u001b[0;32m<ipython-input-14-398f7c8f0f44>\u001b[0m in \u001b[0;36m<module>\u001b[0;34m()\u001b[0m\n\u001b[0;32m----> 1\u001b[0;31m \u001b[0mlearn\u001b[0m\u001b[0;34m.\u001b[0m\u001b[0mfit_one_cycle\u001b[0m\u001b[0;34m(\u001b[0m\u001b[0;36m8\u001b[0m\u001b[0;34m)\u001b[0m\u001b[0;34m\u001b[0m\u001b[0;34m\u001b[0m\u001b[0m\n\u001b[0m",
            "\u001b[0;31mNameError\u001b[0m: name 'learn' is not defined"
          ]
        }
      ]
    },
    {
      "cell_type": "code",
      "metadata": {
        "id": "XS-Cp0Hih_Ru",
        "colab_type": "code",
        "colab": {}
      },
      "source": [
        "learn.save('stage-1-50')"
      ],
      "execution_count": 0,
      "outputs": []
    },
    {
      "cell_type": "markdown",
      "metadata": {
        "id": "BMqgoaBmh_Rz",
        "colab_type": "text"
      },
      "source": [
        "It's astonishing that it's possible to recognize pet breeds so accurately! Let's see if full fine-tuning helps:"
      ]
    },
    {
      "cell_type": "code",
      "metadata": {
        "id": "kp4QLL1Xh_Rz",
        "colab_type": "code",
        "outputId": "2c279c27-e3d2-41a1-bc78-23c5e66c955c",
        "colab": {
          "base_uri": "https://localhost:8080/",
          "height": 185
        }
      },
      "source": [
        "learn.unfreeze()\n",
        "learn.fit_one_cycle(3, max_lr=slice(1e-6,1e-4))"
      ],
      "execution_count": 15,
      "outputs": [
        {
          "output_type": "error",
          "ename": "NameError",
          "evalue": "ignored",
          "traceback": [
            "\u001b[0;31m---------------------------------------------------------------------------\u001b[0m",
            "\u001b[0;31mNameError\u001b[0m                                 Traceback (most recent call last)",
            "\u001b[0;32m<ipython-input-15-28ffd68c6208>\u001b[0m in \u001b[0;36m<module>\u001b[0;34m()\u001b[0m\n\u001b[0;32m----> 1\u001b[0;31m \u001b[0mlearn\u001b[0m\u001b[0;34m.\u001b[0m\u001b[0munfreeze\u001b[0m\u001b[0;34m(\u001b[0m\u001b[0;34m)\u001b[0m\u001b[0;34m\u001b[0m\u001b[0;34m\u001b[0m\u001b[0m\n\u001b[0m\u001b[1;32m      2\u001b[0m \u001b[0mlearn\u001b[0m\u001b[0;34m.\u001b[0m\u001b[0mfit_one_cycle\u001b[0m\u001b[0;34m(\u001b[0m\u001b[0;36m3\u001b[0m\u001b[0;34m,\u001b[0m \u001b[0mmax_lr\u001b[0m\u001b[0;34m=\u001b[0m\u001b[0mslice\u001b[0m\u001b[0;34m(\u001b[0m\u001b[0;36m1e-6\u001b[0m\u001b[0;34m,\u001b[0m\u001b[0;36m1e-4\u001b[0m\u001b[0;34m)\u001b[0m\u001b[0;34m)\u001b[0m\u001b[0;34m\u001b[0m\u001b[0;34m\u001b[0m\u001b[0m\n",
            "\u001b[0;31mNameError\u001b[0m: name 'learn' is not defined"
          ]
        }
      ]
    },
    {
      "cell_type": "markdown",
      "metadata": {
        "id": "vLJWTjkKh_R3",
        "colab_type": "text"
      },
      "source": [
        "If it doesn't, you can always go back to your previous model."
      ]
    },
    {
      "cell_type": "code",
      "metadata": {
        "id": "_bWPtPW1h_R4",
        "colab_type": "code",
        "colab": {
          "base_uri": "https://localhost:8080/",
          "height": 167
        },
        "outputId": "c6ea6d4b-c434-4141-aa16-b7c36dc303bf"
      },
      "source": [
        "learn.load('stage-1-50');"
      ],
      "execution_count": 16,
      "outputs": [
        {
          "output_type": "error",
          "ename": "NameError",
          "evalue": "ignored",
          "traceback": [
            "\u001b[0;31m---------------------------------------------------------------------------\u001b[0m",
            "\u001b[0;31mNameError\u001b[0m                                 Traceback (most recent call last)",
            "\u001b[0;32m<ipython-input-16-119754ed3d78>\u001b[0m in \u001b[0;36m<module>\u001b[0;34m()\u001b[0m\n\u001b[0;32m----> 1\u001b[0;31m \u001b[0mlearn\u001b[0m\u001b[0;34m.\u001b[0m\u001b[0mload\u001b[0m\u001b[0;34m(\u001b[0m\u001b[0;34m'stage-1-50'\u001b[0m\u001b[0;34m)\u001b[0m\u001b[0;34m;\u001b[0m\u001b[0;34m\u001b[0m\u001b[0;34m\u001b[0m\u001b[0m\n\u001b[0m",
            "\u001b[0;31mNameError\u001b[0m: name 'learn' is not defined"
          ]
        }
      ]
    },
    {
      "cell_type": "code",
      "metadata": {
        "id": "h1pFwLv9h_R7",
        "colab_type": "code",
        "outputId": "5aa07cf4-ae77-4699-95bc-3a45bf320544",
        "colab": {
          "base_uri": "https://localhost:8080/",
          "height": 167
        }
      },
      "source": [
        "interp = ClassificationInterpretation.from_learner(learn)"
      ],
      "execution_count": 17,
      "outputs": [
        {
          "output_type": "error",
          "ename": "NameError",
          "evalue": "ignored",
          "traceback": [
            "\u001b[0;31m---------------------------------------------------------------------------\u001b[0m",
            "\u001b[0;31mNameError\u001b[0m                                 Traceback (most recent call last)",
            "\u001b[0;32m<ipython-input-17-aa7f7b70a42b>\u001b[0m in \u001b[0;36m<module>\u001b[0;34m()\u001b[0m\n\u001b[0;32m----> 1\u001b[0;31m \u001b[0minterp\u001b[0m \u001b[0;34m=\u001b[0m \u001b[0mClassificationInterpretation\u001b[0m\u001b[0;34m.\u001b[0m\u001b[0mfrom_learner\u001b[0m\u001b[0;34m(\u001b[0m\u001b[0mlearn\u001b[0m\u001b[0;34m)\u001b[0m\u001b[0;34m\u001b[0m\u001b[0;34m\u001b[0m\u001b[0m\n\u001b[0m",
            "\u001b[0;31mNameError\u001b[0m: name 'learn' is not defined"
          ]
        }
      ]
    },
    {
      "cell_type": "code",
      "metadata": {
        "id": "siR0zWnMUHX2",
        "colab_type": "code",
        "colab": {}
      },
      "source": [
        "interp.plot_top_losses(9,figsize=(15,11))"
      ],
      "execution_count": 0,
      "outputs": []
    },
    {
      "cell_type": "code",
      "metadata": {
        "id": "bAtvP-n8UmVR",
        "colab_type": "code",
        "colab": {}
      },
      "source": [
        "doc(interp.plot_top_losses)"
      ],
      "execution_count": 0,
      "outputs": []
    },
    {
      "cell_type": "code",
      "metadata": {
        "id": "VRn9yZU1h_R-",
        "colab_type": "code",
        "outputId": "b7477c48-5dd9-442a-b559-04c53b827ea0",
        "colab": {
          "base_uri": "https://localhost:8080/",
          "height": 167
        }
      },
      "source": [
        "interp.most_confused(min_val=2)"
      ],
      "execution_count": 18,
      "outputs": [
        {
          "output_type": "error",
          "ename": "NameError",
          "evalue": "ignored",
          "traceback": [
            "\u001b[0;31m---------------------------------------------------------------------------\u001b[0m",
            "\u001b[0;31mNameError\u001b[0m                                 Traceback (most recent call last)",
            "\u001b[0;32m<ipython-input-18-3bb7509df58a>\u001b[0m in \u001b[0;36m<module>\u001b[0;34m()\u001b[0m\n\u001b[0;32m----> 1\u001b[0;31m \u001b[0minterp\u001b[0m\u001b[0;34m.\u001b[0m\u001b[0mmost_confused\u001b[0m\u001b[0;34m(\u001b[0m\u001b[0mmin_val\u001b[0m\u001b[0;34m=\u001b[0m\u001b[0;36m2\u001b[0m\u001b[0;34m)\u001b[0m\u001b[0;34m\u001b[0m\u001b[0;34m\u001b[0m\u001b[0m\n\u001b[0m",
            "\u001b[0;31mNameError\u001b[0m: name 'interp' is not defined"
          ]
        }
      ]
    },
    {
      "cell_type": "markdown",
      "metadata": {
        "id": "JnLD8NXmh_SB",
        "colab_type": "text"
      },
      "source": [
        "## Other data formats"
      ]
    },
    {
      "cell_type": "code",
      "metadata": {
        "id": "VXZchzzXh_SC",
        "colab_type": "code",
        "colab": {}
      },
      "source": [
        "path = untar_data(URLs.MNIST_SAMPLE); \n",
        "sevens = path/'train/7'\n",
        "sevens.ls()"
      ],
      "execution_count": 0,
      "outputs": []
    },
    {
      "cell_type": "code",
      "metadata": {
        "id": "ENRYSH_-h_SF",
        "colab_type": "code",
        "colab": {}
      },
      "source": [
        "tfms = get_transforms(do_flip=False)\n",
        "data = ImageDataBunch.from_folder(path, ds_tfms=tfms, size=26)"
      ],
      "execution_count": 0,
      "outputs": []
    },
    {
      "cell_type": "code",
      "metadata": {
        "id": "tq3tRnT9h_SW",
        "colab_type": "code",
        "outputId": "66e9a608-c3d7-42ca-f1d0-03c15a40bc49",
        "colab": {
          "base_uri": "https://localhost:8080/",
          "height": 167
        }
      },
      "source": [
        "data.show_batch(rows=3, figsize=(5,5))"
      ],
      "execution_count": 19,
      "outputs": [
        {
          "output_type": "error",
          "ename": "NameError",
          "evalue": "ignored",
          "traceback": [
            "\u001b[0;31m---------------------------------------------------------------------------\u001b[0m",
            "\u001b[0;31mNameError\u001b[0m                                 Traceback (most recent call last)",
            "\u001b[0;32m<ipython-input-19-32dfd33d0eb1>\u001b[0m in \u001b[0;36m<module>\u001b[0;34m()\u001b[0m\n\u001b[0;32m----> 1\u001b[0;31m \u001b[0mdata\u001b[0m\u001b[0;34m.\u001b[0m\u001b[0mshow_batch\u001b[0m\u001b[0;34m(\u001b[0m\u001b[0mrows\u001b[0m\u001b[0;34m=\u001b[0m\u001b[0;36m3\u001b[0m\u001b[0;34m,\u001b[0m \u001b[0mfigsize\u001b[0m\u001b[0;34m=\u001b[0m\u001b[0;34m(\u001b[0m\u001b[0;36m5\u001b[0m\u001b[0;34m,\u001b[0m\u001b[0;36m5\u001b[0m\u001b[0;34m)\u001b[0m\u001b[0;34m)\u001b[0m\u001b[0;34m\u001b[0m\u001b[0;34m\u001b[0m\u001b[0m\n\u001b[0m",
            "\u001b[0;31mNameError\u001b[0m: name 'data' is not defined"
          ]
        }
      ]
    },
    {
      "cell_type": "code",
      "metadata": {
        "id": "rf1ldW_bh_SZ",
        "colab_type": "code",
        "colab": {}
      },
      "source": [
        "learn = cnn_learner(data, models.resnet18, metrics=accuracy)\n",
        "learn.fit(2)"
      ],
      "execution_count": 0,
      "outputs": []
    },
    {
      "cell_type": "code",
      "metadata": {
        "id": "z-arLJHsh_Sc",
        "colab_type": "code",
        "colab": {}
      },
      "source": [
        "df = pd.read_csv(path/'labels.csv')\n",
        "df.head()"
      ],
      "execution_count": 0,
      "outputs": []
    },
    {
      "cell_type": "code",
      "metadata": {
        "id": "jSHgGvYfh_Sf",
        "colab_type": "code",
        "colab": {}
      },
      "source": [
        "data = ImageDataBunch.from_csv(path, ds_tfms=tfms, size=28)"
      ],
      "execution_count": 0,
      "outputs": []
    },
    {
      "cell_type": "code",
      "metadata": {
        "id": "6prPBte3h_Sj",
        "colab_type": "code",
        "colab": {}
      },
      "source": [
        "data.show_batch(rows=3, figsize=(5,5))\n",
        "data.classes"
      ],
      "execution_count": 0,
      "outputs": []
    },
    {
      "cell_type": "code",
      "metadata": {
        "id": "jQutvA71h_Sn",
        "colab_type": "code",
        "outputId": "aece83fa-a254-4306-b16f-1d419d4bf38f",
        "colab": {
          "base_uri": "https://localhost:8080/",
          "height": 185
        }
      },
      "source": [
        "data = ImageDataBunch.from_df(path, df, ds_tfms=tfms, size=24)\n",
        "data.classes"
      ],
      "execution_count": 20,
      "outputs": [
        {
          "output_type": "error",
          "ename": "NameError",
          "evalue": "ignored",
          "traceback": [
            "\u001b[0;31m---------------------------------------------------------------------------\u001b[0m",
            "\u001b[0;31mNameError\u001b[0m                                 Traceback (most recent call last)",
            "\u001b[0;32m<ipython-input-20-5588812820e8>\u001b[0m in \u001b[0;36m<module>\u001b[0;34m()\u001b[0m\n\u001b[0;32m----> 1\u001b[0;31m \u001b[0mdata\u001b[0m \u001b[0;34m=\u001b[0m \u001b[0mImageDataBunch\u001b[0m\u001b[0;34m.\u001b[0m\u001b[0mfrom_df\u001b[0m\u001b[0;34m(\u001b[0m\u001b[0mpath\u001b[0m\u001b[0;34m,\u001b[0m \u001b[0mdf\u001b[0m\u001b[0;34m,\u001b[0m \u001b[0mds_tfms\u001b[0m\u001b[0;34m=\u001b[0m\u001b[0mtfms\u001b[0m\u001b[0;34m,\u001b[0m \u001b[0msize\u001b[0m\u001b[0;34m=\u001b[0m\u001b[0;36m24\u001b[0m\u001b[0;34m)\u001b[0m\u001b[0;34m\u001b[0m\u001b[0;34m\u001b[0m\u001b[0m\n\u001b[0m\u001b[1;32m      2\u001b[0m \u001b[0mdata\u001b[0m\u001b[0;34m.\u001b[0m\u001b[0mclasses\u001b[0m\u001b[0;34m\u001b[0m\u001b[0;34m\u001b[0m\u001b[0m\n",
            "\u001b[0;31mNameError\u001b[0m: name 'path' is not defined"
          ]
        }
      ]
    },
    {
      "cell_type": "code",
      "metadata": {
        "id": "GN_BT0fwh_Sp",
        "colab_type": "code",
        "colab": {}
      },
      "source": [
        "fn_paths = [path/name for name in df['name']]; fn_paths[:2]"
      ],
      "execution_count": 0,
      "outputs": []
    },
    {
      "cell_type": "code",
      "metadata": {
        "id": "oCqgBD2lh_St",
        "colab_type": "code",
        "colab": {}
      },
      "source": [
        "pat = r\"/(\\d)/\\d+\\.png$\"\n",
        "data = ImageDataBunch.from_name_re(path, fn_paths, pat=pat, ds_tfms=tfms, size=24)\n",
        "data.classes"
      ],
      "execution_count": 0,
      "outputs": []
    },
    {
      "cell_type": "code",
      "metadata": {
        "id": "O9z0_P6ch_Sx",
        "colab_type": "code",
        "colab": {}
      },
      "source": [
        "data = ImageDataBunch.from_name_func(path, fn_paths, ds_tfms=tfms, size=24,\n",
        "        label_func = lambda x: '3' if '/3/' in str(x) else '7')\n",
        "data.classes"
      ],
      "execution_count": 0,
      "outputs": []
    },
    {
      "cell_type": "code",
      "metadata": {
        "id": "gd814V_Mh_S1",
        "colab_type": "code",
        "colab": {}
      },
      "source": [
        "labels = [('3' if '/3/' in str(x) else '7') for x in fn_paths]\n",
        "labels[:5]"
      ],
      "execution_count": 0,
      "outputs": []
    },
    {
      "cell_type": "code",
      "metadata": {
        "id": "V9egmrjDh_S3",
        "colab_type": "code",
        "colab": {}
      },
      "source": [
        "data = ImageDataBunch.from_lists(path, fn_paths, labels=labels, ds_tfms=tfms, size=24)\n",
        "data.classes"
      ],
      "execution_count": 0,
      "outputs": []
    },
    {
      "cell_type": "code",
      "metadata": {
        "id": "H5qH_LaFh_S7",
        "colab_type": "code",
        "outputId": "4830d939-9664-40b4-fbf4-3958042c7960",
        "colab": {
          "base_uri": "https://localhost:8080/",
          "height": 192
        }
      },
      "source": [
        "doc(ImageDataBunch.from_name_func)"
      ],
      "execution_count": 21,
      "outputs": [
        {
          "output_type": "display_data",
          "data": {
            "text/html": [
              "<h4 id=\"ImageDataBunch.from_name_func\" class=\"doc_header\"><code>from_name_func</code><a href=\"https://github.com/fastai/fastai/blob/master/fastai/vision/data.py#L142\" class=\"source_link\" style=\"float:right\">[source]</a><a class=\"source_link\" data-toggle=\"collapse\" data-target=\"#ImageDataBunch-from_name_func-pytest\" style=\"float:right; padding-right:10px\">[test]</a></h4><blockquote><p><code>from_name_func</code>(<strong><code>path</code></strong>:<code>PathOrStr</code>, <strong><code>fnames</code></strong>:<code>FilePathList</code>, <strong><code>label_func</code></strong>:<code>Callable</code>, <strong><code>valid_pct</code></strong>:<code>float</code>=<strong><em><code>0.2</code></em></strong>, <strong><code>seed</code></strong>:<code>int</code>=<strong><em><code>None</code></em></strong>, <strong>**<code>kwargs</code></strong>)</p>\n",
              "</blockquote>\n",
              "<div class=\"collapse\" id=\"ImageDataBunch-from_name_func-pytest\"><div class=\"card card-body pytest_card\"><a type=\"button\" data-toggle=\"collapse\" data-target=\"#ImageDataBunch-from_name_func-pytest\" class=\"close\" aria-label=\"Close\"><span aria-hidden=\"true\">&times;</span></a><p>No tests found for <code>from_name_func</code>. To contribute a test please refer to <a href=\"/dev/test.html\">this guide</a> and <a href=\"https://forums.fast.ai/t/improving-expanding-functional-tests/32929\">this discussion</a>.</p></div></div><p>Create from list of <code>fnames</code> in <code>path</code> with <code>label_func</code>.</p>\n",
              "<p><a href=\"https://docs.fast.ai/vision.data.html#ImageDataBunch.from_name_func\" target=\"_blank\" rel=\"noreferrer noopener\">Show in docs</a></p>\n"
            ],
            "text/plain": [
              "<IPython.core.display.HTML object>"
            ]
          },
          "metadata": {
            "tags": []
          }
        }
      ]
    },
    {
      "cell_type": "code",
      "metadata": {
        "id": "BHi2gFNhcz7d",
        "colab_type": "code",
        "colab": {}
      },
      "source": [
        ""
      ],
      "execution_count": 0,
      "outputs": []
    }
  ]
}