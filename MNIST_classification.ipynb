{
  "nbformat": 4,
  "nbformat_minor": 0,
  "metadata": {
    "colab": {
      "name": "MNIST_classification.ipynb",
      "provenance": []
    },
    "kernelspec": {
      "name": "python3",
      "display_name": "Python 3"
    },
    "accelerator": "GPU",
    "widgets": {
      "application/vnd.jupyter.widget-state+json": {
        "b39785ce73b440e285bba9a85dd0b245": {
          "model_module": "@jupyter-widgets/controls",
          "model_name": "HBoxModel",
          "state": {
            "_view_name": "HBoxView",
            "_dom_classes": [],
            "_model_name": "HBoxModel",
            "_view_module": "@jupyter-widgets/controls",
            "_model_module_version": "1.5.0",
            "_view_count": null,
            "_view_module_version": "1.5.0",
            "box_style": "",
            "layout": "IPY_MODEL_0849360662dc4226943f26917d628e3b",
            "_model_module": "@jupyter-widgets/controls",
            "children": [
              "IPY_MODEL_ecf09b9265b8455687d61b9b54b5476a",
              "IPY_MODEL_f8a9379459b745af94d1164abd9309b0"
            ]
          }
        },
        "0849360662dc4226943f26917d628e3b": {
          "model_module": "@jupyter-widgets/base",
          "model_name": "LayoutModel",
          "state": {
            "_view_name": "LayoutView",
            "grid_template_rows": null,
            "right": null,
            "justify_content": null,
            "_view_module": "@jupyter-widgets/base",
            "overflow": null,
            "_model_module_version": "1.2.0",
            "_view_count": null,
            "flex_flow": null,
            "width": null,
            "min_width": null,
            "border": null,
            "align_items": null,
            "bottom": null,
            "_model_module": "@jupyter-widgets/base",
            "top": null,
            "grid_column": null,
            "overflow_y": null,
            "overflow_x": null,
            "grid_auto_flow": null,
            "grid_area": null,
            "grid_template_columns": null,
            "flex": null,
            "_model_name": "LayoutModel",
            "justify_items": null,
            "grid_row": null,
            "max_height": null,
            "align_content": null,
            "visibility": null,
            "align_self": null,
            "height": null,
            "min_height": null,
            "padding": null,
            "grid_auto_rows": null,
            "grid_gap": null,
            "max_width": null,
            "order": null,
            "_view_module_version": "1.2.0",
            "grid_template_areas": null,
            "object_position": null,
            "object_fit": null,
            "grid_auto_columns": null,
            "margin": null,
            "display": null,
            "left": null
          }
        },
        "ecf09b9265b8455687d61b9b54b5476a": {
          "model_module": "@jupyter-widgets/controls",
          "model_name": "FloatProgressModel",
          "state": {
            "_view_name": "ProgressView",
            "style": "IPY_MODEL_9bdded1d617840dcafacf407d3627926",
            "_dom_classes": [],
            "description": "100%",
            "_model_name": "FloatProgressModel",
            "bar_style": "success",
            "max": 46827520,
            "_view_module": "@jupyter-widgets/controls",
            "_model_module_version": "1.5.0",
            "value": 46827520,
            "_view_count": null,
            "_view_module_version": "1.5.0",
            "orientation": "horizontal",
            "min": 0,
            "description_tooltip": null,
            "_model_module": "@jupyter-widgets/controls",
            "layout": "IPY_MODEL_8a6d5dd4fadf4450ac1a742be275cb00"
          }
        },
        "f8a9379459b745af94d1164abd9309b0": {
          "model_module": "@jupyter-widgets/controls",
          "model_name": "HTMLModel",
          "state": {
            "_view_name": "HTMLView",
            "style": "IPY_MODEL_18fffb3e8cd2460dba0c13443e3c6cc2",
            "_dom_classes": [],
            "description": "",
            "_model_name": "HTMLModel",
            "placeholder": "​",
            "_view_module": "@jupyter-widgets/controls",
            "_model_module_version": "1.5.0",
            "value": " 44.7M/44.7M [01:20&lt;00:00, 584kB/s]",
            "_view_count": null,
            "_view_module_version": "1.5.0",
            "description_tooltip": null,
            "_model_module": "@jupyter-widgets/controls",
            "layout": "IPY_MODEL_9a4bae0f7f8f4a78802f34236893c85c"
          }
        },
        "9bdded1d617840dcafacf407d3627926": {
          "model_module": "@jupyter-widgets/controls",
          "model_name": "ProgressStyleModel",
          "state": {
            "_view_name": "StyleView",
            "_model_name": "ProgressStyleModel",
            "description_width": "initial",
            "_view_module": "@jupyter-widgets/base",
            "_model_module_version": "1.5.0",
            "_view_count": null,
            "_view_module_version": "1.2.0",
            "bar_color": null,
            "_model_module": "@jupyter-widgets/controls"
          }
        },
        "8a6d5dd4fadf4450ac1a742be275cb00": {
          "model_module": "@jupyter-widgets/base",
          "model_name": "LayoutModel",
          "state": {
            "_view_name": "LayoutView",
            "grid_template_rows": null,
            "right": null,
            "justify_content": null,
            "_view_module": "@jupyter-widgets/base",
            "overflow": null,
            "_model_module_version": "1.2.0",
            "_view_count": null,
            "flex_flow": null,
            "width": null,
            "min_width": null,
            "border": null,
            "align_items": null,
            "bottom": null,
            "_model_module": "@jupyter-widgets/base",
            "top": null,
            "grid_column": null,
            "overflow_y": null,
            "overflow_x": null,
            "grid_auto_flow": null,
            "grid_area": null,
            "grid_template_columns": null,
            "flex": null,
            "_model_name": "LayoutModel",
            "justify_items": null,
            "grid_row": null,
            "max_height": null,
            "align_content": null,
            "visibility": null,
            "align_self": null,
            "height": null,
            "min_height": null,
            "padding": null,
            "grid_auto_rows": null,
            "grid_gap": null,
            "max_width": null,
            "order": null,
            "_view_module_version": "1.2.0",
            "grid_template_areas": null,
            "object_position": null,
            "object_fit": null,
            "grid_auto_columns": null,
            "margin": null,
            "display": null,
            "left": null
          }
        },
        "18fffb3e8cd2460dba0c13443e3c6cc2": {
          "model_module": "@jupyter-widgets/controls",
          "model_name": "DescriptionStyleModel",
          "state": {
            "_view_name": "StyleView",
            "_model_name": "DescriptionStyleModel",
            "description_width": "",
            "_view_module": "@jupyter-widgets/base",
            "_model_module_version": "1.5.0",
            "_view_count": null,
            "_view_module_version": "1.2.0",
            "_model_module": "@jupyter-widgets/controls"
          }
        },
        "9a4bae0f7f8f4a78802f34236893c85c": {
          "model_module": "@jupyter-widgets/base",
          "model_name": "LayoutModel",
          "state": {
            "_view_name": "LayoutView",
            "grid_template_rows": null,
            "right": null,
            "justify_content": null,
            "_view_module": "@jupyter-widgets/base",
            "overflow": null,
            "_model_module_version": "1.2.0",
            "_view_count": null,
            "flex_flow": null,
            "width": null,
            "min_width": null,
            "border": null,
            "align_items": null,
            "bottom": null,
            "_model_module": "@jupyter-widgets/base",
            "top": null,
            "grid_column": null,
            "overflow_y": null,
            "overflow_x": null,
            "grid_auto_flow": null,
            "grid_area": null,
            "grid_template_columns": null,
            "flex": null,
            "_model_name": "LayoutModel",
            "justify_items": null,
            "grid_row": null,
            "max_height": null,
            "align_content": null,
            "visibility": null,
            "align_self": null,
            "height": null,
            "min_height": null,
            "padding": null,
            "grid_auto_rows": null,
            "grid_gap": null,
            "max_width": null,
            "order": null,
            "_view_module_version": "1.2.0",
            "grid_template_areas": null,
            "object_position": null,
            "object_fit": null,
            "grid_auto_columns": null,
            "margin": null,
            "display": null,
            "left": null
          }
        }
      }
    }
  },
  "cells": [
    {
      "cell_type": "markdown",
      "metadata": {
        "id": "5mkbZ4PIvlPx",
        "colab_type": "text"
      },
      "source": [
        "**Overview**<br>\n",
        "This notebook contains code for MNIST_handwritten digit classification using fastai library.<br>There's a step by step description of each cell.<br>Let's begin!!!"
      ]
    },
    {
      "cell_type": "markdown",
      "metadata": {
        "id": "4xowNQ4Y0kD8",
        "colab_type": "text"
      },
      "source": [
        "First we'll add some code for updating the imported fastai library, displaying the data in jupyter notebook and taking care of warnings that may present themselves."
      ]
    },
    {
      "cell_type": "code",
      "metadata": {
        "id": "b3aYPnBlv8UK",
        "colab_type": "code",
        "colab": {
          "base_uri": "https://localhost:8080/",
          "height": 52
        },
        "outputId": "09689a9f-32fd-4714-d422-87c12bf05a56"
      },
      "source": [
        "#Boilerplate code\n",
        "!curl -s https://course.fast.ai/setup/colab | bash\n",
        "import warnings; warnings.simplefilter('ignore')\n",
        "%reload_ext autoreload\n",
        "%autoreload 2\n",
        "%matplotlib inline"
      ],
      "execution_count": 2,
      "outputs": [
        {
          "output_type": "stream",
          "text": [
            "Updating fastai...\n",
            "Done.\n"
          ],
          "name": "stdout"
        }
      ]
    },
    {
      "cell_type": "markdown",
      "metadata": {
        "id": "0IO975_yej6i",
        "colab_type": "text"
      },
      "source": [
        "Import the necessary modules and submodules. We'll use import * to import everything we might need. This practice is frowned upon in software engineering but in fastai, import * is done without compromising maintainability and  understanding. import * only imports a chosen set of symbols and keywords."
      ]
    },
    {
      "cell_type": "code",
      "metadata": {
        "id": "-tTkpMIo01VG",
        "colab_type": "code",
        "colab": {}
      },
      "source": [
        "#making necessary imports\n",
        "from fastai import *\n",
        "from fastai.vision import *"
      ],
      "execution_count": 0,
      "outputs": []
    },
    {
      "cell_type": "markdown",
      "metadata": {
        "id": "-wbCaJaYfx8h",
        "colab_type": "text"
      },
      "source": [
        "Downloading and getting the data path.\n",
        "MNIST handwritten_digits data is already available in fastai datasets. We'll use the same."
      ]
    },
    {
      "cell_type": "code",
      "metadata": {
        "id": "vlOPxpGm1dz4",
        "colab_type": "code",
        "colab": {
          "base_uri": "https://localhost:8080/",
          "height": 34
        },
        "outputId": "773858cf-07d8-442e-ded2-dcee8eeb9dd5"
      },
      "source": [
        "path = untar_data(URLs.MNIST)"
      ],
      "execution_count": 4,
      "outputs": [
        {
          "output_type": "stream",
          "text": [
            "Downloading https://s3.amazonaws.com/fast-ai-imageclas/mnist_png.tgz\n"
          ],
          "name": "stdout"
        },
        {
          "output_type": "display_data",
          "data": {
            "text/html": [
              ""
            ],
            "text/plain": [
              "<IPython.core.display.HTML object>"
            ]
          },
          "metadata": {
            "tags": []
          }
        }
      ]
    },
    {
      "cell_type": "markdown",
      "metadata": {
        "id": "D3XVXprygI5D",
        "colab_type": "text"
      },
      "source": [
        "Let's see what we got"
      ]
    },
    {
      "cell_type": "code",
      "metadata": {
        "id": "vYgGWRC21vXd",
        "colab_type": "code",
        "colab": {
          "base_uri": "https://localhost:8080/",
          "height": 52
        },
        "outputId": "3d770b33-e1dc-410b-aeef-d6e3f6ad3861"
      },
      "source": [
        "path.ls()"
      ],
      "execution_count": 5,
      "outputs": [
        {
          "output_type": "execute_result",
          "data": {
            "text/plain": [
              "[PosixPath('/root/.fastai/data/mnist_png/training'),\n",
              " PosixPath('/root/.fastai/data/mnist_png/testing')]"
            ]
          },
          "metadata": {
            "tags": []
          },
          "execution_count": 5
        }
      ]
    },
    {
      "cell_type": "markdown",
      "metadata": {
        "id": "r5VXPkgkgP3S",
        "colab_type": "text"
      },
      "source": [
        "The extracted data contains 2 subfolders training and testing. Looking further inside these folders we see that each folder has 10 subfolders labelled from 0 to 9. These are our labels. This style of dataset organisation is use in ImageNet."
      ]
    },
    {
      "cell_type": "code",
      "metadata": {
        "id": "lJaz-gNfgeVI",
        "colab_type": "code",
        "colab": {
          "base_uri": "https://localhost:8080/",
          "height": 191
        },
        "outputId": "0f1692d7-90bc-4f28-b255-3bd4474fadbc"
      },
      "source": [
        "train = path/'training'\n",
        "test = path/'testing'\n",
        "train.ls()"
      ],
      "execution_count": 6,
      "outputs": [
        {
          "output_type": "execute_result",
          "data": {
            "text/plain": [
              "[PosixPath('/root/.fastai/data/mnist_png/training/8'),\n",
              " PosixPath('/root/.fastai/data/mnist_png/training/2'),\n",
              " PosixPath('/root/.fastai/data/mnist_png/training/7'),\n",
              " PosixPath('/root/.fastai/data/mnist_png/training/0'),\n",
              " PosixPath('/root/.fastai/data/mnist_png/training/1'),\n",
              " PosixPath('/root/.fastai/data/mnist_png/training/4'),\n",
              " PosixPath('/root/.fastai/data/mnist_png/training/3'),\n",
              " PosixPath('/root/.fastai/data/mnist_png/training/6'),\n",
              " PosixPath('/root/.fastai/data/mnist_png/training/9'),\n",
              " PosixPath('/root/.fastai/data/mnist_png/training/5')]"
            ]
          },
          "metadata": {
            "tags": []
          },
          "execution_count": 6
        }
      ]
    },
    {
      "cell_type": "markdown",
      "metadata": {
        "id": "NVxQAqIEk3Pk",
        "colab_type": "text"
      },
      "source": [
        "While performing classification tasks, it always serves well to explore the dataset. Let's check it out."
      ]
    },
    {
      "cell_type": "code",
      "metadata": {
        "id": "r4f2aXGDk2mu",
        "colab_type": "code",
        "colab": {
          "base_uri": "https://localhost:8080/",
          "height": 34
        },
        "outputId": "6187ab3d-a9a0-42d4-aa5e-7c0c9f8248f2"
      },
      "source": [
        "images = get_image_files(train/'0')\n",
        "len(images)"
      ],
      "execution_count": 7,
      "outputs": [
        {
          "output_type": "execute_result",
          "data": {
            "text/plain": [
              "5923"
            ]
          },
          "metadata": {
            "tags": []
          },
          "execution_count": 7
        }
      ]
    },
    {
      "cell_type": "markdown",
      "metadata": {
        "id": "5qI6ku_UhAMu",
        "colab_type": "text"
      },
      "source": [
        "Now we'll create an ImageDataBunch object from our path. ImageDataBunch has several factory methods to get data from different specified folder structures. For our dataset, we'll use the factory method from_folder.<br>\n",
        "An ImageDataBunch is a derived class of DataBunch class. DataBunch objects are used to train learner objects (models) in fastai.\n"
      ]
    },
    {
      "cell_type": "code",
      "metadata": {
        "id": "GwSvuNY3Kn0x",
        "colab_type": "code",
        "colab": {
          "base_uri": "https://localhost:8080/",
          "height": 312
        },
        "outputId": "1594d91a-31f4-4a19-c904-1874fadca497"
      },
      "source": [
        "data = ImageDataBunch.from_folder(path,train='training',valid = 'testing')\n",
        "data"
      ],
      "execution_count": 8,
      "outputs": [
        {
          "output_type": "execute_result",
          "data": {
            "text/plain": [
              "ImageDataBunch;\n",
              "\n",
              "Train: LabelList (60000 items)\n",
              "x: ImageList\n",
              "Image (3, 28, 28),Image (3, 28, 28),Image (3, 28, 28),Image (3, 28, 28),Image (3, 28, 28)\n",
              "y: CategoryList\n",
              "8,8,8,8,8\n",
              "Path: /root/.fastai/data/mnist_png;\n",
              "\n",
              "Valid: LabelList (10000 items)\n",
              "x: ImageList\n",
              "Image (3, 28, 28),Image (3, 28, 28),Image (3, 28, 28),Image (3, 28, 28),Image (3, 28, 28)\n",
              "y: CategoryList\n",
              "8,8,8,8,8\n",
              "Path: /root/.fastai/data/mnist_png;\n",
              "\n",
              "Test: None"
            ]
          },
          "metadata": {
            "tags": []
          },
          "execution_count": 8
        }
      ]
    },
    {
      "cell_type": "markdown",
      "metadata": {
        "id": "3hzClrcZlp7x",
        "colab_type": "text"
      },
      "source": [
        "Let's see what our images look like.<br>\n",
        "The MNIST dataset is an acronym that stands for the Modified National Institute<br> of Standards and Technology dataset. It is a dataset of 60,000 small square 28×28 pixel<br>grayscale images of handwritten single digits between 0 and 9."
      ]
    },
    {
      "cell_type": "code",
      "metadata": {
        "id": "UD95q-HJjKok",
        "colab_type": "code",
        "colab": {
          "base_uri": "https://localhost:8080/",
          "height": 369
        },
        "outputId": "208d52c0-2b49-4b33-9095-b580e8148c6a"
      },
      "source": [
        "data.show_batch(4,figsize=(5,5))"
      ],
      "execution_count": 9,
      "outputs": [
        {
          "output_type": "display_data",
          "data": {
            "image/png": "[encoded data removed]",
            "text/plain": [
              "<Figure size 360x360 with 16 Axes>"
            ]
          },
          "metadata": {
            "tags": [],
            "needs_background": "light"
          }
        }
      ]
    },
    {
      "cell_type": "markdown",
      "metadata": {
        "id": "cY6DCov0mk1p",
        "colab_type": "text"
      },
      "source": [
        "Now, we'll use a pretrained network ready for fine tuning to make our model. The model we'll use is resnet18.<br>\n",
        "The method cnn_learner downloads the pretrained weights of resnet18.<br>\n",
        "We'd like to see the error rates and accuracy metrics.<br>\n",
        "By default, when you call cnn_learner all layers other then the top layers are frozen. Lookup **Transfer Learning**."
      ]
    },
    {
      "cell_type": "code",
      "metadata": {
        "id": "Ejysge-klx6C",
        "colab_type": "code",
        "colab": {
          "base_uri": "https://localhost:8080/",
          "height": 84,
          "referenced_widgets": [
            "b39785ce73b440e285bba9a85dd0b245",
            "0849360662dc4226943f26917d628e3b",
            "ecf09b9265b8455687d61b9b54b5476a",
            "f8a9379459b745af94d1164abd9309b0",
            "9bdded1d617840dcafacf407d3627926",
            "8a6d5dd4fadf4450ac1a742be275cb00",
            "18fffb3e8cd2460dba0c13443e3c6cc2",
            "9a4bae0f7f8f4a78802f34236893c85c"
          ]
        },
        "outputId": "5fbc220f-7826-46d1-92cd-afd21c71660f"
      },
      "source": [
        "learner = cnn_learner(data,models.resnet18,metrics=[accuracy,error_rate])"
      ],
      "execution_count": 10,
      "outputs": [
        {
          "output_type": "stream",
          "text": [
            "Downloading: \"https://download.pytorch.org/models/resnet18-5c106cde.pth\" to /root/.cache/torch/checkpoints/resnet18-5c106cde.pth\n"
          ],
          "name": "stderr"
        },
        {
          "output_type": "display_data",
          "data": {
            "application/vnd.jupyter.widget-view+json": {
              "model_id": "b39785ce73b440e285bba9a85dd0b245",
              "version_minor": 0,
              "version_major": 2
            },
            "text/plain": [
              "HBox(children=(FloatProgress(value=0.0, max=46827520.0), HTML(value='')))"
            ]
          },
          "metadata": {
            "tags": []
          }
        },
        {
          "output_type": "stream",
          "text": [
            "\n"
          ],
          "name": "stdout"
        }
      ]
    },
    {
      "cell_type": "markdown",
      "metadata": {
        "id": "KnYecv8gpbde",
        "colab_type": "text"
      },
      "source": [
        "Now we can use fit or fit_one_cycle to train our model. fit method uses the classic training technique, training all layers at a constant rate.<br>\n",
        "One cycle policy changes the learning rate over-time for better training and that's what we're gonna use."
      ]
    },
    {
      "cell_type": "code",
      "metadata": {
        "id": "CtcRs-cEm36p",
        "colab_type": "code",
        "colab": {
          "base_uri": "https://localhost:8080/",
          "height": 206
        },
        "outputId": "8ee3d321-52d6-4ce2-bf52-e8b365e3be66"
      },
      "source": [
        "learner.fit_one_cycle(5)"
      ],
      "execution_count": 11,
      "outputs": [
        {
          "output_type": "display_data",
          "data": {
            "text/html": [
              "<table border=\"1\" class=\"dataframe\">\n",
              "  <thead>\n",
              "    <tr style=\"text-align: left;\">\n",
              "      <th>epoch</th>\n",
              "      <th>train_loss</th>\n",
              "      <th>valid_loss</th>\n",
              "      <th>accuracy</th>\n",
              "      <th>error_rate</th>\n",
              "      <th>time</th>\n",
              "    </tr>\n",
              "  </thead>\n",
              "  <tbody>\n",
              "    <tr>\n",
              "      <td>0</td>\n",
              "      <td>0.696766</td>\n",
              "      <td>0.505392</td>\n",
              "      <td>0.839800</td>\n",
              "      <td>0.160200</td>\n",
              "      <td>00:29</td>\n",
              "    </tr>\n",
              "    <tr>\n",
              "      <td>1</td>\n",
              "      <td>0.320941</td>\n",
              "      <td>0.176133</td>\n",
              "      <td>0.942900</td>\n",
              "      <td>0.057100</td>\n",
              "      <td>00:29</td>\n",
              "    </tr>\n",
              "    <tr>\n",
              "      <td>2</td>\n",
              "      <td>0.194322</td>\n",
              "      <td>0.115307</td>\n",
              "      <td>0.965400</td>\n",
              "      <td>0.034600</td>\n",
              "      <td>00:28</td>\n",
              "    </tr>\n",
              "    <tr>\n",
              "      <td>3</td>\n",
              "      <td>0.136863</td>\n",
              "      <td>0.085784</td>\n",
              "      <td>0.972300</td>\n",
              "      <td>0.027700</td>\n",
              "      <td>00:28</td>\n",
              "    </tr>\n",
              "    <tr>\n",
              "      <td>4</td>\n",
              "      <td>0.140161</td>\n",
              "      <td>0.081172</td>\n",
              "      <td>0.973500</td>\n",
              "      <td>0.026500</td>\n",
              "      <td>00:29</td>\n",
              "    </tr>\n",
              "  </tbody>\n",
              "</table>"
            ],
            "text/plain": [
              "<IPython.core.display.HTML object>"
            ]
          },
          "metadata": {
            "tags": []
          }
        }
      ]
    },
    {
      "cell_type": "markdown",
      "metadata": {
        "id": "c9z9Y11iuE3e",
        "colab_type": "text"
      },
      "source": [
        "Let's save this model before making further changes."
      ]
    },
    {
      "cell_type": "code",
      "metadata": {
        "id": "Xq1nA7-iuL2y",
        "colab_type": "code",
        "colab": {}
      },
      "source": [
        "learner.save('first-stage')"
      ],
      "execution_count": 0,
      "outputs": []
    },
    {
      "cell_type": "markdown",
      "metadata": {
        "id": "fdT8-SSVrn_G",
        "colab_type": "text"
      },
      "source": [
        "We obtained an accuracy of 97% and 0.025 error_rate. Now let's fine tune the model further and see if we can get better results."
      ]
    },
    {
      "cell_type": "markdown",
      "metadata": {
        "id": "QN11FRY8r_mB",
        "colab_type": "text"
      },
      "source": [
        "Now the fully connected layers are well trained. Now we'll unfreeze the rest of the layers and further train the model.<br>\n",
        "FastAI provides enhanced methods to implement transfer learning with something called differential learning rate. After unfreezing the rest of the network, we use lr_find and recorder.plot to plot the relation between learning rate and loss."
      ]
    },
    {
      "cell_type": "code",
      "metadata": {
        "id": "8yn43oQWrmwY",
        "colab_type": "code",
        "colab": {
          "base_uri": "https://localhost:8080/",
          "height": 375
        },
        "outputId": "173e8dda-2d1b-41cd-c463-3f80d3d784d8"
      },
      "source": [
        "learner.unfreeze()\n",
        "learner.lr_find()\n",
        "learner.recorder.plot()"
      ],
      "execution_count": 15,
      "outputs": [
        {
          "output_type": "display_data",
          "data": {
            "text/html": [
              "\n",
              "    <div>\n",
              "        <style>\n",
              "            /* Turns off some styling */\n",
              "            progress {\n",
              "                /* gets rid of default border in Firefox and Opera. */\n",
              "                border: none;\n",
              "                /* Needs to be in here for Safari polyfill so background images work as expected. */\n",
              "                background-size: auto;\n",
              "            }\n",
              "            .progress-bar-interrupted, .progress-bar-interrupted::-webkit-progress-bar {\n",
              "                background: #F44336;\n",
              "            }\n",
              "        </style>\n",
              "      <progress value='0' class='' max='1' style='width:300px; height:20px; vertical-align: middle;'></progress>\n",
              "      0.00% [0/1 00:00<00:00]\n",
              "    </div>\n",
              "    \n",
              "<table border=\"1\" class=\"dataframe\">\n",
              "  <thead>\n",
              "    <tr style=\"text-align: left;\">\n",
              "      <th>epoch</th>\n",
              "      <th>train_loss</th>\n",
              "      <th>valid_loss</th>\n",
              "      <th>accuracy</th>\n",
              "      <th>error_rate</th>\n",
              "      <th>time</th>\n",
              "    </tr>\n",
              "  </thead>\n",
              "  <tbody>\n",
              "  </tbody>\n",
              "</table><p>\n",
              "\n",
              "    <div>\n",
              "        <style>\n",
              "            /* Turns off some styling */\n",
              "            progress {\n",
              "                /* gets rid of default border in Firefox and Opera. */\n",
              "                border: none;\n",
              "                /* Needs to be in here for Safari polyfill so background images work as expected. */\n",
              "                background-size: auto;\n",
              "            }\n",
              "            .progress-bar-interrupted, .progress-bar-interrupted::-webkit-progress-bar {\n",
              "                background: #F44336;\n",
              "            }\n",
              "        </style>\n",
              "      <progress value='56' class='' max='937' style='width:300px; height:20px; vertical-align: middle;'></progress>\n",
              "      5.98% [56/937 00:01<00:29 0.2384]\n",
              "    </div>\n",
              "    "
            ],
            "text/plain": [
              "<IPython.core.display.HTML object>"
            ]
          },
          "metadata": {
            "tags": []
          }
        },
        {
          "output_type": "stream",
          "text": [
            "LR Finder is complete, type {learner_name}.recorder.plot() to see the graph.\n"
          ],
          "name": "stdout"
        },
        {
          "output_type": "display_data",
          "data": {
            "image/png": "[encoded data removed]",
            "text/plain": [
              "<Figure size 432x288 with 1 Axes>"
            ]
          },
          "metadata": {
            "tags": [],
            "needs_background": "light"
          }
        }
      ]
    },
    {
      "cell_type": "markdown",
      "metadata": {
        "id": "MO_jgmo0Jt3x",
        "colab_type": "text"
      },
      "source": [
        "Now I'm not entirely sure what we're doing here. I'll get back to this."
      ]
    },
    {
      "cell_type": "code",
      "metadata": {
        "id": "s_Js2R6HHQfz",
        "colab_type": "code",
        "colab": {
          "base_uri": "https://localhost:8080/",
          "height": 175
        },
        "outputId": "f77f9df3-ded1-47bf-ce7d-ef09ff880438"
      },
      "source": [
        "learner.fit_one_cycle(4,max_lr = slice(2e-05,2e-04))"
      ],
      "execution_count": 17,
      "outputs": [
        {
          "output_type": "display_data",
          "data": {
            "text/html": [
              "<table border=\"1\" class=\"dataframe\">\n",
              "  <thead>\n",
              "    <tr style=\"text-align: left;\">\n",
              "      <th>epoch</th>\n",
              "      <th>train_loss</th>\n",
              "      <th>valid_loss</th>\n",
              "      <th>accuracy</th>\n",
              "      <th>error_rate</th>\n",
              "      <th>time</th>\n",
              "    </tr>\n",
              "  </thead>\n",
              "  <tbody>\n",
              "    <tr>\n",
              "      <td>0</td>\n",
              "      <td>0.097628</td>\n",
              "      <td>0.049771</td>\n",
              "      <td>0.983400</td>\n",
              "      <td>0.016600</td>\n",
              "      <td>00:32</td>\n",
              "    </tr>\n",
              "    <tr>\n",
              "      <td>1</td>\n",
              "      <td>0.072000</td>\n",
              "      <td>0.028840</td>\n",
              "      <td>0.990600</td>\n",
              "      <td>0.009400</td>\n",
              "      <td>00:31</td>\n",
              "    </tr>\n",
              "    <tr>\n",
              "      <td>2</td>\n",
              "      <td>0.031976</td>\n",
              "      <td>0.029222</td>\n",
              "      <td>0.990800</td>\n",
              "      <td>0.009200</td>\n",
              "      <td>00:31</td>\n",
              "    </tr>\n",
              "    <tr>\n",
              "      <td>3</td>\n",
              "      <td>0.015253</td>\n",
              "      <td>0.026589</td>\n",
              "      <td>0.992200</td>\n",
              "      <td>0.007800</td>\n",
              "      <td>00:32</td>\n",
              "    </tr>\n",
              "  </tbody>\n",
              "</table>"
            ],
            "text/plain": [
              "<IPython.core.display.HTML object>"
            ]
          },
          "metadata": {
            "tags": []
          }
        }
      ]
    },
    {
      "cell_type": "markdown",
      "metadata": {
        "id": "8wy750DpJ--K",
        "colab_type": "text"
      },
      "source": [
        "This is better than our last model with an accuracy of 99.2%. Good Stuff.<br>Let's Save it."
      ]
    },
    {
      "cell_type": "code",
      "metadata": {
        "id": "w0IdrCyPJSQP",
        "colab_type": "code",
        "colab": {}
      },
      "source": [
        "learner.save('stage-2')"
      ],
      "execution_count": 0,
      "outputs": []
    },
    {
      "cell_type": "markdown",
      "metadata": {
        "id": "FDBIvzZxKOMd",
        "colab_type": "text"
      },
      "source": [
        "Let's see if we can get more accuracy by increasing epochs."
      ]
    },
    {
      "cell_type": "code",
      "metadata": {
        "id": "wEuwOpoMKLTi",
        "colab_type": "code",
        "colab": {
          "base_uri": "https://localhost:8080/",
          "height": 238
        },
        "outputId": "5a422a19-701e-4c55-b909-6f6b70dd1964"
      },
      "source": [
        "learner.load('first-stage')\n",
        "learner.unfreeze()\n",
        "learner.fit_one_cycle(6,max_lr=slice(2e-05,2e-04))"
      ],
      "execution_count": 20,
      "outputs": [
        {
          "output_type": "display_data",
          "data": {
            "text/html": [
              "<table border=\"1\" class=\"dataframe\">\n",
              "  <thead>\n",
              "    <tr style=\"text-align: left;\">\n",
              "      <th>epoch</th>\n",
              "      <th>train_loss</th>\n",
              "      <th>valid_loss</th>\n",
              "      <th>accuracy</th>\n",
              "      <th>error_rate</th>\n",
              "      <th>time</th>\n",
              "    </tr>\n",
              "  </thead>\n",
              "  <tbody>\n",
              "    <tr>\n",
              "      <td>0</td>\n",
              "      <td>0.104156</td>\n",
              "      <td>0.057387</td>\n",
              "      <td>0.982600</td>\n",
              "      <td>0.017400</td>\n",
              "      <td>00:31</td>\n",
              "    </tr>\n",
              "    <tr>\n",
              "      <td>1</td>\n",
              "      <td>0.063474</td>\n",
              "      <td>0.036922</td>\n",
              "      <td>0.987500</td>\n",
              "      <td>0.012500</td>\n",
              "      <td>00:32</td>\n",
              "    </tr>\n",
              "    <tr>\n",
              "      <td>2</td>\n",
              "      <td>0.043242</td>\n",
              "      <td>0.029498</td>\n",
              "      <td>0.989400</td>\n",
              "      <td>0.010600</td>\n",
              "      <td>00:32</td>\n",
              "    </tr>\n",
              "    <tr>\n",
              "      <td>3</td>\n",
              "      <td>0.028321</td>\n",
              "      <td>0.027364</td>\n",
              "      <td>0.990500</td>\n",
              "      <td>0.009500</td>\n",
              "      <td>00:32</td>\n",
              "    </tr>\n",
              "    <tr>\n",
              "      <td>4</td>\n",
              "      <td>0.012162</td>\n",
              "      <td>0.022330</td>\n",
              "      <td>0.992900</td>\n",
              "      <td>0.007100</td>\n",
              "      <td>00:32</td>\n",
              "    </tr>\n",
              "    <tr>\n",
              "      <td>5</td>\n",
              "      <td>0.006428</td>\n",
              "      <td>0.021719</td>\n",
              "      <td>0.993100</td>\n",
              "      <td>0.006900</td>\n",
              "      <td>00:32</td>\n",
              "    </tr>\n",
              "  </tbody>\n",
              "</table>"
            ],
            "text/plain": [
              "<IPython.core.display.HTML object>"
            ]
          },
          "metadata": {
            "tags": []
          }
        }
      ]
    },
    {
      "cell_type": "markdown",
      "metadata": {
        "id": "l_Sp2JHILWZN",
        "colab_type": "text"
      },
      "source": [
        "This is slightly better. 99.31% accuracy as compared to 99.22%."
      ]
    },
    {
      "cell_type": "code",
      "metadata": {
        "id": "xr9Eji2eKXRb",
        "colab_type": "code",
        "colab": {}
      },
      "source": [
        "learner.save('model-3')"
      ],
      "execution_count": 0,
      "outputs": []
    },
    {
      "cell_type": "markdown",
      "metadata": {
        "id": "tZ10D1_sLp1g",
        "colab_type": "text"
      },
      "source": [
        "Let's see the images our model got wrong."
      ]
    },
    {
      "cell_type": "code",
      "metadata": {
        "id": "3rwkrh5qLm-i",
        "colab_type": "code",
        "colab": {
          "base_uri": "https://localhost:8080/",
          "height": 311
        },
        "outputId": "b07baefa-6c64-4012-dca9-970401f0e6d1"
      },
      "source": [
        "interp = ClassificationInterpretation.from_learner(learner)\n",
        "interp.plot_confusion_matrix()"
      ],
      "execution_count": 25,
      "outputs": [
        {
          "output_type": "display_data",
          "data": {
            "text/html": [
              ""
            ],
            "text/plain": [
              "<IPython.core.display.HTML object>"
            ]
          },
          "metadata": {
            "tags": []
          }
        },
        {
          "output_type": "display_data",
          "data": {
            "image/png": "[encoded data removed]",
            "text/plain": [
              "<Figure size 432x288 with 1 Axes>"
            ]
          },
          "metadata": {
            "tags": [],
            "needs_background": "light"
          }
        }
      ]
    },
    {
      "cell_type": "code",
      "metadata": {
        "id": "OanhY2D3L1xO",
        "colab_type": "code",
        "colab": {
          "base_uri": "https://localhost:8080/",
          "height": 787
        },
        "outputId": "7d3f014c-cd20-41f0-d9e0-901dc4ffb02c"
      },
      "source": [
        "interp.plot_top_losses(8)"
      ],
      "execution_count": 28,
      "outputs": [
        {
          "output_type": "display_data",
          "data": {
            "image/png": "[encoded data removed]",
            "text/plain": [
              "<Figure size 864x864 with 9 Axes>"
            ]
          },
          "metadata": {
            "tags": [],
            "needs_background": "light"
          }
        }
      ]
    },
    {
      "cell_type": "code",
      "metadata": {
        "id": "LxSadDV1MgNl",
        "colab_type": "code",
        "colab": {
          "base_uri": "https://localhost:8080/",
          "height": 339
        },
        "outputId": "70011d1e-7b97-4364-be50-5e0bed0b5494"
      },
      "source": [
        "interp.plot_top_losses(9, figsize=(5,5))"
      ],
      "execution_count": 35,
      "outputs": [
        {
          "output_type": "display_data",
          "data": {
            "image/png": "[encoded data removed]",
            "text/plain": [
              "<Figure size 360x360 with 9 Axes>"
            ]
          },
          "metadata": {
            "tags": [],
            "needs_background": "light"
          }
        }
      ]
    },
    {
      "cell_type": "markdown",
      "metadata": {
        "id": "X_oRpCUkNzZK",
        "colab_type": "text"
      },
      "source": [
        "Let's try predicting a random image"
      ]
    },
    {
      "cell_type": "code",
      "metadata": {
        "id": "uPzR6YZBM4A6",
        "colab_type": "code",
        "colab": {
          "base_uri": "https://localhost:8080/",
          "height": 194
        },
        "outputId": "0ab360cf-4ac1-4f1b-db44-273b33ffec47"
      },
      "source": [
        "img = data.train_ds[13876][0]\n",
        "img.show()"
      ],
      "execution_count": 41,
      "outputs": [
        {
          "output_type": "display_data",
          "data": {
            "image/png": "[encoded data removed]",
            "text/plain": [
              "<Figure size 216x216 with 1 Axes>"
            ]
          },
          "metadata": {
            "tags": [],
            "needs_background": "light"
          }
        }
      ]
    },
    {
      "cell_type": "code",
      "metadata": {
        "id": "H-w3KseDM-it",
        "colab_type": "code",
        "colab": {
          "base_uri": "https://localhost:8080/",
          "height": 86
        },
        "outputId": "0eeaa088-7048-4cf8-bf1b-b93ab50e23fe"
      },
      "source": [
        "learner.predict(img)"
      ],
      "execution_count": 42,
      "outputs": [
        {
          "output_type": "execute_result",
          "data": {
            "text/plain": [
              "(Category tensor(7),\n",
              " tensor(7),\n",
              " tensor([3.4208e-06, 3.7989e-06, 1.1947e-05, 2.2890e-06, 1.4057e-06, 3.6737e-05,\n",
              "         1.1887e-07, 9.9988e-01, 4.9475e-05, 7.0546e-06]))"
            ]
          },
          "metadata": {
            "tags": []
          },
          "execution_count": 42
        }
      ]
    },
    {
      "cell_type": "markdown",
      "metadata": {
        "id": "eTFFsmNXOyPC",
        "colab_type": "text"
      },
      "source": [
        "IT WORKS!!!"
      ]
    },
    {
      "cell_type": "code",
      "metadata": {
        "id": "n1snPEMgOs1c",
        "colab_type": "code",
        "colab": {}
      },
      "source": [
        ""
      ],
      "execution_count": 0,
      "outputs": []
    }
  ]
}